{
 "cells": [
  {
   "cell_type": "markdown",
   "metadata": {},
   "source": [
    "# HW 2 - Naive Bayes in Hadoop MR\n",
    "__`MIDS w261: Machine Learning at Scale | UC Berkeley School of Information | Fall 2018`__\n",
    "\n",
    "In the live sessions for week 2 and week 3 you got some practice designing and debugging Hadoop Streaming jobs. In this homework we'll use Hadoop MapReduce to implement your first parallelized machine learning algorithm: Naive Bayes. As you develop your implementation you'll test it on a small dataset that matches the 'Chinese Example' in the _Manning, Raghavan and Shutze_ reading for Week 2. For the main task in this assignment you'll be working with a small subset of the Enron Spam/Ham Corpus. By the end of this assignment you should be able to:\n",
    "* __... describe__ the Naive Bayes algorithm including both training and inference.\n",
    "* __... perform__ EDA on a corpus using Hadoop MR.\n",
    "* __... implement__ parallelized Naive Bayes.\n",
    "* __... constrast__ partial, unordered and total order sort and their implementations in Hadoop Streaming.\n",
    "* __... explain__ how smoothing affects the bias and variance of a Multinomial Naive Bayes model.\n",
    "\n",
    "As always, your work will be graded both on the correctness of your output and on the clarity and design of your code. __Please refer to the `README` for homework submission instructions.__ "
   ]
  },
  {
   "cell_type": "markdown",
   "metadata": {},
   "source": [
    "## Notebook Setup\n",
    "Before starting, run the following cells to confirm your setup."
   ]
  },
  {
   "cell_type": "code",
   "execution_count": 63,
   "metadata": {},
   "outputs": [],
   "source": [
    "# imports\n",
    "import numpy as np\n",
    "import matplotlib.pyplot as plt\n",
    "%matplotlib inline\n",
    "%reload_ext autoreload\n",
    "%autoreload 2"
   ]
  },
  {
   "cell_type": "code",
   "execution_count": 2,
   "metadata": {},
   "outputs": [],
   "source": [
    "# global vars (paths) - ADJUST AS NEEDED\n",
    "# path to java archive files for the hadoop streaming application on your machine\n",
    "JAR_FILE = \"/usr/lib/hadoop-mapreduce/hadoop-streaming-2.6.0-cdh5.15.0.jar\"\n",
    "# hdfs directory where  we'll store files for this assignment\n",
    "HDFS_DIR = \"/user/root/HW2\"\n",
    "# !pwd\n",
    "HOME_DIR = \"/media/notebooks/Assignments/HW2\" # FILL IN HERE eg. /media/notebooks/Assignments/HW2"
   ]
  },
  {
   "cell_type": "code",
   "execution_count": 3,
   "metadata": {},
   "outputs": [],
   "source": [
    "# save path for use in Hadoop jobs (-cmdenv PATH={PATH})\n",
    "from os import environ\n",
    "PATH  = environ['PATH']"
   ]
  },
  {
   "cell_type": "code",
   "execution_count": 4,
   "metadata": {},
   "outputs": [],
   "source": [
    "# data path\n",
    "ENRON = \"data/enronemail_1h.txt\""
   ]
  },
  {
   "cell_type": "markdown",
   "metadata": {},
   "source": [
    "# Question 1: Hadoop MapReduce Key Takeaways.  \n",
    "\n",
    "This assignment will be the only one in which you use Hadoop Streaming to implement a distributed algorithm. The key reason we continue to teach Hadoop streaming is because of the way it forces the programmer to think carefully about what is happening under the hood when you parallelize a calculation. This question will briefly highlight some of the most important concepts that you need to understand about Hadoop Streaming and MapReduce before we move on to Spark next week.   \n",
    "\n",
    "### Q1 Tasks:\n",
    "\n",
    "* __a) short response:__ What \"programming paradigm\" is Hadoop MapReduce based on? What are the main ideas of this programming paradigm and how does MapReduce exemplify these ideas?\n",
    "\n",
    "* __b) short response:__ What is the Hadoop Shuffle? When does it happen? Why is it potentially costly? Describe one specific thing we can we do to mitigate the cost associated with this stage of our Hadoop Streaming jobs.\n",
    "\n",
    "* __c) short response:__ In Hadoop Streaming why do the input and output record format of a combiner script have to be the same? [__`HINT`__ _what level of combining does the framework guarantee? what is the relationship between the record format your mapper emits and the format your reducer expects to receive?_]\n",
    "\n",
    "* __d) short response:__ To what extent can you control the level of parallelization of your Hadoop Streaming jobs? Please be specific.\n",
    "\n",
    "* __e) short response:__ What change in the kind of computing resources available prompted the creation of parallel computation frameworks like Hadoop? "
   ]
  },
  {
   "cell_type": "markdown",
   "metadata": {},
   "source": [
    "### Q1 Student Answers:\n",
    "\n",
    "> __a)__ The Hadoop MapReduce is based on the functional programming paradigm. Functional programming is about evaluation of mathematical functions and avoids changing state and mutable data. A key feature is the concept of higher-oder functions that can accept other functions as arguments. \n",
    "> Map and Reduce can essentially be thought of as higher-oder functions that contains two parameters: a function and a list of variables. The Map/Reduce then apply the specified functions to the lists of variables. \n",
    "\n",
    "> __b)__ Hadoop Shuffle is the process by which the system paritions and sorts the mapper results and transfers to the reducers. It's potentially costly because it merges the partition file from each mapprer, combine, and generate a stream of inputs for the reducer. It priotizes the usage of memory but may also use disk (spills) when in-memory circular buffer get full. One way to mitigate such computational cost is to use in-mapper combiners which combines the records with the same key and can greatly reduce the synchronization and communication needed in the shuffle phase. \n",
    "\n",
    "> __c)__ Since we can't guarantee that the combiners are always used in a MapReduce framework, which means that reducers will be getting inputs from both the mappers and combiners, we need to make sure that the format of the mapper output (= combiner input) matches that of the combiners.   \n",
    "\n",
    "> __d)__ You can specify the number of mappers and reducers used in the framework. Increasing the number of tasks increases the framework overhead but increases load balancing and lowers the cost of failures. However, programmers have little control over where/when a mapper/reducer runs. \n",
    "\n",
    "> __e)__ The redesign of CPU from single-cole to multi-core to create more power efficient CPU enabled the design of parallel computing. Later on, distributed computing further improve the scalability of parallel computing frameworks like Hadoop."
   ]
  },
  {
   "cell_type": "markdown",
   "metadata": {},
   "source": [
    "# Question 2: MapReduce Design Patterns.  \n",
    "\n",
    "In the last two live sessions and in your readings from Lin & Dyer you encountered a number of techniques for manipulating the logistics of a MapReduce implementation to ensure that the right information is available at the right time and location. In this question we'll review a few of the key techniques you learned.   \n",
    "\n",
    "### Q2 Tasks:\n",
    "\n",
    "* __a) short response:__ What are counters (in the context of Hadoop Streaming)? How are they useful? What kinds of counters does Hadoop provide for you? How do you create your own custom counter?\n",
    "\n",
    "* __b) short response:__ What are composite keys? How are they useful? How are they related to the idea of custom partitioning?\n",
    "\n",
    "* __c) short response:__ What is the order inversion pattern? What problem does it help solve? How do we implement it? "
   ]
  },
  {
   "cell_type": "markdown",
   "metadata": {},
   "source": [
    "### Q2 Student Answers:\n",
    "\n",
    "> __a)__ Hadoop counters are typically used to monitor how many tasks have been performed at each stage and how many tasks haven't yet been processed. They are useful for users to monitor load balancing when doing Hadoop streaming. Hadoop provides the Job Tracking counters that includes File System counter, Job counter, and so on. You may create custom counter in by prining incremental outputs under certain conditions in the mapper, combiner, or reducer scripts.\n",
    "\n",
    "> __b)__ Composite keys are keys that are contructed using more than one values. They are useful when we want to not just sort by the intermediate key but also by some other value emitted by the mapper. Secondary sorting can then be performed to support custom partitioning. \n",
    "\n",
    "> __c)__ The order inversion pattern customizes the sorting phase of MapReduce to push data needed for calculations to the reducer ahead of the data that will be manipulated. It helps ensure that the spcial key-value pairs representing the partial marginal contributions are processed before the normal key-value pairs, in the context of relative-frequency calculation.\n",
    "\n",
    "> To implement order inversion, quoting from the Lin & Dyer:\n",
    "\n",
    ">>\"Emitting a special key-value pair for each co-occurring word pair in the mapper\n",
    "to capture its contribution to the marginal.\n",
    "\n",
    ">>Controlling the sort order of the intermediate key so that the key-value pairs\n",
    "representing the marginal contributions are processed by the reducer before any\n",
    "of the pairs representing the joint word co-occurrence counts.\n",
    "\n",
    ">>Defining a custom partitioner to ensure that all pairs with the same left word are\n",
    "shuffled to the same reducer.\n",
    "\n",
    ">>Preserving state across multiple keys in the reducer to first compute the marginal\n",
    "based on the special key-value pairs and then dividing the joint counts by the\n",
    "marginals to arrive at the relative frequencies.\"\n"
   ]
  },
  {
   "cell_type": "markdown",
   "metadata": {},
   "source": [
    "# Question 3: Understanding Total Order Sort\n",
    "\n",
    "The key challenge in distributed computing is to break a problem into a set of sub-problems that can be performed without communicating with each other. Ideally, we should be able to define an arbirtary number of splits and still get the right result, but that is not always possible. Parallelization becomes particularly challenging when we need to make comparisons between records, for example when sorting. Total Order Sort allows us to order large datasets in a way that enables efficient retrieval of results. Before beginning this assignment, make sure you have read and understand the [Total Order Sort Notebook](https://github.com/UCB-w261/main/blob/master/Resources/TotalSortGuide/_total-sort-guide-spark2.01-JAN27-2017.ipynb). You can skip the first two MRJob sections, but the rest of section III and all of section IV are **very** important (and apply to Hadoop Streaming) so make sure to read them closely. Feel free to read the Spark sections as well but you won't be responsible for that material until later in the course. To verify your understanding, answer the following questions.\n",
    "\n",
    "### Q3 Tasks:\n",
    "\n",
    "* __a) short response:__ What is the difference between a partial sort, an unordered total sort, and a total order sort? From the programmer's perspective, what does total order sort allow us to do that we can't with unordered total? Why is this important with large datasets?\n",
    "\n",
    "* __b) short response:__ Which phase of a MapReduce job is leveraged to implement Total Order Sort? Which default behaviors must be changed. Why must they be changed?\n",
    "\n",
    "* __c) short response:__ Describe in words how to configure a Hadoop Streaming job for the custom sorting and partitioning that is required for Total Order Sort.  \n",
    "\n",
    "* __d) short response:__ Explain why we need to use an inverse hash code function.\n",
    "\n",
    "* __e) short response:__ Where does this function need to be located so that a Total Order Sort can be performed?"
   ]
  },
  {
   "cell_type": "markdown",
   "metadata": {},
   "source": [
    "### Q3 Student Answers:\n",
    "\n",
    "> __a)__ A partial sort is a sort on mapper output keys within each partition, but not across partitions. \n",
    "\n",
    ">An unordered totoal sort is the first step for a cross-partition sorting where custom partitioning keys are used so that records get sorted into different partitions using a specify order. But due to the hash funciton used in Hadoop, an unordered total sort is when your data is sorted within each parition and across partitions but the partitions are not sorted in the right order. \n",
    "\n",
    ">In a total order sort, your data is sorted not only within each partition but the partitions are also in the right order, you've achieved a total order sort.\n",
    "\n",
    ">From the programmer's perspective, with a total order sort, you will have ordered part files so that your top results will be in the first part file and the bottom results will be in the last. This is super important because when there is a lot of part files, it'll be hard to identify the part file order if they are not ordered. This can add overhead computation for file reading and writing\n",
    "\n",
    "\n",
    "\n",
    "> __b)__ Shuffle phase is used to implement Total Order Sort. We need to use custom sorting and partitioning. By default, Hadoop sorting only sort keys within a partition. Custom sorting and partitioning allow keys to be sorted across paritions and paritions to also be sorted. \n",
    "\n",
    "> __c)__ \n",
    "\n",
    ">>1) Include a custom partition function inside mappers so that records are essentially sorted across partitions \n",
    "\n",
    ">>2) Drop internal partition key inside reducers and recover original (key,value) pairs \n",
    "\n",
    ">>3) Post-processing step to order paritions: typically take one record from each partition output and construct the appropriate ordering among partitions.\n",
    "\n",
    "> __d)__ By default, Hadoop uses a hash function to compute the partition index for keys produced by mappers. An inverse hashcode function would allow us the take the desired partition index and total number of partitions as inputs, and compute a partition key. This will allow us to properly assign partition key to implement total order sort\n",
    "\n",
    "> __e)__ This funciton needs to be placed in the partitioner for the Total Order Sort implementation.  "
   ]
  },
  {
   "cell_type": "markdown",
   "metadata": {},
   "source": [
    "# About the Data\n",
    "For the main task in this portion of the homework you will train a classifier to determine whether an email represents spam or not. You will train your Naive Bayes model on a 100 record subset of the Enron Spam/Ham corpus available in the HW2 data directory (__`HW2/data/enronemail_1h.txt`__).\n",
    "\n",
    "__Source:__   \n",
    "The original data included about 93,000 emails which were made public after the company's collapse. There have been a number raw and preprocessed versions of this corpus (including those available [here](http://www.aueb.gr/users/ion/data/enron-spam/index.html) and [here](http://www.aueb.gr/users/ion/publications.html)). The subset we will use is limited to emails from 6 Enron employees and a number of spam sources. It is part of [this data set](http://www.aueb.gr/users/ion/data/enron-spam/) which was created by researchers working on personlized Bayesian spam filters. Their original publication is [available here](http://www.aueb.gr/users/ion/docs/ceas2006_paper.pdf). __`IMPORTANT!`__ _For this homework please limit your analysis to the 100 email subset which we provide. No need to download or run your analysis on any of the original datasets, those links are merely provided as context._\n",
    "\n",
    "__Preprocessing:__  \n",
    "For their work, Metsis et al. (the authors) appeared to have pre-processed the data, not only collapsing all text to lower-case, but additionally separating \"words\" by spaces, where \"words\" unfortunately include punctuation. As a concrete example, the sentence:  \n",
    ">  `Hey Jon, I hope you don't get lost out there this weekend!`  \n",
    "\n",
    "... would have been reduced by Metsis et al. to the form:  \n",
    "> `hey jon , i hope you don ' t get lost out there this weekend !` \n",
    "\n",
    "... so we have reverted the data back toward its original state, removing spaces so that our sample sentence would now look like:\n",
    "> `hey jon, i hope you don't get lost out there this weekend!`  \n",
    "\n",
    "Thus we have at least preserved contractions and other higher-order lexical forms. However, one must be aware that this reversion is not complete, and that some object (specifically web sites) will be ill-formatted, and that all text is still lower-cased.\n",
    "\n",
    "\n",
    "__Format:__   \n",
    "All messages are collated to a tab-delimited format:  \n",
    "\n",
    ">    `ID \\t SPAM \\t SUBJECT \\t CONTENT \\n`  \n",
    "\n",
    "where:  \n",
    ">    `ID = string; unique message identifier`  \n",
    "    `SPAM = binary; with 1 indicating a spam message`  \n",
    "    `SUBJECT = string; title of the message`  \n",
    "    `CONTENT = string; content of the message`   \n",
    "    \n",
    "Note that either of `SUBJECT` or `CONTENT` may be \"NA\", and that all tab (\\t) and newline (\\n) characters have been removed from both of the `SUBJECT` and `CONTENT` columns.  "
   ]
  },
  {
   "cell_type": "code",
   "execution_count": 5,
   "metadata": {},
   "outputs": [
    {
     "name": "stdout",
     "output_type": "stream",
     "text": [
      "0001.1999-12-10.farmer\t0\t christmas tree farm pictures\tNA\n",
      "0001.1999-12-10.kaminski\t0\t re: rankings\t thank you.\n",
      "0001.2000-01-17.beck\t0\t leadership development pilot\t\" sally:  what timing, ask and you shall receiv\n",
      "0001.2000-06-06.lokay\t0\t\" key dates and impact of upcoming sap implementation over the next few week\n",
      "0001.2001-02-07.kitchen\t0\t key hr issues going forward\t a) year end reviews-report needs generating \n"
     ]
    }
   ],
   "source": [
    "# take a look at the first 100 characters of the first 5 records (RUN THIS CELL AS IS)\n",
    "!head -n 5 {ENRON} | cut -c-100"
   ]
  },
  {
   "cell_type": "code",
   "execution_count": 6,
   "metadata": {},
   "outputs": [
    {
     "name": "stdout",
     "output_type": "stream",
     "text": [
      "100 data/enronemail_1h.txt\n"
     ]
    }
   ],
   "source": [
    "# see how many messages/lines are in the file \n",
    "#(this number may be off by 1 if the last line doesn't end with a newline)\n",
    "!wc -l {ENRON}"
   ]
  },
  {
   "cell_type": "code",
   "execution_count": 5,
   "metadata": {},
   "outputs": [],
   "source": [
    "# make the HDFS directory if it doesn't already exist\n",
    "!hdfs dfs -mkdir {HDFS_DIR}"
   ]
  },
  {
   "cell_type": "code",
   "execution_count": 6,
   "metadata": {},
   "outputs": [],
   "source": [
    "# load the data into HDFS (RUN THIS CELL AS IS)\n",
    "!hdfs dfs -copyFromLocal {ENRON} {HDFS_DIR}/enron.txt"
   ]
  },
  {
   "cell_type": "markdown",
   "metadata": {},
   "source": [
    "# Question 4:  Enron Ham/Spam EDA.\n",
    "Before building our classifier, lets get aquainted with our data. In particular, we're interested in which words occur more in spam emails than in real emails. In this question you'll implement two Hadoop MapReduce jobs to count and sort word occurrences by document class. You'll also learn about two new Hadoop streaming parameters that will allow you to control how the records output of your mappers are partitioned for reducing on separate nodes. \n",
    "\n",
    "__`IMPORTANT NOTE:`__ For this question and all subsequent items, you should include both the subject and the body of the email in your analysis (i.e. concatetate them to get the 'text' of the document).\n",
    "\n",
    "### Q4 Tasks:\n",
    "* __a) code:__ Complete the missing components of the code in __`EnronEDA/mapper.py`__ and __`EnronEDA/reducer.py`__ to create a Hadoop MapReduce job that counts how many times each word in the corpus occurs in an email for each class. Pay close attention to the data format specified in the docstrings of these scripts _-- there are a number of ways to accomplish this task, we've chosen this format to help illustrate a technique in `part e`_. Run the provided unit tests to confirm that your code works as expected then run the provided Hadoop streaming command to apply your analysis to the Enron data.\n",
    "\n",
    "\n",
    "* __b) code + short response:__ How many times does the word \"__assistance__\" occur in each class? (`HINT:` Use a `grep` command to read from the results file you generated in '`a`' and then report the answer in the space provided.)\n",
    "\n",
    "\n",
    "* __c) short response:__ Would it have been possible to add some sorting parameters to the Hadoop streaming command that would cause our `part a` results to be sorted by count? Briefly explain why or why not.\n",
    "\n",
    "\n",
    "* __d) code + short response:__ Write a second Hadoop MapReduce job to sort the output of `part a` first by class and then by count. Run your job and save the results to a local file using the provide code. Then describe in words how you would go about printing the top 10 words in each class given this sorted output. (`HINT 1:` _remember that you can simply pass the `part a` output directory to the input field of this job; `HINT 2:` since this task is just reodering the records from `part a` we don't need to write a mapper or reducer, just use `/bin/cat` for both_)\n",
    "\n",
    "\n",
    "* __ e) code:__ A more efficient alternative to '`grep`-ing' for the top 10 words in each class would be to use the Hadoop framework to separate records from each class into its own partition so that we can just read the top lines in each. Edit your job from ` part d` to specify 2 reduce tasks and to tell Hadoop to partition based on the second field (which indicates spam/ham in our data). Your code should maintain the secondary sort -- that is each partition should list words from most to least frequent."
   ]
  },
  {
   "cell_type": "markdown",
   "metadata": {},
   "source": [
    "### Q4 Student Answers:\n",
    "> __b)__ The word \"assistance\" occured 8 times in spam emails and 2 times in normal emails\n",
    "\n",
    "> __c)__ No; since the stream of word has output word + class + 1 and the count hasn't been combined, there isn't a way for us to sort the words by their aggregated counts.   \n",
    "\n",
    "> __d)__ I would find and print the first ten lines of the two sorted partition files  "
   ]
  },
  {
   "cell_type": "code",
   "execution_count": 9,
   "metadata": {},
   "outputs": [],
   "source": [
    "# part a - do your work in the provided scripts then RUN THIS CELL AS IS\n",
    "!chmod a+x EnronEDA/mapper.py\n",
    "!chmod a+x EnronEDA/reducer.py"
   ]
  },
  {
   "cell_type": "code",
   "execution_count": 10,
   "metadata": {},
   "outputs": [
    {
     "name": "stdout",
     "output_type": "stream",
     "text": [
      "title\t1\t1\n",
      "body\t1\t1\n",
      "title\t0\t1\n",
      "body\t0\t1\n"
     ]
    }
   ],
   "source": [
    "# part a - unit test EnronEDA/mapper.py (RUN THIS CELL AS IS)\n",
    "!echo -e \"d1\t1\ttitle\tbody\\nd2\t0\ttitle\tbody\" | EnronEDA/mapper.py"
   ]
  },
  {
   "cell_type": "code",
   "execution_count": 11,
   "metadata": {},
   "outputs": [
    {
     "name": "stdout",
     "output_type": "stream",
     "text": [
      "one\t1\t1\n",
      "one\t0\t2\n",
      "two\t0\t1\n"
     ]
    }
   ],
   "source": [
    "# part a - unit test EnronEDA/reducer.py (RUN THIS CELL AS IS)\n",
    "!echo -e \"one\t1\t1\\none\t0\t1\\none\t0\t1\\ntwo\t0\t1\" | EnronEDA/reducer.py"
   ]
  },
  {
   "cell_type": "code",
   "execution_count": 12,
   "metadata": {},
   "outputs": [
    {
     "name": "stdout",
     "output_type": "stream",
     "text": [
      "rm: `/user/root/HW2/eda-output': No such file or directory\n"
     ]
    }
   ],
   "source": [
    "# part a - clear output directory in HDFS (RUN THIS CELL AS IS)\n",
    "!hdfs dfs -rm -r {HDFS_DIR}/eda-output"
   ]
  },
  {
   "cell_type": "code",
   "execution_count": 13,
   "metadata": {},
   "outputs": [
    {
     "name": "stdout",
     "output_type": "stream",
     "text": [
      "packageJobJar: [] [/usr/lib/hadoop-mapreduce/hadoop-streaming-2.6.0-cdh5.15.0.jar] /tmp/streamjob7151458004723333486.jar tmpDir=null\n",
      "18/09/25 20:31:22 INFO client.RMProxy: Connecting to ResourceManager at /0.0.0.0:8032\n",
      "18/09/25 20:31:22 INFO client.RMProxy: Connecting to ResourceManager at /0.0.0.0:8032\n",
      "18/09/25 20:31:23 INFO mapred.FileInputFormat: Total input paths to process : 1\n",
      "18/09/25 20:31:23 INFO mapreduce.JobSubmitter: number of splits:2\n",
      "18/09/25 20:31:23 INFO mapreduce.JobSubmitter: Submitting tokens for job: job_1537907394596_0001\n",
      "18/09/25 20:31:24 INFO impl.YarnClientImpl: Submitted application application_1537907394596_0001\n",
      "18/09/25 20:31:24 INFO mapreduce.Job: The url to track the job: http://docker.w261:8088/proxy/application_1537907394596_0001/\n",
      "18/09/25 20:31:24 INFO mapreduce.Job: Running job: job_1537907394596_0001\n",
      "18/09/25 20:31:32 INFO mapreduce.Job: Job job_1537907394596_0001 running in uber mode : false\n",
      "18/09/25 20:31:32 INFO mapreduce.Job:  map 0% reduce 0%\n",
      "18/09/25 20:31:40 INFO mapreduce.Job:  map 50% reduce 0%\n",
      "18/09/25 20:31:41 INFO mapreduce.Job:  map 100% reduce 0%\n",
      "18/09/25 20:31:48 INFO mapreduce.Job:  map 100% reduce 100%\n",
      "18/09/25 20:31:49 INFO mapreduce.Job: Job job_1537907394596_0001 completed successfully\n",
      "18/09/25 20:31:49 INFO mapreduce.Job: Counters: 49\n",
      "\tFile System Counters\n",
      "\t\tFILE: Number of bytes read=369010\n",
      "\t\tFILE: Number of bytes written=1335110\n",
      "\t\tFILE: Number of read operations=0\n",
      "\t\tFILE: Number of large read operations=0\n",
      "\t\tFILE: Number of write operations=0\n",
      "\t\tHDFS: Number of bytes read=217061\n",
      "\t\tHDFS: Number of bytes written=70551\n",
      "\t\tHDFS: Number of read operations=12\n",
      "\t\tHDFS: Number of large read operations=0\n",
      "\t\tHDFS: Number of write operations=4\n",
      "\tJob Counters \n",
      "\t\tLaunched map tasks=2\n",
      "\t\tLaunched reduce tasks=2\n",
      "\t\tData-local map tasks=2\n",
      "\t\tTotal time spent by all maps in occupied slots (ms)=9941\n",
      "\t\tTotal time spent by all reduces in occupied slots (ms)=9619\n",
      "\t\tTotal time spent by all map tasks (ms)=9941\n",
      "\t\tTotal time spent by all reduce tasks (ms)=9619\n",
      "\t\tTotal vcore-milliseconds taken by all map tasks=9941\n",
      "\t\tTotal vcore-milliseconds taken by all reduce tasks=9619\n",
      "\t\tTotal megabyte-milliseconds taken by all map tasks=10179584\n",
      "\t\tTotal megabyte-milliseconds taken by all reduce tasks=9849856\n",
      "\tMap-Reduce Framework\n",
      "\t\tMap input records=100\n",
      "\t\tMap output records=31490\n",
      "\t\tMap output bytes=306018\n",
      "\t\tMap output materialized bytes=369022\n",
      "\t\tInput split bytes=214\n",
      "\t\tCombine input records=0\n",
      "\t\tCombine output records=0\n",
      "\t\tReduce input groups=5065\n",
      "\t\tReduce shuffle bytes=369022\n",
      "\t\tReduce input records=31490\n",
      "\t\tReduce output records=6060\n",
      "\t\tSpilled Records=62980\n",
      "\t\tShuffled Maps =4\n",
      "\t\tFailed Shuffles=0\n",
      "\t\tMerged Map outputs=4\n",
      "\t\tGC time elapsed (ms)=114\n",
      "\t\tCPU time spent (ms)=7110\n",
      "\t\tPhysical memory (bytes) snapshot=945225728\n",
      "\t\tVirtual memory (bytes) snapshot=5499547648\n",
      "\t\tTotal committed heap usage (bytes)=742391808\n",
      "\tShuffle Errors\n",
      "\t\tBAD_ID=0\n",
      "\t\tCONNECTION=0\n",
      "\t\tIO_ERROR=0\n",
      "\t\tWRONG_LENGTH=0\n",
      "\t\tWRONG_MAP=0\n",
      "\t\tWRONG_REDUCE=0\n",
      "\tFile Input Format Counters \n",
      "\t\tBytes Read=216847\n",
      "\tFile Output Format Counters \n",
      "\t\tBytes Written=70551\n",
      "18/09/25 20:31:49 INFO streaming.StreamJob: Output directory: /user/root/HW2/eda-output\n"
     ]
    }
   ],
   "source": [
    "# part a - Hadoop streaming job (RUN THIS CELL AS IS)\n",
    "!hadoop jar {JAR_FILE} \\\n",
    "  -files EnronEDA/reducer.py,EnronEDA/mapper.py \\\n",
    "  -mapper mapper.py \\\n",
    "  -reducer reducer.py \\\n",
    "  -input {HDFS_DIR}/enron.txt \\\n",
    "  -output {HDFS_DIR}/eda-output \\\n",
    "  -numReduceTasks 2 \\\n",
    "  -cmdenv PATH={PATH}"
   ]
  },
  {
   "cell_type": "code",
   "execution_count": 14,
   "metadata": {},
   "outputs": [],
   "source": [
    "# part a - retrieve results from HDFS & copy them into a local file (RUN THIS CELL AS IS)\n",
    "!hdfs dfs -cat {HDFS_DIR}/eda-output/part-0000* > EnronEDA/results.txt"
   ]
  },
  {
   "cell_type": "code",
   "execution_count": 15,
   "metadata": {},
   "outputs": [
    {
     "name": "stdout",
     "output_type": "stream",
     "text": [
      "assistance\t1\t8\n",
      "assistance\t0\t2\n"
     ]
    }
   ],
   "source": [
    "# part b - write your grep command here\n",
    "!grep assistance  EnronEDA/results.txt"
   ]
  },
  {
   "cell_type": "code",
   "execution_count": 48,
   "metadata": {},
   "outputs": [
    {
     "name": "stdout",
     "output_type": "stream",
     "text": [
      "Deleted /user/root/HW2/eda-sort-output\n"
     ]
    }
   ],
   "source": [
    "# part d/e - clear the output directory in HDFS (RUN THIS CELL AS IS)\n",
    "!hdfs dfs -rm -r {HDFS_DIR}/eda-sort-output"
   ]
  },
  {
   "cell_type": "code",
   "execution_count": 49,
   "metadata": {},
   "outputs": [
    {
     "name": "stdout",
     "output_type": "stream",
     "text": [
      "packageJobJar: [] [/usr/lib/hadoop-mapreduce/hadoop-streaming-2.6.0-cdh5.15.0.jar] /tmp/streamjob4163844766896019299.jar tmpDir=null\n",
      "18/09/25 20:57:44 INFO client.RMProxy: Connecting to ResourceManager at /0.0.0.0:8032\n",
      "18/09/25 20:57:45 INFO client.RMProxy: Connecting to ResourceManager at /0.0.0.0:8032\n",
      "18/09/25 20:57:45 INFO mapred.FileInputFormat: Total input paths to process : 2\n",
      "18/09/25 20:57:45 INFO mapreduce.JobSubmitter: number of splits:2\n",
      "18/09/25 20:57:45 INFO mapreduce.JobSubmitter: Submitting tokens for job: job_1537907394596_0011\n",
      "18/09/25 20:57:45 INFO impl.YarnClientImpl: Submitted application application_1537907394596_0011\n",
      "18/09/25 20:57:46 INFO mapreduce.Job: The url to track the job: http://docker.w261:8088/proxy/application_1537907394596_0011/\n",
      "18/09/25 20:57:46 INFO mapreduce.Job: Running job: job_1537907394596_0011\n",
      "18/09/25 20:57:53 INFO mapreduce.Job: Job job_1537907394596_0011 running in uber mode : false\n",
      "18/09/25 20:57:53 INFO mapreduce.Job:  map 0% reduce 0%\n",
      "18/09/25 20:58:00 INFO mapreduce.Job:  map 50% reduce 0%\n",
      "18/09/25 20:58:01 INFO mapreduce.Job:  map 100% reduce 0%\n",
      "18/09/25 20:58:07 INFO mapreduce.Job:  map 100% reduce 50%\n",
      "18/09/25 20:58:08 INFO mapreduce.Job:  map 100% reduce 100%\n",
      "18/09/25 20:58:08 INFO mapreduce.Job: Job job_1537907394596_0011 completed successfully\n",
      "18/09/25 20:58:08 INFO mapreduce.Job: Counters: 49\n",
      "\tFile System Counters\n",
      "\t\tFILE: Number of bytes read=88743\n",
      "\t\tFILE: Number of bytes written=772148\n",
      "\t\tFILE: Number of read operations=0\n",
      "\t\tFILE: Number of large read operations=0\n",
      "\t\tFILE: Number of write operations=0\n",
      "\t\tHDFS: Number of bytes read=70789\n",
      "\t\tHDFS: Number of bytes written=76611\n",
      "\t\tHDFS: Number of read operations=12\n",
      "\t\tHDFS: Number of large read operations=0\n",
      "\t\tHDFS: Number of write operations=4\n",
      "\tJob Counters \n",
      "\t\tLaunched map tasks=2\n",
      "\t\tLaunched reduce tasks=2\n",
      "\t\tData-local map tasks=2\n",
      "\t\tTotal time spent by all maps in occupied slots (ms)=8529\n",
      "\t\tTotal time spent by all reduces in occupied slots (ms)=7391\n",
      "\t\tTotal time spent by all map tasks (ms)=8529\n",
      "\t\tTotal time spent by all reduce tasks (ms)=7391\n",
      "\t\tTotal vcore-milliseconds taken by all map tasks=8529\n",
      "\t\tTotal vcore-milliseconds taken by all reduce tasks=7391\n",
      "\t\tTotal megabyte-milliseconds taken by all map tasks=8733696\n",
      "\t\tTotal megabyte-milliseconds taken by all reduce tasks=7568384\n",
      "\tMap-Reduce Framework\n",
      "\t\tMap input records=6060\n",
      "\t\tMap output records=6060\n",
      "\t\tMap output bytes=76611\n",
      "\t\tMap output materialized bytes=88755\n",
      "\t\tInput split bytes=238\n",
      "\t\tCombine input records=0\n",
      "\t\tCombine output records=0\n",
      "\t\tReduce input groups=6060\n",
      "\t\tReduce shuffle bytes=88755\n",
      "\t\tReduce input records=6060\n",
      "\t\tReduce output records=6060\n",
      "\t\tSpilled Records=12120\n",
      "\t\tShuffled Maps =4\n",
      "\t\tFailed Shuffles=0\n",
      "\t\tMerged Map outputs=4\n",
      "\t\tGC time elapsed (ms)=108\n",
      "\t\tCPU time spent (ms)=4490\n",
      "\t\tPhysical memory (bytes) snapshot=993099776\n",
      "\t\tVirtual memory (bytes) snapshot=5511630848\n",
      "\t\tTotal committed heap usage (bytes)=880803840\n",
      "\tShuffle Errors\n",
      "\t\tBAD_ID=0\n",
      "\t\tCONNECTION=0\n",
      "\t\tIO_ERROR=0\n",
      "\t\tWRONG_LENGTH=0\n",
      "\t\tWRONG_MAP=0\n",
      "\t\tWRONG_REDUCE=0\n",
      "\tFile Input Format Counters \n",
      "\t\tBytes Read=70551\n",
      "\tFile Output Format Counters \n",
      "\t\tBytes Written=76611\n",
      "18/09/25 20:58:08 INFO streaming.StreamJob: Output directory: /user/root/HW2/eda-sort-output\n"
     ]
    }
   ],
   "source": [
    "# part d/e - write your Hadoop streaming job here\n",
    "!hadoop jar {JAR_FILE} \\\n",
    "  -D stream.num.map.output.key.fields=3 \\\n",
    "  -D mapreduce.job.output.key.comparator.class=org.apache.hadoop.mapred.lib.KeyFieldBasedComparator \\\n",
    "  -D mapreduce.partition.keypartitioner.options=\"-k2,2\" \\\n",
    "  -D mapreduce.partition.keycomparator.options=\"-K2,2 -k3,3nr\" \\\n",
    "  -mapper /bin/cat \\\n",
    "  -reducer /bin/cat \\\n",
    "  -partitioner org.apache.hadoop.mapred.lib.KeyFieldBasedPartitioner \\\n",
    "  -input {HDFS_DIR}/eda-output \\\n",
    "  -output {HDFS_DIR}/eda-sort-output \\\n",
    "  -numReduceTasks 2 \\\n",
    "  -cmdenv PATH={PATH}"
   ]
  },
  {
   "cell_type": "code",
   "execution_count": 50,
   "metadata": {},
   "outputs": [
    {
     "name": "stdout",
     "output_type": "stream",
     "text": [
      "\n",
      "===== part-00000=====\n",
      "\n",
      "the\t0\t549\t\n",
      "to\t0\t398\t\n",
      "ect\t0\t382\t\n",
      "and\t0\t278\t\n",
      "of\t0\t230\t\n",
      "hou\t0\t206\t\n",
      "a\t0\t196\t\n",
      "in\t0\t182\t\n",
      "for\t0\t170\t\n",
      "on\t0\t135\t\n",
      "cat: Unable to write to output stream.\n",
      "\n",
      "===== part-00001=====\n",
      "\n",
      "the\t1\t698\t\n",
      "to\t1\t566\t\n",
      "and\t1\t392\t\n",
      "your\t1\t357\t\n",
      "a\t1\t347\t\n",
      "you\t1\t345\t\n",
      "of\t1\t336\t\n",
      "in\t1\t236\t\n",
      "for\t1\t204\t\n",
      "com\t1\t153\t\n",
      "cat: Unable to write to output stream.\n"
     ]
    }
   ],
   "source": [
    "# part e - view the top 10 records from each partition (RUN THIS CELL AS IS)\n",
    "for idx in range(2):\n",
    "    print(f\"\\n===== part-0000{idx}=====\\n\")\n",
    "    !hdfs dfs -cat {HDFS_DIR}/eda-sort-output/part-0000{idx} | head"
   ]
  },
  {
   "cell_type": "markdown",
   "metadata": {},
   "source": [
    "__Expected output:__\n",
    "<table>\n",
    "<th>part-00000:</th>\n",
    "<th>part-00001:</th>\n",
    "<tr><td><pre>\n",
    "the\t0\t549\t\n",
    "to\t0\t398\t\n",
    "ect\t0\t382\t\n",
    "and\t0\t278\t\n",
    "of\t0\t230\t\n",
    "hou\t0\t206\t\n",
    "a\t0\t196\t\n",
    "in\t0\t182\t\n",
    "for\t0\t170\t\n",
    "on\t0\t135\n",
    "</pre></td>\n",
    "<td><pre>\n",
    "the\t1\t698\t\n",
    "to\t1\t566\t\n",
    "and\t1\t392\t\n",
    "your\t1\t357\t\n",
    "a\t1\t347\t\n",
    "you\t1\t345\t\n",
    "of\t1\t336\t\n",
    "in\t1\t236\t\n",
    "for\t1\t204\t\n",
    "com\t1\t153\n",
    "</pre></td></tr>\n",
    "</table>"
   ]
  },
  {
   "cell_type": "markdown",
   "metadata": {},
   "source": [
    "# Question 5: Counters and Combiners.\n",
    "Tuning the number of mappers & reducers is helpful to optimize very large distributed computations. Doing so successfully requires a thorough understanding of the data size at each stage of the job. As you learned in the week3 live session, counters are an invaluable resource for understanding this kind of detail. In this question, we will take the EDA performed in Question 4 as an opportunity to illustrate some related concepts.\n",
    "\n",
    "### Q5 Tasks:\n",
    "* __a) short response:__ Read the Hadoop output from your job in Question 4a to report how many records are emitted by the mappers and how many records are received be the reducers. In the context of word counting what does this number represent practically?\n",
    "\n",
    "* __b) code:__ Note that we wrote the reducer in question 4a such that the input and output record format is identical. This makes it easy to use the same reducer script as a combiner. In the space provided below, write the Hadoop Streaming command to re-run your job from question 4a with this combining added.\n",
    "\n",
    "* __c) short response__: Report the number of records emitted by your mappers in part b and the number of records received by your reducers. Compare your results here to what you saw in part a. Explain.\n",
    "\n",
    "* __d) short response__: Describe a scenario where using a combiner would _NOT_ improve the efficiency of the shuffle stage. Explain. [__`BONUS:`__ how does increasing the number of mappers affect the usefulness of a combiner?]"
   ]
  },
  {
   "cell_type": "markdown",
   "metadata": {},
   "source": [
    "### Q5 Student Answers:\n",
    "> __a)__ According to the job output, 31490 records are emitted by the mappers and the same amount of records are received by the reducers. This number represent the total number of word occurrences in the 100 emails.\n",
    "\n",
    "> __c)__ The number of records emitted by the mappers is still 31490 but the number of records received by the reducers decreased to 7638. That's because the implemented combiners have done mapper-level aggregation before feeding records into reducers.   \n",
    "\n",
    "> __d)__ If the input to the mappers are extremely sparse (worst case: a corpus with maximum word occurance of 1), then the combiner would not increase the efficiency of the shuffle stage since the output from the combiners will be the same as the outputs from the mappers. The more mappers we use, the less useful the combiners will be since the results from each mapper would be more sparse.  "
   ]
  },
  {
   "cell_type": "code",
   "execution_count": 57,
   "metadata": {},
   "outputs": [
    {
     "name": "stdout",
     "output_type": "stream",
     "text": [
      "6060 EnronEDA/results.txt\n"
     ]
    }
   ],
   "source": [
    "!wc -l EnronEDA/results.txt"
   ]
  },
  {
   "cell_type": "code",
   "execution_count": 58,
   "metadata": {},
   "outputs": [
    {
     "name": "stdout",
     "output_type": "stream",
     "text": [
      "Deleted /user/root/HW2/eda-output\n"
     ]
    }
   ],
   "source": [
    "# part b - clear output directory in HDFS (RUN THIS CELL AS IS)\n",
    "!hdfs dfs -rm -r {HDFS_DIR}/eda-output"
   ]
  },
  {
   "cell_type": "code",
   "execution_count": 59,
   "metadata": {},
   "outputs": [
    {
     "name": "stdout",
     "output_type": "stream",
     "text": [
      "packageJobJar: [] [/usr/lib/hadoop-mapreduce/hadoop-streaming-2.6.0-cdh5.15.0.jar] /tmp/streamjob4589378496443444148.jar tmpDir=null\n",
      "18/09/25 21:45:48 INFO client.RMProxy: Connecting to ResourceManager at /0.0.0.0:8032\n",
      "18/09/25 21:45:49 INFO client.RMProxy: Connecting to ResourceManager at /0.0.0.0:8032\n",
      "18/09/25 21:45:50 INFO mapred.FileInputFormat: Total input paths to process : 1\n",
      "18/09/25 21:45:50 INFO mapreduce.JobSubmitter: number of splits:2\n",
      "18/09/25 21:45:50 INFO mapreduce.JobSubmitter: Submitting tokens for job: job_1537907394596_0012\n",
      "18/09/25 21:45:50 INFO impl.YarnClientImpl: Submitted application application_1537907394596_0012\n",
      "18/09/25 21:45:50 INFO mapreduce.Job: The url to track the job: http://docker.w261:8088/proxy/application_1537907394596_0012/\n",
      "18/09/25 21:45:50 INFO mapreduce.Job: Running job: job_1537907394596_0012\n",
      "18/09/25 21:45:59 INFO mapreduce.Job: Job job_1537907394596_0012 running in uber mode : false\n",
      "18/09/25 21:45:59 INFO mapreduce.Job:  map 0% reduce 0%\n",
      "18/09/25 21:46:06 INFO mapreduce.Job:  map 50% reduce 0%\n",
      "18/09/25 21:46:07 INFO mapreduce.Job:  map 100% reduce 0%\n",
      "18/09/25 21:46:13 INFO mapreduce.Job:  map 100% reduce 50%\n",
      "18/09/25 21:46:14 INFO mapreduce.Job:  map 100% reduce 100%\n",
      "18/09/25 21:46:14 INFO mapreduce.Job: Job job_1537907394596_0012 completed successfully\n",
      "18/09/25 21:46:14 INFO mapreduce.Job: Counters: 49\n",
      "\tFile System Counters\n",
      "\t\tFILE: Number of bytes read=102833\n",
      "\t\tFILE: Number of bytes written=804168\n",
      "\t\tFILE: Number of read operations=0\n",
      "\t\tFILE: Number of large read operations=0\n",
      "\t\tFILE: Number of write operations=0\n",
      "\t\tHDFS: Number of bytes read=217061\n",
      "\t\tHDFS: Number of bytes written=70551\n",
      "\t\tHDFS: Number of read operations=12\n",
      "\t\tHDFS: Number of large read operations=0\n",
      "\t\tHDFS: Number of write operations=4\n",
      "\tJob Counters \n",
      "\t\tLaunched map tasks=2\n",
      "\t\tLaunched reduce tasks=2\n",
      "\t\tData-local map tasks=2\n",
      "\t\tTotal time spent by all maps in occupied slots (ms)=10941\n",
      "\t\tTotal time spent by all reduces in occupied slots (ms)=8936\n",
      "\t\tTotal time spent by all map tasks (ms)=10941\n",
      "\t\tTotal time spent by all reduce tasks (ms)=8936\n",
      "\t\tTotal vcore-milliseconds taken by all map tasks=10941\n",
      "\t\tTotal vcore-milliseconds taken by all reduce tasks=8936\n",
      "\t\tTotal megabyte-milliseconds taken by all map tasks=11203584\n",
      "\t\tTotal megabyte-milliseconds taken by all reduce tasks=9150464\n",
      "\tMap-Reduce Framework\n",
      "\t\tMap input records=100\n",
      "\t\tMap output records=31490\n",
      "\t\tMap output bytes=306018\n",
      "\t\tMap output materialized bytes=102845\n",
      "\t\tInput split bytes=214\n",
      "\t\tCombine input records=31490\n",
      "\t\tCombine output records=7648\n",
      "\t\tReduce input groups=5065\n",
      "\t\tReduce shuffle bytes=102845\n",
      "\t\tReduce input records=7648\n",
      "\t\tReduce output records=6060\n",
      "\t\tSpilled Records=15296\n",
      "\t\tShuffled Maps =4\n",
      "\t\tFailed Shuffles=0\n",
      "\t\tMerged Map outputs=4\n",
      "\t\tGC time elapsed (ms)=182\n",
      "\t\tCPU time spent (ms)=6850\n",
      "\t\tPhysical memory (bytes) snapshot=1005948928\n",
      "\t\tVirtual memory (bytes) snapshot=5516775424\n",
      "\t\tTotal committed heap usage (bytes)=948961280\n",
      "\tShuffle Errors\n",
      "\t\tBAD_ID=0\n",
      "\t\tCONNECTION=0\n",
      "\t\tIO_ERROR=0\n",
      "\t\tWRONG_LENGTH=0\n",
      "\t\tWRONG_MAP=0\n",
      "\t\tWRONG_REDUCE=0\n",
      "\tFile Input Format Counters \n",
      "\t\tBytes Read=216847\n",
      "\tFile Output Format Counters \n",
      "\t\tBytes Written=70551\n",
      "18/09/25 21:46:14 INFO streaming.StreamJob: Output directory: /user/root/HW2/eda-output\n"
     ]
    }
   ],
   "source": [
    "# part b - write your Hadoop streaming job here\n",
    "!hadoop jar {JAR_FILE} \\\n",
    "  -files EnronEDA/reducer.py,EnronEDA/mapper.py \\\n",
    "  -mapper mapper.py \\\n",
    "  -combiner reducer.py \\\n",
    "  -reducer reducer.py \\\n",
    "  -input {HDFS_DIR}/enron.txt \\\n",
    "  -output {HDFS_DIR}/eda-output \\\n",
    "  -numReduceTasks 2 \\\n",
    "  -cmdenv PATH={PATH}"
   ]
  },
  {
   "cell_type": "markdown",
   "metadata": {},
   "source": [
    "# Question 6: Document Classification Task Overview.\n",
    "The week 2 assigned reading from Chapter 13 of _Introduction to Information Retrieval_ by Manning, Raghavan and Schutze provides a thorough introduction to the document classification task and the math behind Naive Bayes. In this question we'll use the example from Table 13.1 (reproduced below) to 'train' an unsmoothed Multinomial Naive Bayes model and classify a test document by hand.\n",
    "\n",
    "<table>\n",
    "<th>DocID</th>\n",
    "<th>Class</th>\n",
    "<th>Subject</th>\n",
    "<th>Body</th>\n",
    "<tr><td>Doc1</td><td>1</td><td></td><td>Chinese Beijing Chinese</td></tr>\n",
    "<tr><td>Doc2</td><td>1</td><td></td><td>Chinese Chinese Shanghai</td></tr>\n",
    "<tr><td>Doc3</td><td>1</td><td></td><td>Chinese Macao</td></tr>\n",
    "<tr><td>Doc4</td><td>0</td><td></td><td>Tokyo Japan Chinese</td></tr>\n",
    "</table>\n",
    "\n",
    "### Q6 Tasks:\n",
    "* __a) short response:__ Equation 13.3 in Manning, Raghavan and Shutze shows how a Multinomial Naive Bayes model classifies a document. It predicts the class, $c$, for which the estimated conditional probability of the class given the document's contents,  $\\hat{P}(c|d)$, is greatest. In this equation what two pieces of information are required to calculate  $\\hat{P}(c|d)$? Your answer should include both mathematical notatation and verbal explanation.\n",
    "\n",
    "\n",
    "* __b) short response:__ The Enron data includes two classes of documents: `spam` and `ham` (they're actually labeled `1` and `0`). In plain English, explain what  $\\hat{P}(c)$ and   $\\hat{P}(t_{k} | c)$ mean in the context of this data. How will we would estimate these values from a training corpus? How many passes over the data would we need to make to retrieve this information for all classes and all words?\n",
    "\n",
    "\n",
    "* __c) hand calculations:__ Above we've reproduced the document classification example from the textbook (we added an empty subject field to mimic the Enron data format). Remember that the classes in this \"Chinese Example\" are `1` (about China) and `0` (not about China). Calculate the class priors and the conditional probabilities for an __unsmoothed__ Multinomial Naive Bayes model trained on this data. Show the calculations that lead to your result using markdown and $\\LaTeX$ in the space provided or by embedding an image of your hand written work. [`NOTE:` _Your results should NOT match those in the text -- they are training a model with +1 smoothing you are training a model without smoothing_]\n",
    "\n",
    "\n",
    "* __d) hand calculations:__ Use the model you trained to classify the following test document: `Chinese Chinese Chinese Tokyo Japan`. Show the calculations that lead to your result using markdown and   $\\LaTeX$ in the space provided or by embedding an image of your hand written work.\n",
    "\n",
    "\n",
    "* __e) short response:__ Compare the classification you get from this unsmoothed model in `d`/`e` to the results in the textbook's \"Example 1\" which reflects a model with Laplace plus 1 smoothing. How does smoothing affect our inference?"
   ]
  },
  {
   "cell_type": "markdown",
   "metadata": {},
   "source": [
    "### Q6 Student Answers:\n",
    "> __a)__ To cacalute $\\hat{P}(c|d)$, we would need to know 1) the prior $\\hat{P}(c)$ which is the estimated probability of class c and 2) the $\\hat{P}(t_k|c)$ which is the estimated probability of the occurence of term $t_k$ given the class c.\n",
    "\n",
    "> __b)__ In this case, $\\hat{P}(c)$ means the estimated probability of spam emails (if c denotes 'spam'). This can be calculated using (# of spam emails) / (total # of emails) from the training corpus. $\\hat{P}(t_k|c)$ is the estimated probability of the occurence of term $t_k$ given the the email is a spam. This can be calculated using (# of occurences of term $t_k$ in spam) / (# of words in spam). This calculation only needs one pass through the training data. \n",
    "\n",
    "> __c)__ Priors: $\\hat{P}(c)$ = $3/4$; $\\hat{P}(\\overline{c})$ = $1/4$\n",
    "\n",
    ">Conditional Probabilities:\n",
    "\n",
    ">>$\\hat{P}(Chinese|c)$ = $5/8$\n",
    "\n",
    ">>$\\hat{P}(Beijing|c)$ = $\\hat{P}(Shanghai|c)$= $\\hat{P}(Macao|c)$= $1/8$\n",
    "\n",
    ">>$\\hat{P}(Tokyo|c)$ = $\\hat{P}(Japan|c)$ = $0/8$ = $0$\n",
    "\n",
    ">>$\\hat{P}(Chinese|\\overline{c})$ = $\\hat{P}(Tokyo|\\overline{c})$ = $\\hat{P}(Japan|\\overline{c})$ = $1/3$\n",
    "\n",
    ">>$\\hat{P}(Beijing|\\overline{c})$ = $\\hat{P}(Shanghai|\\overline{c})$= $\\hat{P}(Macao|\\overline{c})$= $0/3$ = $0$\n",
    "\n",
    "\n",
    "\n",
    "> __d)__ \n",
    "\n",
    ">$\\hat{P}(c|d)$ = $$3/4 * (5/8)^3 * 0 * 0 = 0$$\n",
    "\n",
    ">$\\hat{P}(\\overline{c}|d)$ = $$1/4 * (1/3)^3 * 1/3 * 1/3 = 0.001$$\n",
    "\n",
    "> -> d is classified as $\\overline{c}$\n",
    "\n",
    "\n",
    "> __e)__ Our result is opposite from the example in the book with Laplace plus 1 smoothing. The smoothing helps with dealing with the conditional probablities of terms that don't occur in a specific class. Hence in this case, $\\hat{P}(Tokyo|c)$ would have been a non-zero value with the smoothing\n"
   ]
  },
  {
   "cell_type": "code",
   "execution_count": 3,
   "metadata": {},
   "outputs": [],
   "source": [
    "# part d/e - if you didn't write out your calcuations above, embed a picture of them here:\n",
    "# from IPython.display import Image\n",
    "# Image(filename=\"path-to-hand-calulations-image.png\")"
   ]
  },
  {
   "cell_type": "markdown",
   "metadata": {},
   "source": [
    "# Question 7: Naive Bayes Inference.\n",
    "In the next two questions you'll write code to parallelize the Naive Bayes calculations that you performed above. We'll do this in two phases: one MapReduce job to perform training and a second MapReduce to perform inference. While in practice we'd need to train a model before we can use it to classify documents, for learning purposes we're going to develop our code in the opposite order. By first focusing on the pieces of information/format we need to perform the classification (inference) task you should find it easier to develop a solid implementation for training phase when you get to question 8 below. In both of these questions we'll continue to use the Chinese example corpus from the textbook to help us test our MapReduce code as we develop it. Below we've reproduced the corpus, test set and model in text format that matches the Enron data.\n",
    "\n",
    "### Q7 Tasks:\n",
    "* __a) short response:__ run the provided cells to create the example files and load them in to HDFS. Then take a closer look at __`NBmodel.txt`__. This text file represents a Naive Bayes model trained (with Laplace +1 smoothing) on the example corpus. What are the 'keys' and 'values' in this file? Which record means something slightly different than the rest? The value field of each record includes two numbers which will be helpful for debugging but which we don't actually need to perform inference -- what are they? [`HINT`: _This file represents the model from Example 13.1 in the textbook, if you're having trouble getting oriented try comparing our file to the numbers in that example._]\n",
    "\n",
    "\n",
    "* __b) short response:__ When performing Naive Bayes in practice instead of multiplying the probabilities (as in equation 13.3) we add their logs (as in equation 13.4). Why do we choose to work with log probabilities? If we had an unsmoothed model, what potential error could arise from this transformation?\n",
    "\n",
    "\n",
    "* __c) short response:__ Documents 6 and 8 in the test set include a word that did not appear in the training corpus (and as a result does not appear in the model). What should we do at inference time when we need a class conditional probability for this word?\n",
    "\n",
    "\n",
    "* __d) short response:__ The goal of our MapReduce job is to stream over the test set and classify each document by peforming the calculation from equation 13.4. To do this we'll load the model file (which contains the probabilities for equation 13.4) into memory on the nodes where we do our mapping. This is called an in-memory join. Does loading a model 'state' like this depart from the functional programming principles? Explain why or why not. From a scability perspective when would this kind of memory use be justified? when would it be unwise?\n",
    "\n",
    "\n",
    "* __e) code:__ Complete the code in __`NaiveBayes/classify_mapper.py`__. Read the docstring carefully to understand how this script should work and the format it should return. Run the provided unit tests to confirm that your script works as expected then write a Hadoop streaming job to classify the Chinese example test set. [`HINT 1:` _you shouldn't need a reducer for this one._ `HINT 2:` _Don't forget to add the model file to the_ `-files` _parameter in your Hadoop streaming job so that it gets shipped to the mapper nodes where it will be accessed by your script._]\n",
    "\n",
    "\n",
    "* __f) short response:__ In our test example and in the Enron data set we have fairly short documents. Since these fit fine in memory on a mapper node we didn't need a reducer and could just do all of our calculations in the mapper. However with much longer documents (eg. books) we might want a higher level of parallelization -- for example we might want to process parts of a document on different nodes. In this hypothetical scenario how would our algorithm design change? What could the mappers still do? What key-value structure would they emit? What would the reducers have to do as a last step?"
   ]
  },
  {
   "cell_type": "markdown",
   "metadata": {},
   "source": [
    "### Q7 Student Answers:\n",
    "> __a)__ They keys are the word and the values are <number of occurrences in non-Chinese docs, number of occurrences in Chinese docs, conditional probability of word in non-Chinese docs, smoothed conditional smoothed probability of word in Chinese docs>. The absolute number of occurrences in non-Chinese/Chinese docs are helpful for debugging but not needed for the inference.\n",
    "\n",
    "> __b)__ When many conditional probabilities are multiplied, it can result in a floating point underflow. This would not be a problem if we take log probabilities and sum them up. For an unsmoothed model, taking logarithm, however, can cause error if the word occurence in a certain class is 0. (log(0) is undefined)\n",
    "\n",
    "> __c)__ If the word in the test set is not in the training set, we should just define the log of its conditional probability as 0 for inference since we don't have information on whether this word is predictive of either class.\n",
    "\n",
    "> __d)__ I don't think it departs from the functional programming principle because it's a state that won't be changed and stays immutable throughout the streaming job. This is scalable as long as it's a relatively lightweight model that will be used by all/most processes. This would not be a good idea if it's a model that takes a lot of memory and won't serve many parallel processes.\n",
    "\n",
    "> __e)__ Complete the coding portion of this question before answering 'f'.\n",
    "\n",
    "> __f)__ If we use a reducer to aggregate the prior and conditional probabilities, we should not calculate the predicted class in the mapper anymore. Mappers can still be used to scan documents and calculate the partial sums of the conditional probabilities.They would emit doc id, partial sum of log(p(Ham) and log(p(Spam)) but it will be up to the reducers to sum up the log conditional probabilities and compute the predicted class then.\n"
   ]
  },
  {
   "cell_type": "markdown",
   "metadata": {},
   "source": [
    "Run these cells to create the example corpus and model."
   ]
  },
  {
   "cell_type": "code",
   "execution_count": 6,
   "metadata": {},
   "outputs": [
    {
     "name": "stdout",
     "output_type": "stream",
     "text": [
      "Overwriting NaiveBayes/chineseTrain.txt\n"
     ]
    }
   ],
   "source": [
    "%%writefile NaiveBayes/chineseTrain.txt\n",
    "D1\t1\t\tChinese Beijing Chinese\n",
    "D2\t1\t\tChinese Chinese Shanghai\n",
    "D3\t1\t\tChinese Macao\n",
    "D4\t0\t\tTokyo Japan Chinese"
   ]
  },
  {
   "cell_type": "code",
   "execution_count": 7,
   "metadata": {},
   "outputs": [
    {
     "name": "stdout",
     "output_type": "stream",
     "text": [
      "Overwriting NaiveBayes/chineseTest.txt\n"
     ]
    }
   ],
   "source": [
    "%%writefile NaiveBayes/chineseTest.txt\n",
    "D5\t1\t\tChinese Chinese Chinese Tokyo Japan\n",
    "D6\t1\t\tBeijing Shanghai Trade\n",
    "D7\t0\t\tJapan Macao Tokyo\n",
    "D8\t0\t\tTokyo Japan Trade"
   ]
  },
  {
   "cell_type": "code",
   "execution_count": 8,
   "metadata": {},
   "outputs": [
    {
     "name": "stdout",
     "output_type": "stream",
     "text": [
      "Overwriting NBmodel.txt\n"
     ]
    }
   ],
   "source": [
    "%%writefile NBmodel.txt\n",
    "beijing\t0.0,1.0,0.111111111111,0.142857142857\n",
    "chinese\t1.0,5.0,0.222222222222,0.428571428571\n",
    "tokyo\t1.0,0.0,0.222222222222,0.0714285714286\n",
    "shanghai\t0.0,1.0,0.111111111111,0.142857142857\n",
    "ClassPriors\t1.0,3.0,0.25,0.75\n",
    "japan\t1.0,0.0,0.222222222222,0.0714285714286\n",
    "macao\t0.0,1.0,0.111111111111,0.142857142857"
   ]
  },
  {
   "cell_type": "code",
   "execution_count": 7,
   "metadata": {},
   "outputs": [],
   "source": [
    "# load the data files into HDFS\n",
    "!hdfs dfs -copyFromLocal NaiveBayes/chineseTrain.txt {HDFS_DIR}\n",
    "!hdfs dfs -copyFromLocal NaiveBayes/chineseTest.txt {HDFS_DIR}"
   ]
  },
  {
   "cell_type": "markdown",
   "metadata": {},
   "source": [
    "Your work for `part e` starts here:"
   ]
  },
  {
   "cell_type": "code",
   "execution_count": 10,
   "metadata": {},
   "outputs": [],
   "source": [
    "# part e - do your work in NaiveBayes/classify_mapper.py first, then run this cell.\n",
    "!chmod a+x NaiveBayes/classify_mapper.py"
   ]
  },
  {
   "cell_type": "code",
   "execution_count": 12,
   "metadata": {},
   "outputs": [
    {
     "name": "stdout",
     "output_type": "stream",
     "text": [
      "d5  1  -8.90668134500626   -8.10769031284611   1\n",
      "d6  1  -5.780743515794329  -4.179502370564408  1\n",
      "d7  0  -6.591673732011658  -7.511706880737812  0\n",
      "d8  0  -4.394449154674438  -5.565796731681498  0\n"
     ]
    }
   ],
   "source": [
    "# part e - unit test NaiveBayes/classify_mapper.py (RUN THIS CELL AS IS)\n",
    "!cat NaiveBayes/chineseTest.txt | NaiveBayes/classify_mapper.py | column -t"
   ]
  },
  {
   "cell_type": "code",
   "execution_count": 8,
   "metadata": {},
   "outputs": [
    {
     "name": "stdout",
     "output_type": "stream",
     "text": [
      "rm: `/user/root/HW2/chinese-output': No such file or directory\n"
     ]
    }
   ],
   "source": [
    "# part e - clear the output directory in HDFS (RUN THIS CELL AS IS)\n",
    "!hdfs dfs -rm -r {HDFS_DIR}/chinese-output"
   ]
  },
  {
   "cell_type": "code",
   "execution_count": 9,
   "metadata": {},
   "outputs": [
    {
     "name": "stdout",
     "output_type": "stream",
     "text": [
      "packageJobJar: [] [/usr/lib/hadoop-mapreduce/hadoop-streaming-2.6.0-cdh5.15.0.jar] /tmp/streamjob9201339597604586955.jar tmpDir=null\n",
      "18/09/28 18:11:47 INFO client.RMProxy: Connecting to ResourceManager at /0.0.0.0:8032\n",
      "18/09/28 18:11:48 INFO client.RMProxy: Connecting to ResourceManager at /0.0.0.0:8032\n",
      "18/09/28 18:11:49 INFO mapred.FileInputFormat: Total input paths to process : 1\n",
      "18/09/28 18:11:49 INFO mapreduce.JobSubmitter: number of splits:2\n",
      "18/09/28 18:11:49 INFO mapreduce.JobSubmitter: Submitting tokens for job: job_1538158114445_0001\n",
      "18/09/28 18:11:50 INFO impl.YarnClientImpl: Submitted application application_1538158114445_0001\n",
      "18/09/28 18:11:50 INFO mapreduce.Job: The url to track the job: http://docker.w261:8088/proxy/application_1538158114445_0001/\n",
      "18/09/28 18:11:50 INFO mapreduce.Job: Running job: job_1538158114445_0001\n",
      "18/09/28 18:11:59 INFO mapreduce.Job: Job job_1538158114445_0001 running in uber mode : false\n",
      "18/09/28 18:11:59 INFO mapreduce.Job:  map 0% reduce 0%\n",
      "18/09/28 18:12:09 INFO mapreduce.Job:  map 50% reduce 0%\n",
      "18/09/28 18:12:10 INFO mapreduce.Job:  map 100% reduce 0%\n",
      "18/09/28 18:12:17 INFO mapreduce.Job:  map 100% reduce 100%\n",
      "18/09/28 18:12:17 INFO mapreduce.Job: Job job_1538158114445_0001 completed successfully\n",
      "18/09/28 18:12:17 INFO mapreduce.Job: Counters: 50\n",
      "\tFile System Counters\n",
      "\t\tFILE: Number of bytes read=192\n",
      "\t\tFILE: Number of bytes written=448352\n",
      "\t\tFILE: Number of read operations=0\n",
      "\t\tFILE: Number of large read operations=0\n",
      "\t\tFILE: Number of write operations=0\n",
      "\t\tHDFS: Number of bytes read=403\n",
      "\t\tHDFS: Number of bytes written=178\n",
      "\t\tHDFS: Number of read operations=9\n",
      "\t\tHDFS: Number of large read operations=0\n",
      "\t\tHDFS: Number of write operations=2\n",
      "\tJob Counters \n",
      "\t\tKilled map tasks=1\n",
      "\t\tLaunched map tasks=2\n",
      "\t\tLaunched reduce tasks=1\n",
      "\t\tData-local map tasks=2\n",
      "\t\tTotal time spent by all maps in occupied slots (ms)=13102\n",
      "\t\tTotal time spent by all reduces in occupied slots (ms)=5552\n",
      "\t\tTotal time spent by all map tasks (ms)=13102\n",
      "\t\tTotal time spent by all reduce tasks (ms)=5552\n",
      "\t\tTotal vcore-milliseconds taken by all map tasks=13102\n",
      "\t\tTotal vcore-milliseconds taken by all reduce tasks=5552\n",
      "\t\tTotal megabyte-milliseconds taken by all map tasks=13416448\n",
      "\t\tTotal megabyte-milliseconds taken by all reduce tasks=5685248\n",
      "\tMap-Reduce Framework\n",
      "\t\tMap input records=4\n",
      "\t\tMap output records=4\n",
      "\t\tMap output bytes=178\n",
      "\t\tMap output materialized bytes=198\n",
      "\t\tInput split bytes=226\n",
      "\t\tCombine input records=0\n",
      "\t\tCombine output records=0\n",
      "\t\tReduce input groups=4\n",
      "\t\tReduce shuffle bytes=198\n",
      "\t\tReduce input records=4\n",
      "\t\tReduce output records=4\n",
      "\t\tSpilled Records=8\n",
      "\t\tShuffled Maps =2\n",
      "\t\tFailed Shuffles=0\n",
      "\t\tMerged Map outputs=2\n",
      "\t\tGC time elapsed (ms)=161\n",
      "\t\tCPU time spent (ms)=3380\n",
      "\t\tPhysical memory (bytes) snapshot=723324928\n",
      "\t\tVirtual memory (bytes) snapshot=4137689088\n",
      "\t\tTotal committed heap usage (bytes)=625999872\n",
      "\tShuffle Errors\n",
      "\t\tBAD_ID=0\n",
      "\t\tCONNECTION=0\n",
      "\t\tIO_ERROR=0\n",
      "\t\tWRONG_LENGTH=0\n",
      "\t\tWRONG_MAP=0\n",
      "\t\tWRONG_REDUCE=0\n",
      "\tFile Input Format Counters \n",
      "\t\tBytes Read=177\n",
      "\tFile Output Format Counters \n",
      "\t\tBytes Written=178\n",
      "18/09/28 18:12:17 INFO streaming.StreamJob: Output directory: /user/root/HW2/chinese-output\n"
     ]
    }
   ],
   "source": [
    "# part e - write your Hadooop streaming job here\n",
    "!hadoop jar {JAR_FILE} \\\n",
    "  -files NBmodel.txt,NaiveBayes/classify_mapper.py \\\n",
    "  -mapper classify_mapper.py \\\n",
    "  -reducer /bin/cat \\\n",
    "  -input {HDFS_DIR}/chineseTest.txt \\\n",
    "  -output {HDFS_DIR}/chinese-output \\\n",
    "  -numReduceTasks 1 \\\n",
    "  -cmdenv PATH={PATH}"
   ]
  },
  {
   "cell_type": "code",
   "execution_count": 10,
   "metadata": {},
   "outputs": [],
   "source": [
    "# part e - retrieve test set results from HDFS (RUN THIS CELL AS IS)\n",
    "!hdfs dfs -cat {HDFS_DIR}/chinese-output/part-000* > NaiveBayes/chineseResults.txt"
   ]
  },
  {
   "cell_type": "code",
   "execution_count": 11,
   "metadata": {},
   "outputs": [
    {
     "name": "stdout",
     "output_type": "stream",
     "text": [
      "d5  1  -8.90668134500626   -8.10769031284611   1\n",
      "d6  1  -5.780743515794329  -4.179502370564408  1\n",
      "d7  0  -6.591673732011658  -7.511706880737812  0\n",
      "d8  0  -4.394449154674438  -5.565796731681498  0\n"
     ]
    }
   ],
   "source": [
    "# part e - take a look (RUN THIS CELL AS IS)\n",
    "!cat NaiveBayes/chineseResults.txt | column -t"
   ]
  },
  {
   "cell_type": "markdown",
   "metadata": {},
   "source": [
    "<table>\n",
    "<th> Expected output for the test set:</th>\n",
    "<tr align=Left><td><pre>\n",
    "d5\t1\t-8.90668134\t-8.10769031\t1\n",
    "d6\t1\t-5.78074351\t-4.17950237\t1\n",
    "d7\t0\t-6.59167373\t-7.51170688\t0\n",
    "d8\t0\t-4.39444915\t-5.56579673\t0\n",
    "</pre></td><tr>\n",
    "</table>"
   ]
  },
  {
   "cell_type": "markdown",
   "metadata": {},
   "source": [
    "# Question 8: Naive Bayes Training.\n",
    "In Question 7 we used a model that we had trained by hand. Next we'll develop the code to do that same training in parallel, making it suitable for use with larger corpora (like the Enron emails). The end result of the MapReduce job you write in this question should be a model text file that looks just like the example (`NBmodel.txt`) that we created by hand above.\n",
    "\n",
    "To refresh your memory about the training process take a look at  `6a` and `6b` where you described the pieces of information you'll need to collect in order to encode a Multinomial Naive Bayes model. We now want to retrieve those pieces of information while streaming over a corpus. The bulk of the task will be very similar to the word counting excercises you've already done but you may want to consider a slightly different key-value record structure to efficiently tally counts for each class. \n",
    "\n",
    "The most challenging (interesting?) design question will be how to retrieve the totals (# of documents and # of words in documents for each class). Of course, counting these numbers is easy. The hard part is the timing: you'll need to make sure you have the counts totalled up _before_ you start estimating the class conditional probabilities for each word. It would be best (i.e. most scalable) if we could find a way to do this tallying without storing the whole vocabulary in memory... Use an appropriate MapReduce design pattern to implement this efficiently! \n",
    "\n",
    "__`IMPORTANT NOTE:`__ Please use a single reducer for all of the jobs in this question.\n",
    "\n",
    "### Q8 Tasks:\n",
    "* __a) make a plan:__  Fill in the docstrings for __`NaiveBayes/train_mapper.py`__ and __`NaiveBayes/train_reducer.py`__ to appropriately reflect the format that each script will input/output. [`HINT:` _the input files_ (`enronemail_1h.txt` & `chineseTrain.txt`) _have a prespecified format and your output file should match_ `NBmodel.txt` _so you really only have to decide on an internal format for Hadoop_].\n",
    "\n",
    "\n",
    "* __b) implement it:__ Complete the code in __`NaiveBayes/train_mapper.py`__ and __`NaiveBayes/train_reducer.py`__ so that together they train a Multinomial Naive Bayes model __with no smoothing__. Make sure your end result is formatted correctly (see note above). Test your scripts independently and together (using `chineseTrain.txt` or test input of your own devising). When you are satisfied with your Python code design and run a Hadoop streaming command to run your job in parallel on the __chineseTrain.txt__. Confirm that your trained model matches your hand calculations from Question 5.\n",
    "\n",
    "\n",
    "* __c) short response:__ We saw in Question 6 that adding Laplace +1 smoothing makes our classifications less sensitve to rare words. However implementing this technique requires access to one additional piece of information that we had not previously used in our Naive Bayes training. What is that extra piece of information? [`HINT:` see equation 13.7 in Manning, Raghavan and Schutze].\n",
    "\n",
    "\n",
    "* __d) short response:__ There are three approaches that we could take to handle the extra piece of information you identified in `c`: 1) we could hard code it into our reducer (_where would we get it in the first place?_). Or 2) we could compute it inside the reducer which would require storing some information in memory (_what information?_). Or 3) we could compute it in the reducer without storing any bulky information in memory but then we'd need some postprocessing or a second MapReduce job to complete the calculation (_why?_). Breifly explain what is non-ideal about each of these options. BONUS: which of these options is incompatible with using multiple reducers?\n",
    "\n",
    "\n",
    "* __e) code + short response:__ Choose one of the 3 options above. State your choice & reasoning in the space below then use that strategy to complete the code in __`NaiveBayes/train_reducer_smooth.py`__. Test this alternate reducer then write and run a Hadoop streaming job to train an MNB model with smoothing on the Chinese example. Your results should match the model that we provided for you above (and the calculations in the textbook example). [`HINT:` _don't start from scratch with this one -- you can just copy over your reducer code from part `b` and make the needed modifications_]."
   ]
  },
  {
   "cell_type": "markdown",
   "metadata": {},
   "source": [
    "### Q8 Student Answers:\n",
    "> __ c)__ We will also need information on the number of unique words in the vocabulary\n",
    "\n",
    "> __ d)__ \n",
    "\n",
    "> 1) We can find out the total vocabulary from scanning all the words in the corpus using a deduped sequense like \"set\" and hardcode the number into the reducer. This is not ideal because 1) this might take a lot of computation power when we have a large corpus and 2) everytime when running a new training set, a new variable needs to be hardcoded.\n",
    "\n",
    "> 2) We could use a dictionary in the reducer to store words and word count in memory and just look at how many keys the dictionary end up having in the end to get the vocabulary size before any further calculation. But this is not scalable since we are storing in-memory and theoretically with a large enough corpus, it will crach the machine. This also would not work if we use multiple reducers since each reducer would only see a limited set of words\n",
    "\n",
    "> 3) We could implement a counter in the reducer which counts the number of total vocabulary seen. This is scalable since it's not storing anything but a counter in the memory. However, this will need post processing/second MapReduce Job since the count won't be finalized until all the words have been run through.\n",
    "\n",
    "> __ e)__ I chose option 2 to store words and counts in memory during the reducer phase. I chose it because of the size of corpus that we are dealing with in this context and having an in-memory storage makes the process succinct and autonomous. Although, this would not be a good design for a very large dataset. In that case, I would go with 3), use one reducer to spit out <word, true class, count> that includes a word called \"!vocab size\" which is a built-in counter that counts distinct word. And then make sure to feed \"!vocab size\" into the second reducer to do the calculation \n"
   ]
  },
  {
   "cell_type": "code",
   "execution_count": 50,
   "metadata": {},
   "outputs": [
    {
     "name": "stdout",
     "output_type": "stream",
     "text": [
      "=========== MAPPER DOCSTRING ============\n",
      "Mapper reads in text documents and emits word counts by class.\n",
      "    \n",
      "INPUT:\n",
      "    ID \\t true_class \\t subject \\t body \\n\n",
      "OUTPUT:\n",
      "    word \\t true_class \\t count\n",
      "=========== REDUCER DOCSTRING ============\n",
      "Reducer aggregates word counts by class and emits frequencies and conditional probabilities.\n",
      "    \n",
      "INPUT:\n",
      "    word \\t true_class \\t count\n",
      "OUTPUT:\n",
      "    word \\t cntHam \\t cntSpam \\t cpHam \\t cpSpam\n"
     ]
    }
   ],
   "source": [
    "# part a - do your work in train_mapper.py and train_reducer.py then RUN THIS CELL AS IS\n",
    "!chmod a+x NaiveBayes/train_mapper.py\n",
    "!chmod a+x NaiveBayes/train_reducer.py\n",
    "!echo \"=========== MAPPER DOCSTRING ============\"\n",
    "!head -n 8 NaiveBayes/train_mapper.py | tail -n 6\n",
    "!echo \"=========== REDUCER DOCSTRING ============\"\n",
    "!head -n 8 NaiveBayes/train_reducer.py | tail -n 6"
   ]
  },
  {
   "cell_type": "markdown",
   "metadata": {},
   "source": [
    "__`part b starts here`:__ MNB _without_ Smoothing (training on Chinese Example Corpus)."
   ]
  },
  {
   "cell_type": "code",
   "execution_count": 41,
   "metadata": {},
   "outputs": [
    {
     "name": "stdout",
     "output_type": "stream",
     "text": [
      "chinese     1  1\n",
      "beijing     1  1\n",
      "chinese     1  1\n",
      "chinese     1  1\n",
      "chinese     1  1\n",
      "shanghai    1  1\n",
      "chinese     1  1\n",
      "macao       1  1\n",
      "tokyo       0  1\n",
      "japan       0  1\n",
      "chinese     0  1\n",
      "!wordcount  0  3\n",
      "!wordcount  1  8\n",
      "!!doccount  0  1\n",
      "!!doccount  1  3\n"
     ]
    }
   ],
   "source": [
    "# part b - write a unit test for your mapper here\n",
    "!cat NaiveBayes/chineseTrain.txt | NaiveBayes/train_mapper.py | sort -k1,1 | column -t"
   ]
  },
  {
   "cell_type": "code",
   "execution_count": 126,
   "metadata": {},
   "outputs": [
    {
     "name": "stdout",
     "output_type": "stream",
     "text": [
      "beijing      0,1,0.0,0.125\n",
      "chinese      1,5,0.3333333333333333,0.625\n",
      "japan        1,0,0.3333333333333333,0.0\n",
      "macao        0,1,0.0,0.125\n",
      "shanghai     0,1,0.0,0.125\n",
      "tokyo        1,0,0.3333333333333333,0.0\n",
      "ClassPriors  1,3,0.25,0.75\n"
     ]
    }
   ],
   "source": [
    "# part b - write a unit test for your reducer here\n",
    "#write succesfully run mapper output as a test input file\n",
    "!cat NaiveBayes/chineseTrain.txt | NaiveBayes/train_mapper.py | sort -k1,1 | column -t > NaiveBayes/train_reducer_test_input.py\n",
    "\n",
    "#test reducer\n",
    "!cat NaiveBayes/train_reducer_test_input.py | NaiveBayes/train_reducer.py | column -t"
   ]
  },
  {
   "cell_type": "code",
   "execution_count": 127,
   "metadata": {},
   "outputs": [
    {
     "name": "stdout",
     "output_type": "stream",
     "text": [
      "beijing      0,1,0.0,0.125\n",
      "chinese      1,5,0.3333333333333333,0.625\n",
      "japan        1,0,0.3333333333333333,0.0\n",
      "macao        0,1,0.0,0.125\n",
      "shanghai     0,1,0.0,0.125\n",
      "tokyo        1,0,0.3333333333333333,0.0\n",
      "ClassPriors  1,3,0.25,0.75\n"
     ]
    }
   ],
   "source": [
    "# part b - write a systems test for your mapper + reducer together here\n",
    "!cat NaiveBayes/chineseTrain.txt | NaiveBayes/train_mapper.py | sort -k1,1 | NaiveBayes/train_reducer.py | column -t"
   ]
  },
  {
   "cell_type": "code",
   "execution_count": 128,
   "metadata": {},
   "outputs": [
    {
     "name": "stdout",
     "output_type": "stream",
     "text": [
      "Deleted /user/root/HW2/unsmooth-model-output\n"
     ]
    }
   ],
   "source": [
    "# part b - clear (and name) an output directory in HDFS for your unsmoothed chinese NB model\n",
    "!hdfs dfs -rm -r {HDFS_DIR}/unsmooth-model-output"
   ]
  },
  {
   "cell_type": "code",
   "execution_count": 129,
   "metadata": {},
   "outputs": [
    {
     "name": "stdout",
     "output_type": "stream",
     "text": [
      "packageJobJar: [] [/usr/lib/hadoop-mapreduce/hadoop-streaming-2.6.0-cdh5.15.0.jar] /tmp/streamjob3302524331115068054.jar tmpDir=null\n",
      "18/10/01 04:40:41 INFO client.RMProxy: Connecting to ResourceManager at /0.0.0.0:8032\n",
      "18/10/01 04:40:41 INFO client.RMProxy: Connecting to ResourceManager at /0.0.0.0:8032\n",
      "18/10/01 04:40:42 INFO mapred.FileInputFormat: Total input paths to process : 1\n",
      "18/10/01 04:40:42 INFO mapreduce.JobSubmitter: number of splits:2\n",
      "18/10/01 04:40:42 INFO mapreduce.JobSubmitter: Submitting tokens for job: job_1538158114445_0017\n",
      "18/10/01 04:40:42 INFO impl.YarnClientImpl: Submitted application application_1538158114445_0017\n",
      "18/10/01 04:40:42 INFO mapreduce.Job: The url to track the job: http://docker.w261:8088/proxy/application_1538158114445_0017/\n",
      "18/10/01 04:40:42 INFO mapreduce.Job: Running job: job_1538158114445_0017\n",
      "18/10/01 04:40:49 INFO mapreduce.Job: Job job_1538158114445_0017 running in uber mode : false\n",
      "18/10/01 04:40:49 INFO mapreduce.Job:  map 0% reduce 0%\n",
      "18/10/01 04:40:55 INFO mapreduce.Job:  map 50% reduce 0%\n",
      "18/10/01 04:40:56 INFO mapreduce.Job:  map 100% reduce 0%\n",
      "18/10/01 04:41:00 INFO mapreduce.Job:  map 100% reduce 100%\n",
      "18/10/01 04:41:00 INFO mapreduce.Job: Job job_1538158114445_0017 completed successfully\n",
      "18/10/01 04:41:00 INFO mapreduce.Job: Counters: 49\n",
      "\tFile System Counters\n",
      "\t\tFILE: Number of bytes read=291\n",
      "\t\tFILE: Number of bytes written=448637\n",
      "\t\tFILE: Number of read operations=0\n",
      "\t\tFILE: Number of large read operations=0\n",
      "\t\tFILE: Number of write operations=0\n",
      "\t\tHDFS: Number of bytes read=387\n",
      "\t\tHDFS: Number of bytes written=194\n",
      "\t\tHDFS: Number of read operations=9\n",
      "\t\tHDFS: Number of large read operations=0\n",
      "\t\tHDFS: Number of write operations=2\n",
      "\tJob Counters \n",
      "\t\tLaunched map tasks=2\n",
      "\t\tLaunched reduce tasks=1\n",
      "\t\tData-local map tasks=2\n",
      "\t\tTotal time spent by all maps in occupied slots (ms)=6947\n",
      "\t\tTotal time spent by all reduces in occupied slots (ms)=3099\n",
      "\t\tTotal time spent by all map tasks (ms)=6947\n",
      "\t\tTotal time spent by all reduce tasks (ms)=3099\n",
      "\t\tTotal vcore-milliseconds taken by all map tasks=6947\n",
      "\t\tTotal vcore-milliseconds taken by all reduce tasks=3099\n",
      "\t\tTotal megabyte-milliseconds taken by all map tasks=7113728\n",
      "\t\tTotal megabyte-milliseconds taken by all reduce tasks=3173376\n",
      "\tMap-Reduce Framework\n",
      "\t\tMap input records=4\n",
      "\t\tMap output records=19\n",
      "\t\tMap output bytes=247\n",
      "\t\tMap output materialized bytes=297\n",
      "\t\tInput split bytes=228\n",
      "\t\tCombine input records=0\n",
      "\t\tCombine output records=0\n",
      "\t\tReduce input groups=8\n",
      "\t\tReduce shuffle bytes=297\n",
      "\t\tReduce input records=19\n",
      "\t\tReduce output records=7\n",
      "\t\tSpilled Records=38\n",
      "\t\tShuffled Maps =2\n",
      "\t\tFailed Shuffles=0\n",
      "\t\tMerged Map outputs=2\n",
      "\t\tGC time elapsed (ms)=80\n",
      "\t\tCPU time spent (ms)=2030\n",
      "\t\tPhysical memory (bytes) snapshot=782893056\n",
      "\t\tVirtual memory (bytes) snapshot=4127055872\n",
      "\t\tTotal committed heap usage (bytes)=627572736\n",
      "\tShuffle Errors\n",
      "\t\tBAD_ID=0\n",
      "\t\tCONNECTION=0\n",
      "\t\tIO_ERROR=0\n",
      "\t\tWRONG_LENGTH=0\n",
      "\t\tWRONG_MAP=0\n",
      "\t\tWRONG_REDUCE=0\n",
      "\tFile Input Format Counters \n",
      "\t\tBytes Read=159\n",
      "\tFile Output Format Counters \n",
      "\t\tBytes Written=194\n",
      "18/10/01 04:41:00 INFO streaming.StreamJob: Output directory: /user/root/HW2/unsmooth-model-output\n"
     ]
    }
   ],
   "source": [
    "# part b - write your hadoop streaming job\n",
    "!hadoop jar {JAR_FILE} \\\n",
    "  -files NaiveBayes/train_mapper.py,NaiveBayes/train_reducer.py \\\n",
    "  -mapper train_mapper.py \\\n",
    "  -reducer train_reducer.py \\\n",
    "  -input {HDFS_DIR}/chineseTrain.txt \\\n",
    "  -output {HDFS_DIR}/unsmooth-model-output \\\n",
    "  -numReduceTasks 1 \\\n",
    "  -cmdenv PATH={PATH}"
   ]
  },
  {
   "cell_type": "code",
   "execution_count": 130,
   "metadata": {},
   "outputs": [],
   "source": [
    "# part b - extract your results (i.e. model) to a local file\n",
    "!hdfs dfs -cat {HDFS_DIR}/unsmooth-model-output/part-000* > NaiveBayes/UnsmoothModelResults.txt"
   ]
  },
  {
   "cell_type": "code",
   "execution_count": 131,
   "metadata": {},
   "outputs": [
    {
     "name": "stdout",
     "output_type": "stream",
     "text": [
      "beijing      0,1,0.0,0.125\n",
      "chinese      1,5,0.3333333333333333,0.625\n",
      "japan        1,0,0.3333333333333333,0.0\n",
      "macao        0,1,0.0,0.125\n",
      "shanghai     0,1,0.0,0.125\n",
      "tokyo        1,0,0.3333333333333333,0.0\n",
      "ClassPriors  1,3,0.25,0.75\n"
     ]
    }
   ],
   "source": [
    "# part b - print your model so that we can confirm that it matches expected results\n",
    "!cat NaiveBayes/UnsmoothModelResults.txt | column -t"
   ]
  },
  {
   "cell_type": "markdown",
   "metadata": {},
   "source": [
    "__`part e starts here`:__ MNB _with_ Smoothing (training on Chinese Example Corpus)."
   ]
  },
  {
   "cell_type": "code",
   "execution_count": 134,
   "metadata": {},
   "outputs": [
    {
     "name": "stdout",
     "output_type": "stream",
     "text": [
      "tokyo        1,0,0.2222222222222222,0.07142857142857142\n",
      "japan        1,0,0.2222222222222222,0.07142857142857142\n",
      "beijing      0,1,0.1111111111111111,0.14285714285714285\n",
      "macao        0,1,0.1111111111111111,0.14285714285714285\n",
      "chinese      1,5,0.2222222222222222,0.42857142857142855\n",
      "shanghai     0,1,0.1111111111111111,0.14285714285714285\n",
      "ClassPriors  1,3,0.25,0.75\n"
     ]
    }
   ],
   "source": [
    "# part e - write a unit test for your NEW reducer here\n",
    "!chmod a+x NaiveBayes/train_reducer_smooth.py\n",
    "!cat NaiveBayes/train_reducer_test_input.py | NaiveBayes/train_reducer_smooth.py | column -t"
   ]
  },
  {
   "cell_type": "code",
   "execution_count": 135,
   "metadata": {},
   "outputs": [
    {
     "name": "stdout",
     "output_type": "stream",
     "text": [
      "shanghai     0,1,0.1111111111111111,0.14285714285714285\n",
      "chinese      1,5,0.2222222222222222,0.42857142857142855\n",
      "tokyo        1,0,0.2222222222222222,0.07142857142857142\n",
      "beijing      0,1,0.1111111111111111,0.14285714285714285\n",
      "macao        0,1,0.1111111111111111,0.14285714285714285\n",
      "japan        1,0,0.2222222222222222,0.07142857142857142\n",
      "ClassPriors  1,3,0.25,0.75\n"
     ]
    }
   ],
   "source": [
    "# part e - write a systems test for your mapper + reducer together here\n",
    "!cat NaiveBayes/chineseTrain.txt | NaiveBayes/train_mapper.py | sort -k1,1 | NaiveBayes/train_reducer_smooth.py | column -t"
   ]
  },
  {
   "cell_type": "code",
   "execution_count": 136,
   "metadata": {},
   "outputs": [
    {
     "name": "stdout",
     "output_type": "stream",
     "text": [
      "Deleted /user/root/HW2/smooth-model-output\n"
     ]
    }
   ],
   "source": [
    "# part e - clear (and name) an output directory in HDFS for your SMOOTHED chinese NB model\n",
    "!hdfs dfs -rm -r {HDFS_DIR}/smooth-model-output"
   ]
  },
  {
   "cell_type": "code",
   "execution_count": 137,
   "metadata": {},
   "outputs": [
    {
     "name": "stdout",
     "output_type": "stream",
     "text": [
      "packageJobJar: [] [/usr/lib/hadoop-mapreduce/hadoop-streaming-2.6.0-cdh5.15.0.jar] /tmp/streamjob2514798626294337002.jar tmpDir=null\n",
      "18/10/01 04:42:33 INFO client.RMProxy: Connecting to ResourceManager at /0.0.0.0:8032\n",
      "18/10/01 04:42:33 INFO client.RMProxy: Connecting to ResourceManager at /0.0.0.0:8032\n",
      "18/10/01 04:42:35 INFO mapred.FileInputFormat: Total input paths to process : 1\n",
      "18/10/01 04:42:35 INFO mapreduce.JobSubmitter: number of splits:2\n",
      "18/10/01 04:42:35 INFO mapreduce.JobSubmitter: Submitting tokens for job: job_1538158114445_0018\n",
      "18/10/01 04:42:36 INFO impl.YarnClientImpl: Submitted application application_1538158114445_0018\n",
      "18/10/01 04:42:36 INFO mapreduce.Job: The url to track the job: http://docker.w261:8088/proxy/application_1538158114445_0018/\n",
      "18/10/01 04:42:36 INFO mapreduce.Job: Running job: job_1538158114445_0018\n",
      "18/10/01 04:42:43 INFO mapreduce.Job: Job job_1538158114445_0018 running in uber mode : false\n",
      "18/10/01 04:42:43 INFO mapreduce.Job:  map 0% reduce 0%\n",
      "18/10/01 04:42:48 INFO mapreduce.Job:  map 50% reduce 0%\n",
      "18/10/01 04:42:49 INFO mapreduce.Job:  map 100% reduce 0%\n",
      "18/10/01 04:42:54 INFO mapreduce.Job:  map 100% reduce 100%\n",
      "18/10/01 04:42:55 INFO mapreduce.Job: Job job_1538158114445_0018 completed successfully\n",
      "18/10/01 04:42:55 INFO mapreduce.Job: Counters: 50\n",
      "\tFile System Counters\n",
      "\t\tFILE: Number of bytes read=291\n",
      "\t\tFILE: Number of bytes written=448736\n",
      "\t\tFILE: Number of read operations=0\n",
      "\t\tFILE: Number of large read operations=0\n",
      "\t\tFILE: Number of write operations=0\n",
      "\t\tHDFS: Number of bytes read=387\n",
      "\t\tHDFS: Number of bytes written=327\n",
      "\t\tHDFS: Number of read operations=9\n",
      "\t\tHDFS: Number of large read operations=0\n",
      "\t\tHDFS: Number of write operations=2\n",
      "\tJob Counters \n",
      "\t\tKilled map tasks=1\n",
      "\t\tLaunched map tasks=2\n",
      "\t\tLaunched reduce tasks=1\n",
      "\t\tData-local map tasks=2\n",
      "\t\tTotal time spent by all maps in occupied slots (ms)=7458\n",
      "\t\tTotal time spent by all reduces in occupied slots (ms)=3671\n",
      "\t\tTotal time spent by all map tasks (ms)=7458\n",
      "\t\tTotal time spent by all reduce tasks (ms)=3671\n",
      "\t\tTotal vcore-milliseconds taken by all map tasks=7458\n",
      "\t\tTotal vcore-milliseconds taken by all reduce tasks=3671\n",
      "\t\tTotal megabyte-milliseconds taken by all map tasks=7636992\n",
      "\t\tTotal megabyte-milliseconds taken by all reduce tasks=3759104\n",
      "\tMap-Reduce Framework\n",
      "\t\tMap input records=4\n",
      "\t\tMap output records=19\n",
      "\t\tMap output bytes=247\n",
      "\t\tMap output materialized bytes=297\n",
      "\t\tInput split bytes=228\n",
      "\t\tCombine input records=0\n",
      "\t\tCombine output records=0\n",
      "\t\tReduce input groups=8\n",
      "\t\tReduce shuffle bytes=297\n",
      "\t\tReduce input records=19\n",
      "\t\tReduce output records=7\n",
      "\t\tSpilled Records=38\n",
      "\t\tShuffled Maps =2\n",
      "\t\tFailed Shuffles=0\n",
      "\t\tMerged Map outputs=2\n",
      "\t\tGC time elapsed (ms)=73\n",
      "\t\tCPU time spent (ms)=2330\n",
      "\t\tPhysical memory (bytes) snapshot=795537408\n",
      "\t\tVirtual memory (bytes) snapshot=4167196672\n",
      "\t\tTotal committed heap usage (bytes)=625475584\n",
      "\tShuffle Errors\n",
      "\t\tBAD_ID=0\n",
      "\t\tCONNECTION=0\n",
      "\t\tIO_ERROR=0\n",
      "\t\tWRONG_LENGTH=0\n",
      "\t\tWRONG_MAP=0\n",
      "\t\tWRONG_REDUCE=0\n",
      "\tFile Input Format Counters \n",
      "\t\tBytes Read=159\n",
      "\tFile Output Format Counters \n",
      "\t\tBytes Written=327\n",
      "18/10/01 04:42:55 INFO streaming.StreamJob: Output directory: /user/root/HW2/smooth-model-output\n"
     ]
    }
   ],
   "source": [
    "# part e - write your hadoop streaming job\n",
    "!hadoop jar {JAR_FILE} \\\n",
    "  -files NaiveBayes/train_mapper.py,NaiveBayes/train_reducer_smooth.py \\\n",
    "  -mapper train_mapper.py \\\n",
    "  -reducer train_reducer_smooth.py \\\n",
    "  -input {HDFS_DIR}/chineseTrain.txt \\\n",
    "  -output {HDFS_DIR}/smooth-model-output \\\n",
    "  -numReduceTasks 1 \\\n",
    "  -cmdenv PATH={PATH}"
   ]
  },
  {
   "cell_type": "code",
   "execution_count": 138,
   "metadata": {},
   "outputs": [],
   "source": [
    "# part e - extract your results (i.e. model) to a local file\n",
    "!hdfs dfs -cat {HDFS_DIR}/smooth-model-output/part-000* > NaiveBayes/SmoothModelResults.txt"
   ]
  },
  {
   "cell_type": "code",
   "execution_count": 139,
   "metadata": {},
   "outputs": [
    {
     "name": "stdout",
     "output_type": "stream",
     "text": [
      "japan        1,0,0.2222222222222222,0.07142857142857142\n",
      "tokyo        1,0,0.2222222222222222,0.07142857142857142\n",
      "chinese      1,5,0.2222222222222222,0.42857142857142855\n",
      "beijing      0,1,0.1111111111111111,0.14285714285714285\n",
      "macao        0,1,0.1111111111111111,0.14285714285714285\n",
      "shanghai     0,1,0.1111111111111111,0.14285714285714285\n",
      "ClassPriors  1,3,0.25,0.75\n"
     ]
    }
   ],
   "source": [
    "!cat NaiveBayes/SmoothModelResults.txt | column -t"
   ]
  },
  {
   "cell_type": "markdown",
   "metadata": {},
   "source": [
    "# Question 9: Enron Ham/Spam NB Classifier & Results.\n",
    "\n",
    "Fantastic work. We're finally ready to perform Spam Classification on the Enron Corpus. In this question you'll run the analysis you've developed, report its performance, and draw some conclusions.\n",
    "\n",
    "### Q9 Tasks:\n",
    "* __a) train/test split:__ Run the provided code to split our Enron file into a training set and testing set then load them into HDFS. \n",
    "\n",
    "[`NOTE:` _If you hard coded the vocab size in question 8d make sure you re calculate the vocab size for just the training set!_]\n",
    "\n",
    "* __b) train 2 models:__ Write Hadoop Streaming jobs to train MNB Models on the training set with and without smoothing. Save your models to local files at __`NaiveBayes/Unsmoothed/NBmodel.txt`__ and __`NaiveBayes/Smoothed/NBmodel.txt`__. [`NOTE:` _This naming is important because we wrote our classification task so that it expects a file of that name... if this inelegance frustrates you there is an alternative that would involve a few adjustments to your code [read more about it here](http://www.tnoda.com/blog/2013-11-23)._] Finally run the checks that we provide to confirm that your results are correct.\n",
    "\n",
    "\n",
    "* __c) code:__ Recall that we designed our classification job with just a mapper. An efficient way to report the performance of our models would be to simply add a reducer phase to this job and compute precision and recall right there. Complete the code in __`NaiveBayes/evaluation_reducer.py`__ and then write Hadoop jobs to evaluate your two models on the test set. Report their performance side by side. [`NOTE:` if you need a refresher on precision, recall and F1-score [Wikipedia](https://en.wikipedia.org/wiki/F1_score) is a good resource.]\n",
    "\n",
    "\n",
    "* __d) short response:__ Compare the performance of your two models. What do you notice about the unsmoothed model's predictions? Can you guess why this is happening? Which evaluation measure do you think is most relevant in our use case? [`NOTE:` _Feel free to answer using your common sense but if you want more information on evaluating the classification task checkout_ [this blogpost](https://tryolabs.com/blog/2013/03/25/why-accuracy-alone-bad-measure-classification-tasks-and-what-we-can-do-about-it/\n",
    ") or [this paper](http://www.flinders.edu.au/science_engineering/fms/School-CSEM/publications/tech_reps-research_artfcts/TRRA_2007.pdf\n",
    ")]\n",
    "\n",
    "\n",
    "* __e) code + short response:__ Let's look at the top ten words with the highest conditional probability in `Spam` and in `Ham`. We'll do this by writing a Hadoop job that sorts the model file (`NaiveBayes/Smoothed/NBmodel.py`). Normally we'd have to run two jobs -- one that sorts on $P(word|ham)$ and another that sorts on $P(word|spam)$. However if we slighly modify the data format in the model file then we can get the top words in each class with just one job. We've written a mapper that will do just this for you. Read through __`NaiveBayes/model_sort_mapper.py`__ and then briefly explain how this mapper will allow us to partition and sort our model file. Write a Hadoop job that uses our mapper and `/bin/cat` for a reducer to partition and sort. Print out the top 10 words in each class (where 'top' == highest conditional probability).[`HINT:` _this should remind you a lot of what we did in Question 6._]\n",
    "\n",
    "\n",
    "* __f) short response:__ What do you notice about the 'top words' we printed in `e`? How would increasing the smoothing parameter 'k' affect the probabilities for the top words that you identified for 'e'. How would they affect the probabilities of words that occur much more in one class than another? In summary, how does the smoothing parameter 'k' affect the bias and the variance of our model. [`NOTE:` _you do not need to code anything for this task, but if you are struggling with it you could try changing 'k' and see what happens to the test set. We don't recommend doing this exploration with the Enron data because it will be harder to see the impact with such a big vocabulary_]"
   ]
  },
  {
   "cell_type": "markdown",
   "metadata": {},
   "source": [
    "### Q9 Student Answers:\n",
    "> __d)__ The unsmoothed model has a lot of false negatives. This is likely due to the fact that any unseen words in the given class will have a conditional probability of 0. And in the model they will be defined as *-inf* when taking the log. With that, a document will be classified as negative even if it contains many words that have a high conditional probability of being positive, as long as it contains one or more words that were not seen in the postive class in the training set.\n",
    "\n",
    "> __e)__ The mapper looks into each word and identifies the higher conditional probability and the class that probability belongs to. This allows the outputs to have a neat format with the class, and the higher conditional probability summarized as separate fields. We can then partition the results using the class and sort the results using the conditional probabilities.\n",
    "\n",
    "> __f)__ The top 10 words in this case seem like just common English words with little evidence to a human reader that they would be the key difference maker in the classfication of ham vs. spam. By increasing k, the conditional probability for words that don't occur that often will have a more notable increase than these common words. An increased K would have little effect on these top words since they occur so commonly. \n",
    "\n",
    "\n",
    "> For those words which occur much more in one class than another, an increased k would decrease the difference between $\\hat{P}(t_k|c)$ and $\\hat{P}(t_k|\\overline{c})$. \n",
    "\n",
    "> In summary, an increased smoothing would increase bias and decrease variance since the training fit would be more generalizable."
   ]
  },
  {
   "cell_type": "markdown",
   "metadata": {},
   "source": [
    "__Test/Train split__"
   ]
  },
  {
   "cell_type": "code",
   "execution_count": 77,
   "metadata": {},
   "outputs": [],
   "source": [
    "# part a - test/train split (RUN THIS CELL AS IS)\n",
    "!head -n 80 data/enronemail_1h.txt > data/enron_train.txt\n",
    "!tail -n 20 data/enronemail_1h.txt > data/enron_test.txt\n",
    "!hdfs dfs -copyFromLocal data/enron_train.txt {HDFS_DIR}\n",
    "!hdfs dfs -copyFromLocal data/enron_test.txt {HDFS_DIR}"
   ]
  },
  {
   "cell_type": "markdown",
   "metadata": {},
   "source": [
    "__Training__ (Enron MNB Model _without smoothing_ )"
   ]
  },
  {
   "cell_type": "code",
   "execution_count": 140,
   "metadata": {},
   "outputs": [
    {
     "name": "stdout",
     "output_type": "stream",
     "text": [
      "Deleted /user/root/HW2/enron-model\n",
      "packageJobJar: [] [/usr/lib/hadoop-mapreduce/hadoop-streaming-2.6.0-cdh5.15.0.jar] /tmp/streamjob1802214552539149139.jar tmpDir=null\n",
      "18/10/01 04:43:33 INFO client.RMProxy: Connecting to ResourceManager at /0.0.0.0:8032\n",
      "18/10/01 04:43:33 INFO client.RMProxy: Connecting to ResourceManager at /0.0.0.0:8032\n",
      "18/10/01 04:43:34 INFO mapred.FileInputFormat: Total input paths to process : 1\n",
      "18/10/01 04:43:34 INFO mapreduce.JobSubmitter: number of splits:2\n",
      "18/10/01 04:43:35 INFO mapreduce.JobSubmitter: Submitting tokens for job: job_1538158114445_0019\n",
      "18/10/01 04:43:35 INFO impl.YarnClientImpl: Submitted application application_1538158114445_0019\n",
      "18/10/01 04:43:35 INFO mapreduce.Job: The url to track the job: http://docker.w261:8088/proxy/application_1538158114445_0019/\n",
      "18/10/01 04:43:35 INFO mapreduce.Job: Running job: job_1538158114445_0019\n",
      "18/10/01 04:43:41 INFO mapreduce.Job: Job job_1538158114445_0019 running in uber mode : false\n",
      "18/10/01 04:43:41 INFO mapreduce.Job:  map 0% reduce 0%\n",
      "18/10/01 04:43:47 INFO mapreduce.Job:  map 50% reduce 0%\n",
      "18/10/01 04:43:49 INFO mapreduce.Job:  map 100% reduce 0%\n",
      "18/10/01 04:43:53 INFO mapreduce.Job:  map 100% reduce 100%\n",
      "18/10/01 04:43:53 INFO mapreduce.Job: Job job_1538158114445_0019 completed successfully\n",
      "18/10/01 04:43:53 INFO mapreduce.Job: Counters: 49\n",
      "\tFile System Counters\n",
      "\t\tFILE: Number of bytes read=293486\n",
      "\t\tFILE: Number of bytes written=1034994\n",
      "\t\tFILE: Number of read operations=0\n",
      "\t\tFILE: Number of large read operations=0\n",
      "\t\tFILE: Number of write operations=0\n",
      "\t\tHDFS: Number of bytes read=167388\n",
      "\t\tHDFS: Number of bytes written=186923\n",
      "\t\tHDFS: Number of read operations=9\n",
      "\t\tHDFS: Number of large read operations=0\n",
      "\t\tHDFS: Number of write operations=2\n",
      "\tJob Counters \n",
      "\t\tLaunched map tasks=2\n",
      "\t\tLaunched reduce tasks=1\n",
      "\t\tData-local map tasks=2\n",
      "\t\tTotal time spent by all maps in occupied slots (ms)=8365\n",
      "\t\tTotal time spent by all reduces in occupied slots (ms)=3521\n",
      "\t\tTotal time spent by all map tasks (ms)=8365\n",
      "\t\tTotal time spent by all reduce tasks (ms)=3521\n",
      "\t\tTotal vcore-milliseconds taken by all map tasks=8365\n",
      "\t\tTotal vcore-milliseconds taken by all reduce tasks=3521\n",
      "\t\tTotal megabyte-milliseconds taken by all map tasks=8565760\n",
      "\t\tTotal megabyte-milliseconds taken by all reduce tasks=3605504\n",
      "\tMap-Reduce Framework\n",
      "\t\tMap input records=80\n",
      "\t\tMap output records=25075\n",
      "\t\tMap output bytes=243330\n",
      "\t\tMap output materialized bytes=293492\n",
      "\t\tInput split bytes=226\n",
      "\t\tCombine input records=0\n",
      "\t\tCombine output records=0\n",
      "\t\tReduce input groups=4557\n",
      "\t\tReduce shuffle bytes=293492\n",
      "\t\tReduce input records=25075\n",
      "\t\tReduce output records=4556\n",
      "\t\tSpilled Records=50150\n",
      "\t\tShuffled Maps =2\n",
      "\t\tFailed Shuffles=0\n",
      "\t\tMerged Map outputs=2\n",
      "\t\tGC time elapsed (ms)=71\n",
      "\t\tCPU time spent (ms)=3900\n",
      "\t\tPhysical memory (bytes) snapshot=804855808\n",
      "\t\tVirtual memory (bytes) snapshot=4151480320\n",
      "\t\tTotal committed heap usage (bytes)=696254464\n",
      "\tShuffle Errors\n",
      "\t\tBAD_ID=0\n",
      "\t\tCONNECTION=0\n",
      "\t\tIO_ERROR=0\n",
      "\t\tWRONG_LENGTH=0\n",
      "\t\tWRONG_MAP=0\n",
      "\t\tWRONG_REDUCE=0\n",
      "\tFile Input Format Counters \n",
      "\t\tBytes Read=167162\n",
      "\tFile Output Format Counters \n",
      "\t\tBytes Written=186923\n",
      "18/10/01 04:43:53 INFO streaming.StreamJob: Output directory: /user/root/HW2/enron-model\n"
     ]
    }
   ],
   "source": [
    "# part b -  Unsmoothed model (FILL IN THE MISSING CODE BELOW)\n",
    "\n",
    "# clear the output directory\n",
    "!hdfs dfs -rm -r {HDFS_DIR}/enron-model\n",
    "\n",
    "# hadoop command\n",
    "!hadoop jar {JAR_FILE} \\\n",
    "  -files NaiveBayes/train_mapper.py,NaiveBayes/train_reducer.py \\\n",
    "  -mapper train_mapper.py \\\n",
    "  -reducer train_reducer.py \\\n",
    "  -input {HDFS_DIR}/enron_train.txt \\\n",
    "  -output {HDFS_DIR}/enron-model \\\n",
    "  -numReduceTasks 1 \\\n",
    "  -cmdenv PATH={PATH}\n",
    "\n",
    "# save the model locally\n",
    "# !mkdir NaiveBayes/Unsmoothed\n",
    "!hdfs dfs -cat {HDFS_DIR}/enron-model/part-000* > NaiveBayes/Unsmoothed/NBmodel.txt"
   ]
  },
  {
   "cell_type": "code",
   "execution_count": 141,
   "metadata": {},
   "outputs": [
    {
     "name": "stdout",
     "output_type": "stream",
     "text": [
      "assistance\t2,4,0.0001725476662928134,0.00029682398337785694\n"
     ]
    }
   ],
   "source": [
    "# part b - check your UNSMOOTHED model results (RUN THIS CELL AS IS)\n",
    "!grep assistance NaiveBayes/Unsmoothed/NBmodel.txt\n",
    "# EXPECTED OUTPUT: assistance\t2,4,0.000172547666293,0.000296823983378"
   ]
  },
  {
   "cell_type": "code",
   "execution_count": 142,
   "metadata": {},
   "outputs": [
    {
     "name": "stdout",
     "output_type": "stream",
     "text": [
      "money\t1,22,8.62738331464067e-05,0.001632531908578213\n"
     ]
    }
   ],
   "source": [
    "# part b - check your UNSMOOTHED model results (RUN THIS CELL AS IS)\n",
    "!grep money NaiveBayes/Unsmoothed/NBmodel.txt\n",
    "# EXPECTED OUTPUT: money\t1,22,8.62738331464e-05,0.00163253190858"
   ]
  },
  {
   "cell_type": "markdown",
   "metadata": {},
   "source": [
    "__Training__ (Enron MNB Model _with Laplace +1 smoothing_ )"
   ]
  },
  {
   "cell_type": "code",
   "execution_count": 143,
   "metadata": {},
   "outputs": [
    {
     "name": "stdout",
     "output_type": "stream",
     "text": [
      "Deleted /user/root/HW2/smooth-model\n",
      "packageJobJar: [] [/usr/lib/hadoop-mapreduce/hadoop-streaming-2.6.0-cdh5.15.0.jar] /tmp/streamjob8679407997338526006.jar tmpDir=null\n",
      "18/10/01 04:44:32 INFO client.RMProxy: Connecting to ResourceManager at /0.0.0.0:8032\n",
      "18/10/01 04:44:32 INFO client.RMProxy: Connecting to ResourceManager at /0.0.0.0:8032\n",
      "18/10/01 04:44:33 INFO mapred.FileInputFormat: Total input paths to process : 1\n",
      "18/10/01 04:44:33 INFO mapreduce.JobSubmitter: number of splits:2\n",
      "18/10/01 04:44:34 INFO mapreduce.JobSubmitter: Submitting tokens for job: job_1538158114445_0020\n",
      "18/10/01 04:44:34 INFO impl.YarnClientImpl: Submitted application application_1538158114445_0020\n",
      "18/10/01 04:44:34 INFO mapreduce.Job: The url to track the job: http://docker.w261:8088/proxy/application_1538158114445_0020/\n",
      "18/10/01 04:44:34 INFO mapreduce.Job: Running job: job_1538158114445_0020\n",
      "18/10/01 04:44:40 INFO mapreduce.Job: Job job_1538158114445_0020 running in uber mode : false\n",
      "18/10/01 04:44:40 INFO mapreduce.Job:  map 0% reduce 0%\n",
      "18/10/01 04:44:46 INFO mapreduce.Job:  map 50% reduce 0%\n",
      "18/10/01 04:44:47 INFO mapreduce.Job:  map 100% reduce 0%\n",
      "18/10/01 04:44:52 INFO mapreduce.Job:  map 100% reduce 100%\n",
      "18/10/01 04:44:52 INFO mapreduce.Job: Job job_1538158114445_0020 completed successfully\n",
      "18/10/01 04:44:52 INFO mapreduce.Job: Counters: 50\n",
      "\tFile System Counters\n",
      "\t\tFILE: Number of bytes read=293486\n",
      "\t\tFILE: Number of bytes written=1035102\n",
      "\t\tFILE: Number of read operations=0\n",
      "\t\tFILE: Number of large read operations=0\n",
      "\t\tFILE: Number of write operations=0\n",
      "\t\tHDFS: Number of bytes read=167388\n",
      "\t\tHDFS: Number of bytes written=254172\n",
      "\t\tHDFS: Number of read operations=9\n",
      "\t\tHDFS: Number of large read operations=0\n",
      "\t\tHDFS: Number of write operations=2\n",
      "\tJob Counters \n",
      "\t\tKilled map tasks=1\n",
      "\t\tLaunched map tasks=2\n",
      "\t\tLaunched reduce tasks=1\n",
      "\t\tData-local map tasks=2\n",
      "\t\tTotal time spent by all maps in occupied slots (ms)=7502\n",
      "\t\tTotal time spent by all reduces in occupied slots (ms)=3497\n",
      "\t\tTotal time spent by all map tasks (ms)=7502\n",
      "\t\tTotal time spent by all reduce tasks (ms)=3497\n",
      "\t\tTotal vcore-milliseconds taken by all map tasks=7502\n",
      "\t\tTotal vcore-milliseconds taken by all reduce tasks=3497\n",
      "\t\tTotal megabyte-milliseconds taken by all map tasks=7682048\n",
      "\t\tTotal megabyte-milliseconds taken by all reduce tasks=3580928\n",
      "\tMap-Reduce Framework\n",
      "\t\tMap input records=80\n",
      "\t\tMap output records=25075\n",
      "\t\tMap output bytes=243330\n",
      "\t\tMap output materialized bytes=293492\n",
      "\t\tInput split bytes=226\n",
      "\t\tCombine input records=0\n",
      "\t\tCombine output records=0\n",
      "\t\tReduce input groups=4557\n",
      "\t\tReduce shuffle bytes=293492\n",
      "\t\tReduce input records=25075\n",
      "\t\tReduce output records=4556\n",
      "\t\tSpilled Records=50150\n",
      "\t\tShuffled Maps =2\n",
      "\t\tFailed Shuffles=0\n",
      "\t\tMerged Map outputs=2\n",
      "\t\tGC time elapsed (ms)=74\n",
      "\t\tCPU time spent (ms)=3690\n",
      "\t\tPhysical memory (bytes) snapshot=795275264\n",
      "\t\tVirtual memory (bytes) snapshot=4123856896\n",
      "\t\tTotal committed heap usage (bytes)=627572736\n",
      "\tShuffle Errors\n",
      "\t\tBAD_ID=0\n",
      "\t\tCONNECTION=0\n",
      "\t\tIO_ERROR=0\n",
      "\t\tWRONG_LENGTH=0\n",
      "\t\tWRONG_MAP=0\n",
      "\t\tWRONG_REDUCE=0\n",
      "\tFile Input Format Counters \n",
      "\t\tBytes Read=167162\n",
      "\tFile Output Format Counters \n",
      "\t\tBytes Written=254172\n",
      "18/10/01 04:44:52 INFO streaming.StreamJob: Output directory: /user/root/HW2/smooth-model\n"
     ]
    }
   ],
   "source": [
    "# part b -  Smoothed model (FILL IN THE MISSING CODE BELOW)\n",
    "\n",
    "# clear the output directory\n",
    "!hdfs dfs -rm -r {HDFS_DIR}/smooth-model\n",
    "\n",
    "# hadoop command\n",
    "!hadoop jar {JAR_FILE} \\\n",
    "  -files NaiveBayes/train_mapper.py,NaiveBayes/train_reducer_smooth.py \\\n",
    "  -mapper train_mapper.py \\\n",
    "  -reducer train_reducer_smooth.py \\\n",
    "  -input {HDFS_DIR}/enron_train.txt \\\n",
    "  -output {HDFS_DIR}/smooth-model \\\n",
    "  -numReduceTasks 1 \\\n",
    "  -cmdenv PATH={PATH}\n",
    "\n",
    "# save the model locally\n",
    "# !mkdir NaiveBayes/Smoothed\n",
    "!hdfs dfs -cat {HDFS_DIR}/smooth-model/part-000* > NaiveBayes/Smoothed/NBmodel.txt"
   ]
  },
  {
   "cell_type": "code",
   "execution_count": 144,
   "metadata": {},
   "outputs": [
    {
     "name": "stdout",
     "output_type": "stream",
     "text": [
      "assistance\t2,4,0.0001858045336306206,0.00027730020520215184\n"
     ]
    }
   ],
   "source": [
    "# part b - check your SMOOTHED model results (RUN THIS CELL AS IS)\n",
    "!grep assistance NaiveBayes/Smoothed/NBmodel.txt\n",
    "# EXPECTED OUTPUT: assistance\t2,4,0.000185804533631,0.000277300205202"
   ]
  },
  {
   "cell_type": "code",
   "execution_count": 145,
   "metadata": {},
   "outputs": [
    {
     "name": "stdout",
     "output_type": "stream",
     "text": [
      "money\t1,22,0.0001238696890870804,0.0012755809439298986\n"
     ]
    }
   ],
   "source": [
    "# part b - check your SMOOTHED model results (RUN THIS CELL AS IS)\n",
    "!grep money NaiveBayes/Smoothed/NBmodel.txt\n",
    "# EXPECTED OUTPUT: money\t1,22,0.000123869689087,0.00127558094393"
   ]
  },
  {
   "cell_type": "markdown",
   "metadata": {},
   "source": [
    "__Evaluation__"
   ]
  },
  {
   "cell_type": "code",
   "execution_count": 146,
   "metadata": {},
   "outputs": [],
   "source": [
    "# part c - write your code in NaiveBayes/evaluation_reducer.py then RUN THIS\n",
    "!chmod a+x NaiveBayes/evaluation_reducer.py"
   ]
  },
  {
   "cell_type": "code",
   "execution_count": 157,
   "metadata": {},
   "outputs": [
    {
     "name": "stdout",
     "output_type": "stream",
     "text": [
      "d5\t1\t-8.90668134500626\t-8.10769031284611\t1\n",
      "d6\t1\t-5.780743515794329\t-4.179502370564408\t1\n",
      "d7\t0\t-6.591673732011658\t-7.511706880737812\t0\n",
      "d8\t0\t-4.394449154674438\t-5.565796731681498\t0\n",
      "d5          1            -8.90668134500626   -8.10769031284611   True\n",
      "d6          1            -5.780743515794329  -4.179502370564408  True\n",
      "d7          0            -6.591673732011658  -7.511706880737812  True\n",
      "d8          0            -4.394449154674438  -5.565796731681498  True\n",
      "#           Documents:   4\n",
      "True        Postitives:  2.0\n",
      "True        Negatives:   2.0\n",
      "False       Postitives:  0.0\n",
      "False       Negatives:   0.0\n",
      "Accuracy:   1.0\n",
      "Precision:  1.0\n",
      "Recall:     1.0\n",
      "F-score:    1.0\n"
     ]
    }
   ],
   "source": [
    "# part c - unit test your evaluation job on the chinese model (RUN THIS CELL AS IS)\n",
    "!cat NaiveBayes/chineseTest.txt | NaiveBayes/classify_mapper.py \n",
    "!cat NaiveBayes/chineseTest.txt | NaiveBayes/classify_mapper.py | NaiveBayes/evaluation_reducer.py | column -t"
   ]
  },
  {
   "cell_type": "code",
   "execution_count": 158,
   "metadata": {},
   "outputs": [
    {
     "name": "stdout",
     "output_type": "stream",
     "text": [
      "Deleted /user/root/HW2/enron-model-eval-unsmoothed\n",
      "packageJobJar: [] [/usr/lib/hadoop-mapreduce/hadoop-streaming-2.6.0-cdh5.15.0.jar] /tmp/streamjob4680937568387105426.jar tmpDir=null\n",
      "18/10/01 04:59:54 INFO client.RMProxy: Connecting to ResourceManager at /0.0.0.0:8032\n",
      "18/10/01 04:59:54 INFO client.RMProxy: Connecting to ResourceManager at /0.0.0.0:8032\n",
      "18/10/01 04:59:55 INFO mapred.FileInputFormat: Total input paths to process : 1\n",
      "18/10/01 04:59:55 INFO mapreduce.JobSubmitter: number of splits:2\n",
      "18/10/01 04:59:55 INFO mapreduce.JobSubmitter: Submitting tokens for job: job_1538158114445_0023\n",
      "18/10/01 04:59:56 INFO impl.YarnClientImpl: Submitted application application_1538158114445_0023\n",
      "18/10/01 04:59:56 INFO mapreduce.Job: The url to track the job: http://docker.w261:8088/proxy/application_1538158114445_0023/\n",
      "18/10/01 04:59:56 INFO mapreduce.Job: Running job: job_1538158114445_0023\n",
      "18/10/01 05:00:02 INFO mapreduce.Job: Job job_1538158114445_0023 running in uber mode : false\n",
      "18/10/01 05:00:02 INFO mapreduce.Job:  map 0% reduce 0%\n",
      "18/10/01 05:00:07 INFO mapreduce.Job:  map 50% reduce 0%\n",
      "18/10/01 05:00:09 INFO mapreduce.Job:  map 100% reduce 0%\n",
      "18/10/01 05:00:13 INFO mapreduce.Job:  map 100% reduce 100%\n",
      "18/10/01 05:00:13 INFO mapreduce.Job: Job job_1538158114445_0023 completed successfully\n",
      "18/10/01 05:00:13 INFO mapreduce.Job: Counters: 49\n",
      "\tFile System Counters\n",
      "\t\tFILE: Number of bytes read=818\n",
      "\t\tFILE: Number of bytes written=450861\n",
      "\t\tFILE: Number of read operations=0\n",
      "\t\tFILE: Number of large read operations=0\n",
      "\t\tFILE: Number of write operations=0\n",
      "\t\tHDFS: Number of bytes read=49909\n",
      "\t\tHDFS: Number of bytes written=1058\n",
      "\t\tHDFS: Number of read operations=9\n",
      "\t\tHDFS: Number of large read operations=0\n",
      "\t\tHDFS: Number of write operations=2\n",
      "\tJob Counters \n",
      "\t\tLaunched map tasks=2\n",
      "\t\tLaunched reduce tasks=1\n",
      "\t\tData-local map tasks=2\n",
      "\t\tTotal time spent by all maps in occupied slots (ms)=7124\n",
      "\t\tTotal time spent by all reduces in occupied slots (ms)=3211\n",
      "\t\tTotal time spent by all map tasks (ms)=7124\n",
      "\t\tTotal time spent by all reduce tasks (ms)=3211\n",
      "\t\tTotal vcore-milliseconds taken by all map tasks=7124\n",
      "\t\tTotal vcore-milliseconds taken by all reduce tasks=3211\n",
      "\t\tTotal megabyte-milliseconds taken by all map tasks=7294976\n",
      "\t\tTotal megabyte-milliseconds taken by all reduce tasks=3288064\n",
      "\tMap-Reduce Framework\n",
      "\t\tMap input records=20\n",
      "\t\tMap output records=20\n",
      "\t\tMap output bytes=772\n",
      "\t\tMap output materialized bytes=824\n",
      "\t\tInput split bytes=224\n",
      "\t\tCombine input records=0\n",
      "\t\tCombine output records=0\n",
      "\t\tReduce input groups=20\n",
      "\t\tReduce shuffle bytes=824\n",
      "\t\tReduce input records=20\n",
      "\t\tReduce output records=29\n",
      "\t\tSpilled Records=40\n",
      "\t\tShuffled Maps =2\n",
      "\t\tFailed Shuffles=0\n",
      "\t\tMerged Map outputs=2\n",
      "\t\tGC time elapsed (ms)=74\n",
      "\t\tCPU time spent (ms)=1960\n",
      "\t\tPhysical memory (bytes) snapshot=786432000\n",
      "\t\tVirtual memory (bytes) snapshot=4116664320\n",
      "\t\tTotal committed heap usage (bytes)=625999872\n",
      "\tShuffle Errors\n",
      "\t\tBAD_ID=0\n",
      "\t\tCONNECTION=0\n",
      "\t\tIO_ERROR=0\n",
      "\t\tWRONG_LENGTH=0\n",
      "\t\tWRONG_MAP=0\n",
      "\t\tWRONG_REDUCE=0\n",
      "\tFile Input Format Counters \n",
      "\t\tBytes Read=49685\n",
      "\tFile Output Format Counters \n",
      "\t\tBytes Written=1058\n",
      "18/10/01 05:00:13 INFO streaming.StreamJob: Output directory: /user/root/HW2/enron-model-eval-unsmoothed\n"
     ]
    }
   ],
   "source": [
    "# part c - Evaluate the UNSMOOTHED Model Here (FILL IN THE MISSING CODE)\n",
    "\n",
    "# clear output directory\n",
    "!hdfs dfs -rm -r {HDFS_DIR}/enron-model-eval-unsmoothed\n",
    "\n",
    "# hadoop # hadoop job\n",
    "!hadoop jar {JAR_FILE} \\\n",
    "  -files NaiveBayes/classify_mapper.py,NaiveBayes/evaluation_reducer.py,NaiveBayes/Unsmoothed/NBmodel.txt \\\n",
    "  -mapper classify_mapper.py \\\n",
    "  -reducer evaluation_reducer.py \\\n",
    "  -input {HDFS_DIR}/enron_test.txt \\\n",
    "  -output {HDFS_DIR}/enron-model-eval-unsmoothed \\\n",
    "  -numReduceTasks 1 \\\n",
    "  -cmdenv PATH={PATH}\n",
    "\n",
    "# retrieve results locally\n",
    "!hdfs dfs -cat {HDFS_DIR}/enron-model-eval-unsmoothed/part-000* > NaiveBayes/Unsmoothed/results.txt"
   ]
  },
  {
   "cell_type": "code",
   "execution_count": 159,
   "metadata": {},
   "outputs": [
    {
     "name": "stdout",
     "output_type": "stream",
     "text": [
      "Deleted /user/root/HW2/enron-model-eval-smoothed\n",
      "packageJobJar: [] [/usr/lib/hadoop-mapreduce/hadoop-streaming-2.6.0-cdh5.15.0.jar] /tmp/streamjob6813485822985869581.jar tmpDir=null\n",
      "18/10/01 05:00:23 INFO client.RMProxy: Connecting to ResourceManager at /0.0.0.0:8032\n",
      "18/10/01 05:00:23 INFO client.RMProxy: Connecting to ResourceManager at /0.0.0.0:8032\n",
      "18/10/01 05:00:24 INFO mapred.FileInputFormat: Total input paths to process : 1\n",
      "18/10/01 05:00:24 INFO mapreduce.JobSubmitter: number of splits:2\n",
      "18/10/01 05:00:24 INFO mapreduce.JobSubmitter: Submitting tokens for job: job_1538158114445_0024\n",
      "18/10/01 05:00:24 INFO impl.YarnClientImpl: Submitted application application_1538158114445_0024\n",
      "18/10/01 05:00:24 INFO mapreduce.Job: The url to track the job: http://docker.w261:8088/proxy/application_1538158114445_0024/\n",
      "18/10/01 05:00:24 INFO mapreduce.Job: Running job: job_1538158114445_0024\n",
      "18/10/01 05:00:31 INFO mapreduce.Job: Job job_1538158114445_0024 running in uber mode : false\n",
      "18/10/01 05:00:31 INFO mapreduce.Job:  map 0% reduce 0%\n",
      "18/10/01 05:00:37 INFO mapreduce.Job:  map 50% reduce 0%\n",
      "18/10/01 05:00:38 INFO mapreduce.Job:  map 100% reduce 0%\n",
      "18/10/01 05:00:43 INFO mapreduce.Job:  map 100% reduce 100%\n",
      "18/10/01 05:00:43 INFO mapreduce.Job: Job job_1538158114445_0024 completed successfully\n",
      "18/10/01 05:00:43 INFO mapreduce.Job: Counters: 49\n",
      "\tFile System Counters\n",
      "\t\tFILE: Number of bytes read=1349\n",
      "\t\tFILE: Number of bytes written=451911\n",
      "\t\tFILE: Number of read operations=0\n",
      "\t\tFILE: Number of large read operations=0\n",
      "\t\tFILE: Number of write operations=0\n",
      "\t\tHDFS: Number of bytes read=49909\n",
      "\t\tHDFS: Number of bytes written=1567\n",
      "\t\tHDFS: Number of read operations=9\n",
      "\t\tHDFS: Number of large read operations=0\n",
      "\t\tHDFS: Number of write operations=2\n",
      "\tJob Counters \n",
      "\t\tLaunched map tasks=2\n",
      "\t\tLaunched reduce tasks=1\n",
      "\t\tData-local map tasks=2\n",
      "\t\tTotal time spent by all maps in occupied slots (ms)=7862\n",
      "\t\tTotal time spent by all reduces in occupied slots (ms)=3155\n",
      "\t\tTotal time spent by all map tasks (ms)=7862\n",
      "\t\tTotal time spent by all reduce tasks (ms)=3155\n",
      "\t\tTotal vcore-milliseconds taken by all map tasks=7862\n",
      "\t\tTotal vcore-milliseconds taken by all reduce tasks=3155\n",
      "\t\tTotal megabyte-milliseconds taken by all map tasks=8050688\n",
      "\t\tTotal megabyte-milliseconds taken by all reduce tasks=3230720\n",
      "\tMap-Reduce Framework\n",
      "\t\tMap input records=20\n",
      "\t\tMap output records=20\n",
      "\t\tMap output bytes=1303\n",
      "\t\tMap output materialized bytes=1355\n",
      "\t\tInput split bytes=224\n",
      "\t\tCombine input records=0\n",
      "\t\tCombine output records=0\n",
      "\t\tReduce input groups=20\n",
      "\t\tReduce shuffle bytes=1355\n",
      "\t\tReduce input records=20\n",
      "\t\tReduce output records=29\n",
      "\t\tSpilled Records=40\n",
      "\t\tShuffled Maps =2\n",
      "\t\tFailed Shuffles=0\n",
      "\t\tMerged Map outputs=2\n",
      "\t\tGC time elapsed (ms)=63\n",
      "\t\tCPU time spent (ms)=2000\n",
      "\t\tPhysical memory (bytes) snapshot=787296256\n",
      "\t\tVirtual memory (bytes) snapshot=4109934592\n",
      "\t\tTotal committed heap usage (bytes)=627572736\n",
      "\tShuffle Errors\n",
      "\t\tBAD_ID=0\n",
      "\t\tCONNECTION=0\n",
      "\t\tIO_ERROR=0\n",
      "\t\tWRONG_LENGTH=0\n",
      "\t\tWRONG_MAP=0\n",
      "\t\tWRONG_REDUCE=0\n",
      "\tFile Input Format Counters \n",
      "\t\tBytes Read=49685\n",
      "\tFile Output Format Counters \n",
      "\t\tBytes Written=1567\n",
      "18/10/01 05:00:43 INFO streaming.StreamJob: Output directory: /user/root/HW2/enron-model-eval-smoothed\n"
     ]
    }
   ],
   "source": [
    "# part c - Evaluate the SMOOTHED Model Here (FILL IN THE MISSING CODE)\n",
    "\n",
    "# clear output directory\n",
    "!hdfs dfs -rm -r {HDFS_DIR}/enron-model-eval-smoothed\n",
    "\n",
    "# hadoop # hadoop job\n",
    "!hadoop jar {JAR_FILE} \\\n",
    "  -files NaiveBayes/classify_mapper.py,NaiveBayes/evaluation_reducer.py,NaiveBayes/Smoothed/NBmodel.txt \\\n",
    "  -mapper classify_mapper.py \\\n",
    "  -reducer evaluation_reducer.py \\\n",
    "  -input {HDFS_DIR}/enron_test.txt \\\n",
    "  -output {HDFS_DIR}/enron-model-eval-smoothed \\\n",
    "  -numReduceTasks 1 \\\n",
    "  -cmdenv PATH={PATH}\n",
    "\n",
    "# retrieve results locally\n",
    "!hdfs dfs -cat {HDFS_DIR}/enron-model-eval-smoothed/part-000* > NaiveBayes/Smoothed/results.txt"
   ]
  },
  {
   "cell_type": "code",
   "execution_count": 160,
   "metadata": {},
   "outputs": [
    {
     "name": "stdout",
     "output_type": "stream",
     "text": [
      "=========== UNSMOOTHED MODEL ============\n",
      "# Documents:\t20\t\n",
      "True Postitives:\t1.0\t\n",
      "True Negatives:\t9.0\t\n",
      "False Postitives:\t0.0\t\n",
      "False Negatives:\t10.0\t\n",
      "Accuracy:\t0.5\t\n",
      "Precision:\t1.0\t\n",
      "Recall:\t0.09090909090909091\t\n",
      "F-score:\t0.16666666666666669\t\n",
      "=========== SMOOTHED MODEL ============\n",
      "# Documents:\t20\t\n",
      "True Postitives:\t11.0\t\n",
      "True Negatives:\t6.0\t\n",
      "False Postitives:\t3.0\t\n",
      "False Negatives:\t0.0\t\n",
      "Accuracy:\t0.85\t\n",
      "Precision:\t0.7857142857142857\t\n",
      "Recall:\t1.0\t\n",
      "F-score:\t0.88\t\n"
     ]
    }
   ],
   "source": [
    "# part c - display results \n",
    "# NOTE: feel free to modify the tail commands to match the format of your results file\n",
    "print('=========== UNSMOOTHED MODEL ============')\n",
    "!tail -n 9 NaiveBayes/Unsmoothed/results.txt\n",
    "print('=========== SMOOTHED MODEL ============')\n",
    "!tail -n 9 NaiveBayes/Smoothed/results.txt"
   ]
  },
  {
   "cell_type": "markdown",
   "metadata": {},
   "source": [
    "__`EXPECTED RESULTS:`__ \n",
    "<table>\n",
    "<th>Unsmoothed Model</th>\n",
    "<th>Smoothed Model</th>\n",
    "<tr>\n",
    "<td><pre>\n",
    "# Documents:\t20\n",
    "True Positives:\t1\n",
    "True Negatives:\t9\n",
    "False Positives:\t0\n",
    "False Negatives:\t10\n",
    "Accuracy\t0.5\n",
    "Precision\t1.0\n",
    "Recall\t0.0909\n",
    "F-Score\t0.1666\n",
    "</pre></td>\n",
    "<td><pre>\n",
    "# Documents:\t20\n",
    "True Positives:\t11\n",
    "True Negatives:\t6\n",
    "False Positives:\t3\n",
    "False Negatives:\t0\n",
    "Accuracy\t0.85\n",
    "Precision\t0.7857\n",
    "Recall\t1.0\n",
    "F-Score\t0.88\n",
    "</pre></td>\n",
    "</tr>\n",
    "</table>\n",
    "\n",
    "__`NOTE:`__ _Don't be too disappointed if these seem low to you. We've trained and tested on a very very small corpus... bigger datasets coming soon!_\n",
    "\n",
    "__`part e starts here:`__"
   ]
  },
  {
   "cell_type": "code",
   "execution_count": 172,
   "metadata": {},
   "outputs": [],
   "source": [
    "!chmod a+x NaiveBayes/model_sort_mapper.py\n",
    "# !cat NaiveBayes/Smoothed/NBmodel.txt | NaiveBayes/model_sort_mapper.py | sort -k4nr,4"
   ]
  },
  {
   "cell_type": "code",
   "execution_count": 175,
   "metadata": {},
   "outputs": [
    {
     "name": "stdout",
     "output_type": "stream",
     "text": [
      "Deleted /user/root/HW2/top_10_each_class\n",
      "packageJobJar: [] [/usr/lib/hadoop-mapreduce/hadoop-streaming-2.6.0-cdh5.15.0.jar] /tmp/streamjob5349364496256530330.jar tmpDir=null\n",
      "18/10/01 17:39:48 INFO client.RMProxy: Connecting to ResourceManager at /0.0.0.0:8032\n",
      "18/10/01 17:39:48 INFO client.RMProxy: Connecting to ResourceManager at /0.0.0.0:8032\n",
      "18/10/01 17:39:49 INFO mapred.FileInputFormat: Total input paths to process : 1\n",
      "18/10/01 17:39:49 INFO mapreduce.JobSubmitter: number of splits:2\n",
      "18/10/01 17:39:49 INFO mapreduce.JobSubmitter: Submitting tokens for job: job_1538158114445_0032\n",
      "18/10/01 17:39:49 INFO impl.YarnClientImpl: Submitted application application_1538158114445_0032\n",
      "18/10/01 17:39:49 INFO mapreduce.Job: The url to track the job: http://docker.w261:8088/proxy/application_1538158114445_0032/\n",
      "18/10/01 17:39:49 INFO mapreduce.Job: Running job: job_1538158114445_0032\n",
      "18/10/01 17:39:55 INFO mapreduce.Job: Job job_1538158114445_0032 running in uber mode : false\n",
      "18/10/01 17:39:55 INFO mapreduce.Job:  map 0% reduce 0%\n",
      "18/10/01 17:40:01 INFO mapreduce.Job:  map 50% reduce 0%\n",
      "18/10/01 17:40:02 INFO mapreduce.Job:  map 100% reduce 0%\n",
      "18/10/01 17:40:07 INFO mapreduce.Job:  map 100% reduce 50%\n",
      "18/10/01 17:40:08 INFO mapreduce.Job:  map 100% reduce 100%\n",
      "18/10/01 17:40:08 INFO mapreduce.Job: Job job_1538158114445_0032 completed successfully\n",
      "18/10/01 17:40:09 INFO mapreduce.Job: Counters: 49\n",
      "\tFile System Counters\n",
      "\t\tFILE: Number of bytes read=391060\n",
      "\t\tFILE: Number of bytes written=1381994\n",
      "\t\tFILE: Number of read operations=0\n",
      "\t\tFILE: Number of large read operations=0\n",
      "\t\tFILE: Number of write operations=0\n",
      "\t\tHDFS: Number of bytes read=258510\n",
      "\t\tHDFS: Number of bytes written=381936\n",
      "\t\tHDFS: Number of read operations=12\n",
      "\t\tHDFS: Number of large read operations=0\n",
      "\t\tHDFS: Number of write operations=4\n",
      "\tJob Counters \n",
      "\t\tLaunched map tasks=2\n",
      "\t\tLaunched reduce tasks=2\n",
      "\t\tData-local map tasks=2\n",
      "\t\tTotal time spent by all maps in occupied slots (ms)=7357\n",
      "\t\tTotal time spent by all reduces in occupied slots (ms)=8345\n",
      "\t\tTotal time spent by all map tasks (ms)=7357\n",
      "\t\tTotal time spent by all reduce tasks (ms)=8345\n",
      "\t\tTotal vcore-milliseconds taken by all map tasks=7357\n",
      "\t\tTotal vcore-milliseconds taken by all reduce tasks=8345\n",
      "\t\tTotal megabyte-milliseconds taken by all map tasks=7533568\n",
      "\t\tTotal megabyte-milliseconds taken by all reduce tasks=8545280\n",
      "\tMap-Reduce Framework\n",
      "\t\tMap input records=4556\n",
      "\t\tMap output records=4556\n",
      "\t\tMap output bytes=381936\n",
      "\t\tMap output materialized bytes=391072\n",
      "\t\tInput split bytes=242\n",
      "\t\tCombine input records=0\n",
      "\t\tCombine output records=0\n",
      "\t\tReduce input groups=4556\n",
      "\t\tReduce shuffle bytes=391072\n",
      "\t\tReduce input records=4556\n",
      "\t\tReduce output records=4556\n",
      "\t\tSpilled Records=9112\n",
      "\t\tShuffled Maps =4\n",
      "\t\tFailed Shuffles=0\n",
      "\t\tMerged Map outputs=4\n",
      "\t\tGC time elapsed (ms)=103\n",
      "\t\tCPU time spent (ms)=4430\n",
      "\t\tPhysical memory (bytes) snapshot=1009405952\n",
      "\t\tVirtual memory (bytes) snapshot=5524164608\n",
      "\t\tTotal committed heap usage (bytes)=810024960\n",
      "\tShuffle Errors\n",
      "\t\tBAD_ID=0\n",
      "\t\tCONNECTION=0\n",
      "\t\tIO_ERROR=0\n",
      "\t\tWRONG_LENGTH=0\n",
      "\t\tWRONG_MAP=0\n",
      "\t\tWRONG_REDUCE=0\n",
      "\tFile Input Format Counters \n",
      "\t\tBytes Read=258268\n",
      "\tFile Output Format Counters \n",
      "\t\tBytes Written=381936\n",
      "18/10/01 17:40:09 INFO streaming.StreamJob: Output directory: /user/root/HW2/top_10_each_class\n"
     ]
    }
   ],
   "source": [
    "# part e - write your Hadoop job here (sort smoothed model on P(word|class))\n",
    "\n",
    "# clear output directory\n",
    "!hdfs dfs -rm -r {HDFS_DIR}/top_10_each_class\n",
    "\n",
    "# hadoop job\n",
    "!hadoop jar {JAR_FILE} \\\n",
    "  -D stream.num.map.output.key.fields=4 \\\n",
    "  -D mapreduce.job.output.key.comparator.class=org.apache.hadoop.mapred.lib.KeyFieldBasedComparator \\\n",
    "  -D mapreduce.partition.keycomparator.options=\"-k4nr,4\" \\\n",
    "  -D mapreduce.partition.keypartitioner.options=\"-k3,3\" \\\n",
    "  -files NaiveBayes/model_sort_mapper.py \\\n",
    "  -partitioner org.apache.hadoop.mapred.lib.KeyFieldBasedPartitioner \\\n",
    "  -mapper model_sort_mapper.py \\\n",
    "  -reducer /bin/cat \\\n",
    "  -input {HDFS_DIR}/smooth-model/part-000* \\\n",
    "  -output {HDFS_DIR}/top_10_each_class \\\n",
    "  -cmdenv PATH={PATH}\\\n",
    "  -numReduceTasks 2\n",
    "\n"
   ]
  },
  {
   "cell_type": "code",
   "execution_count": 176,
   "metadata": {},
   "outputs": [
    {
     "name": "stdout",
     "output_type": "stream",
     "text": [
      "========== PARTITION1 ==========\n",
      "ClassPriors\t47,33,0.5875,0.4125\tham\t0.5875\t\n",
      "ect\t378,0,0.023473306082001735,5.546004104043037e-05\tham\t0.023473306082001735\t\n",
      "and\t258,277,0.01604112473677691,0.015417891409239643\tham\t0.01604112473677691\t\n",
      "hou\t203,0,0.0126347082868822,5.546004104043037e-05\tham\t0.0126347082868822\t\n",
      "in\t160,157,0.009971509971509971,0.008762686484387999\tham\t0.009971509971509971\t\n",
      "for\t148,153,0.00922829183698749,0.008540846320226277\tham\t0.00922829183698749\t\n",
      "on\t122,95,0.007617985878855444,0.005324163939881316\tham\t0.007617985878855444\t\n",
      "enron\t116,0,0.007246376811594203,5.546004104043037e-05\tham\t0.007246376811594203\t\n",
      "will\t113,69,0.007060572277963582,0.003882202872830126\tham\t0.007060572277963582\t\n",
      "i\t113,106,0.007060572277963582,0.00593422439132605\tham\t0.007060572277963582\t\n",
      "cat: Unable to write to output stream.\n",
      "========== PARTITION2 ==========\n",
      "the\t453,535,0.02811841942276725,0.029726581997670677\tspam\t0.029726581997670677\t\n",
      "to\t350,420,0.021739130434782608,0.023348677278021184\tspam\t0.023348677278021184\t\n",
      "a\t168,274,0.010466988727858293,0.015251511286118352\tspam\t0.015251511286118352\t\n",
      "your\t35,271,0.002229654403567447,0.01508513116299706\tspam\t0.01508513116299706\t\n",
      "you\t80,252,0.005016722408026756,0.014031390383228884\tspam\t0.014031390383228884\t\n",
      "of\t188,252,0.011705685618729096,0.014031390383228884\tspam\t0.014031390383228884\t\n",
      "it\t30,119,0.0019199801808497462,0.0066552049248516446\tspam\t0.0066552049248516446\t\n",
      "com\t74,108,0.004645113340765515,0.006045144473406911\tspam\t0.006045144473406911\t\n",
      "that\t71,100,0.004459308807134894,0.005601464145083467\tspam\t0.005601464145083467\t\n",
      "or\t41,88,0.002601263470828688,0.004935943652598303\tspam\t0.004935943652598303\t\n",
      "cat: Unable to write to output stream.\n"
     ]
    }
   ],
   "source": [
    "# part e - print top words in each class\n",
    "for p in range(2):\n",
    "    print('='*10,f'PARTITION{p+1}','='*10)\n",
    "    !hdfs dfs -cat {HDFS_DIR}/top_10_each_class/part-0000{p} | head -n 10"
   ]
  },
  {
   "cell_type": "markdown",
   "metadata": {},
   "source": [
    "# HW2 ends here, please refer to the `README.md` for submission instructions."
   ]
  }
 ],
 "metadata": {
  "kernelspec": {
   "display_name": "Python 3",
   "language": "python",
   "name": "python3"
  },
  "language_info": {
   "codemirror_mode": {
    "name": "ipython",
    "version": 3
   },
   "file_extension": ".py",
   "mimetype": "text/x-python",
   "name": "python",
   "nbconvert_exporter": "python",
   "pygments_lexer": "ipython3",
   "version": "3.6.6"
  }
 },
 "nbformat": 4,
 "nbformat_minor": 2
}
