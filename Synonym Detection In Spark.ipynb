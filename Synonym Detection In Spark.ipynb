{
 "cells": [
  {
   "cell_type": "markdown",
   "metadata": {},
   "source": [
    "# HW 3 - Synonym Detection In Spark\n",
    "__`MIDS w261: Machine Learning at Scale | UC Berkeley School of Information | Fall 2018`__\n",
    "\n",
    "In the last homework assignment you performed Naive Bayes to classify documents as 'ham' or 'spam.' In doing so, we relied on the implicit assumption that the list of words in a document can tell us something about the nature of that document's content. We'll rely on a similar intuition this week: the idea that, if we analyze a large enough corpus of text, the list of words that appear in small window before or after a vocabulary term can tell us something about that term's meaning.\n",
    "\n",
    "This will be your first assignment working in Spark. You'll perform Synonym Detection by repurposing an algorithm commonly used in Natural Language Processing to perform document similarity analysis. In doing so you'll also become familiar with important datatypes for efficiently processing sparse vectors and a number of set similarity metrics (e.g. Cosine, Jaccard, Dice). By the end of this homework you should be able to:  \n",
    "* ... __define__ the terms `one-hot encoding`, `co-occurrance matrix`, `stripe`, `inverted index`, `postings`, and `basis vocabulary` in the context of both synonym detection and document similarity analysis.\n",
    "* ... __explain__ the reasoning behind using a word stripe to compare word meanings.\n",
    "* ... __identify__ what makes set-similarity calculations computationally challenging.\n",
    "* ... __implement__ stateless algorithms in Spark to build stripes, inverted index and compute similarity metrics.\n",
    "* ... __apply__ appropriate metrics to assess the performance of your synonym detection algorithm. \n",
    "\n",
    "\n",
    "__`NOTE`__: your reading assignment for weeks 5 and 6 were fairly heavy and you may have glossed over the papers on dimension independent similarity metrics by [Zadeh et al](http://stanford.edu/~rezab/papers/disco.pdf) and pairwise document similarity by [Elsayed et al](https://terpconnect.umd.edu/~oard/pdf/acl08elsayed2.pdf). If you haven't already, this would be a good time to review those readings -- they are directly relevant to this assignment.\n",
    "\n",
    "__Please refer to the `README` for homework submission instructions and additional resources.__ "
   ]
  },
  {
   "cell_type": "markdown",
   "metadata": {},
   "source": [
    "# Notebook Set-Up\n",
    "Before starting your homework run the following cells to confirm your setup."
   ]
  },
  {
   "cell_type": "code",
   "execution_count": 1,
   "metadata": {},
   "outputs": [],
   "source": [
    "import re\n",
    "import ast\n",
    "import time\n",
    "import itertools\n",
    "import numpy as np\n",
    "import pandas as pd\n",
    "import matplotlib.pyplot as plt"
   ]
  },
  {
   "cell_type": "code",
   "execution_count": 2,
   "metadata": {},
   "outputs": [],
   "source": [
    "%reload_ext autoreload\n",
    "%autoreload 2\n",
    "%matplotlib inline"
   ]
  },
  {
   "cell_type": "code",
   "execution_count": 3,
   "metadata": {},
   "outputs": [],
   "source": [
    "# store path to notebook\n",
    "PWD = !pwd\n",
    "PWD = PWD[0]"
   ]
  },
  {
   "cell_type": "code",
   "execution_count": 4,
   "metadata": {},
   "outputs": [],
   "source": [
    "# start Spark Session\n",
    "from pyspark.sql import SparkSession\n",
    "app_name = \"hw3_notebook\"\n",
    "master = \"local[*]\"\n",
    "spark = SparkSession\\\n",
    "        .builder\\\n",
    "        .appName(app_name)\\\n",
    "        .master(master)\\\n",
    "        .getOrCreate()\n",
    "sc = spark.sparkContext"
   ]
  },
  {
   "cell_type": "markdown",
   "metadata": {},
   "source": [
    "__`REMINDER:`__ If you are running this notebook on the course docker container, you can monitor the progress of your jobs using the Spark UI at: http://localhost:4040/jobs/"
   ]
  },
  {
   "cell_type": "markdown",
   "metadata": {},
   "source": [
    "# Question 1: Spark Basics.\n",
    "In your readings and live session demos for weeks 5 and 6 you got a crash course in working with Spark. We also talked about how Spark RDDs fit into the broader picture of distributed algorithm design. The questions below cover key points from these discussions. Feel free to answer each one very briefly.\n",
    "\n",
    "### Q1 Tasks:\n",
    "\n",
    "* __a) short response:__ What is Spark? How  does it relate to Hadoop MapReduce?\n",
    "\n",
    "* __b) short response:__ In what ways does Spark follow the principles of statelessness (a.k.a. functional programming)? List at least one way in which it allows the programmer to depart from this principle. \n",
    "\n",
    "* __c) short response:__ In the context of Spark what is a 'DAG' and how do they relate to the difference between an 'action' and a 'transformation'? Why is it useful to pay attention to the DAG that underlies your Spark implementation?\n",
    "\n",
    "* __d) short response:__ Give a specific example of when we would want to `cache()` an RDD and explain why."
   ]
  },
  {
   "cell_type": "markdown",
   "metadata": {},
   "source": [
    "### Q1 Student Answers:\n",
    "> __a)__ Spark is an open-souce distributed cluster-computing framework. Spark is part of the Hadoop ecosystem and was built to overcome the limitations of MapReduce through techniques like in-memory processing. Spark shares many similarity with Hadoop MapReduce such as its adherence to funcitonal programming and its cluster architecture. \n",
    "\n",
    "> __b)__ Spark, similar to typical functional programming, computes lazily, contains immutable data, and allows higher order functions. But Spark allows side effects which are changes in state that depends on the function inputs. \n",
    "\n",
    "> __c)__ DAGs are Directed Acyclic Graphs which are sets of vertices and edges in Spark, where vertices represent the RDDs and the eges representt he opration to to applied on RDD. On calling of Action, the created DAG is then submitted to DAG Scheduler which splits RDD into stages based on the transformation needed. It's useful to pay attention to the DAG because 1) it helps understand what records are being processed at which stage and 2) DAG can be customized to optimize the efficiency of thr Spark Job\n",
    "\n",
    "> __d)__ If a RDD that will be called many times is a result of a series of transformation, using cache() might make more sense. Since transformations are lazily computed, everytime a RDD is called or needs to be materialized, the worker has go through the whole process of transformation that's needed to get to that RDD. If such an RDD is cached and stored in-memory, the worker doesn't have to trace back how it was created every time it's called. \n"
   ]
  },
  {
   "cell_type": "markdown",
   "metadata": {},
   "source": [
    "# Question 2: Similarity Metrics\n",
    "As mentioned in the introduction to this assignment, an intuitive way to compare the meaning of two documents is to compare the list of words they contain. Given a vocabulary $V$ (feature set) we would represent each document as a vector of `1`-s and `0`-s based on whether or not it contains each word in $V$. These \"one-hot encoded\" vector representations allow us to use distance metrics to identify similar documents. However like many NLP tasks the high-dimensionality of the feature space is a challenge... especially when we start to scale up the size and number of documents we want to compare.\n",
    "\n",
    "In this question we'll look at a toy example of document similarity analysis. Consider these 3 'documents': \n",
    "```\n",
    "docA\tthe flight of a bumblebee\n",
    "docB\tthe length of a flight\n",
    "docC\tbuzzing bumblebee flight\n",
    "```\n",
    "These documents have a total of $7$ unique words: \n",
    ">`a, bumblebee, buzzing, flight, length, of, the`.     \n",
    "\n",
    "Given this vocabulary, the documents' vector representations are (note that one-hot encoded entries follow the order of the vocab list above):\n",
    "\n",
    "```\n",
    "docA\t[1,1,0,1,0,1,1]\n",
    "docB\t[1,0,0,1,1,1,1]\n",
    "docC\t[0,1,1,1,0,0,0]\n",
    "```  \n",
    "\n",
    "### Q2 Tasks:\n",
    "\n",
    "* __a) short response:__ The cosine distance between two vectors is $\\frac{A\\cdot B}{|A||B|}$. Explain what the the numerator and denominator of this calculation would represent in terms of word counts in documents A and B. \n",
    "\n",
    "* __b) short response:__ Explain how the Jaccard, Overlap and Dice metrics are similar/different to the calculation for cosine similation. When would these metrics lead to different similarity rankings for a set of documents?\n",
    "\n",
    "* __c) short response:__ Calculate the cosine similarity for each pair of documents in our toy corpus. Please use markdown and $\\LaTeX$ to show your calcuations.  \n",
    "\n",
    "* __d) short response:__ According to your calculations in `part c` which pair of documents are most similar in meaning? Does this match your expecatation from reading the documents? If not, speculate about why we might have gotten this result.\n",
    "\n",
    "* __e) short response:__ In NLP common words like '`the`', '`of`', and '`a`' increase our feature space without adding a lot of signal about _semantic meaning_. Repeat your analysis from `part c` but this time ignore these three words in your calculations [__`TIP:`__ _to 'remove' stopwords just ignore the vector entries in columns corresponding to the words you wish to disregard_]. How do your results change?"
   ]
  },
  {
   "cell_type": "markdown",
   "metadata": {},
   "source": [
    "### Q2 Student Answers:\n",
    "> __a)__ The numerator is the dot product of the two vectors which would essentially be the count of overlapping vocabulary in both documents. The denominator is the product of the length of the vocabulary of A and that of B. \n",
    "\n",
    "> __b)__ **Jaccard Index** is defined as $$ \\frac{|X \\cap Y|}{|X \\cup Y|} $$ Hence, the numerator would be the same as the cosine similarity but the denominator are different. They would have different similarity rankings in a scenario like below: \n",
    "docA - [1, 1, 0, 0, 1, 0]\n",
    "docB - [1, 1, 1, 1, 0, 0]\n",
    "docC - [1, 1, 0, 0, 0, 0]\n",
    "docD - [1, 1, 1, 1, 1, 1]\n",
    "\n",
    "> In this case, although A&B and C&D would have the same similarity using cosine similarity, A&B are more similar than C&D in terms of Jaccard similarity. This is because that C & D have a large union\n",
    "\n",
    "> **Overlap coefficient** is defined as $$ \\frac{|X \\cap Y|}{min(|X|, |Y|)} $$ Hence, the numerator would be the same as the cosine similarity but the denomiators are different. They would have different similarity rankings in a scenario like below: \n",
    "docA - [1, 1, 1, 0, 0, 0]\n",
    "docB - [1, 1, 1, 1, 0, 0]\n",
    "docC - [1, 1, 1, 1, 1, 0]\n",
    "\n",
    "> In this case, although A&B and A&C would have the same similarity using Overlap Coefficient, A&B are more similar than A&C in terms of cosine similarity. Because the one extra non-overlapping word in C is penalized.\n",
    "\n",
    "> **Dice coefficient** is defined as $$ \\frac{2*|X \\cap Y|}{|X| + |Y|} $$ Hence, the numerator would is essentially the double of that in the cosine similarity calculation but the denomiators are different. They would have different similarity rankings in a scenario like below: \n",
    "docA - [1, 1, 0, 0, 0, 0]\n",
    "docB - [1, 1, 1, 0, 0, 0]\n",
    "docC - [1, 1, 0, 0, 1, 0]\n",
    "docD - [1, 1, 0, 0, 1, 0]\n",
    "\n",
    "> In this case, although A&B and C&D would have the same similarity using cosine similarity, A&B are less similar than C&D in terms of Dice coefficient. Holdng overlapping count constanct, this is simply due to conditional inequality beween $$ \\frac{2}{|X| + |Y|} $$ and $$ \\frac{1}{\\sqrt{|X||Y|}} $$\n",
    "\n",
    "\n",
    "\n",
    "> __c)__ \n",
    "\n",
    ">> docA & docB: cosine similarity = $$\\frac{A\\cdot B}{\\sqrt{|A||B|}} = \\frac{[1,1,0,1,0,1,1] \\cdot [1,0,0,1,1,1,1]}{\\sqrt{5 \\cdot 5}} = \\frac{1 + 0 + 0 + 1 + 0 + 1 + 1}{5} = \\frac{4}{5}$$\n",
    "\n",
    ">> docA & docC: cosine similarity = $$\\frac{A\\cdot C}{\\sqrt{|A||C|}} = \\frac{[1,1,0,1,0,1,1] \\cdot [0,1,1,1,0,0,0]}{\\sqrt{5 \\cdot 3}} = \\frac{0 + 1 + 0 + 1 + 0 + 0 + 0}{\\sqrt{15}} = \\frac{2}{\\sqrt{15}}$$\n",
    "\n",
    ">> docB & docC: cosine similarity = $$\\frac{B\\cdot C}{\\sqrt{|B||C|}} = \\frac{[1,0,0,1,1,1,1] \\cdot [0,1,1,1,0,0,0]}{\\sqrt{5 \\cdot 3}} = \\frac{0 + 0 + 0 + 1 + 0 + 0 + 0}{\\sqrt{15}} = \\frac{1}{\\sqrt{15}}$$\n",
    "\n",
    "> __d)__ According to the calculation, A & B are the most similar. This doesn't match my expected result which was A & C. That is because that although 2 out of 3 words in C are in A, the common words like 'the', 'a', and 'of' are overlapped between A & B which actually entail little information about the similarity of the semantic meaning. \n",
    "\n",
    "> __e)__ New vectors - docA [1,0,1,0]; docB [0,0,1,1], docC [1,1,1,0]\n",
    "\n",
    ">> docA & docB: cosine similarity = $$\\frac{A\\cdot B}{\\sqrt{|A||B|}} = \\frac{[1,0,1,0] \\cdot [0,0,1,1]}{\\sqrt{2 \\cdot 2}} = \\frac{0 + 0 + 1 + 0}{2} = \\frac{1}{2}$$\n",
    "\n",
    ">> docA & docC: cosine similarity = $$\\frac{A\\cdot C}{\\sqrt{|A||C|}} = \\frac{[1,0,1,0] \\cdot [1,1,1,0]}{\\sqrt{6}} = \\frac{1 + 0 + 1 + 0}{\\sqrt{6}} = \\frac{2}{\\sqrt{6}}$$\n",
    "\n",
    ">> docB & docC: cosine similarity = $$\\frac{B\\cdot C}{\\sqrt{|B||C|}} = \\frac{[0,0,1,1] \\cdot [1,1,1,0]}{\\sqrt{6}} = \\frac{0 + 0 + 1 + 0}{6} = \\frac{1}{\\sqrt{6}}$$  "
   ]
  },
  {
   "cell_type": "markdown",
   "metadata": {},
   "source": [
    "# Question 3: Synonym Detection Strategy\n",
    "\n",
    "In the Synonym Detection task we want to compare the meaning of words, not documents. For clarity, lets call the words whose meaning we want to compare `terms`. If only we had a 'meaning document' for each `term` then we could easily use the document similarity strategy from Question 2 to figure out which `terms` have similar meaning (i.e. are 'synonyms'). Of course in order for that to work we'd have to reasonably believe that the words in these 'meaning documents' really do reflect the meaning of the `term`. For a good analysis we'd also need these 'meaning documents' to be fairly long -- the one or two sentence dictionary definition of a term isn't going to provide enough signal to distinguish between thousands and thousands of `term` meanings.\n",
    "\n",
    "This is where the idea of co-occurrance comes in. Just like DocSim makes the assumption that words in a document tell us about the document's meaning, we're going to assume that the set of words that 'co-occur' within a small window around our term can tell us some thing about the meaning of that `term`. Remember that we're going to make this 'co-words' list (a.k.a. 'stripe') by looking at a large body of text. This stripe is our 'meaning document' in that it reflects all the kinds of situations in which our `term` gets used in real language. So another way to phrase our assumption is: we think `terms` that get used to complete lots of the same phrases probably have related meanings. This may seem like an odd assumption but computational linguists have found that it works surprisingly well in practice. Let's look at a toy example to build your intuition for why and how.\n",
    "\n",
    "Consider the opening line of Charles Dickens' _A Tale of Two Cities_:"
   ]
  },
  {
   "cell_type": "code",
   "execution_count": 47,
   "metadata": {},
   "outputs": [],
   "source": [
    "corpus = \"\"\"It was the best of times, it was the worst of times, \n",
    "it was the age of wisdom it was the age of foolishness\"\"\""
   ]
  },
  {
   "cell_type": "markdown",
   "metadata": {},
   "source": [
    "There are a total of 10 unique words in this short 'corpus':"
   ]
  },
  {
   "cell_type": "code",
   "execution_count": 48,
   "metadata": {},
   "outputs": [
    {
     "name": "stdout",
     "output_type": "stream",
     "text": [
      "['was', 'wisdom', 'age', 'the', 'worst', 'foolishness', 'it', 'best', 'of', 'times']\n"
     ]
    }
   ],
   "source": [
    "words = list(set(re.findall(\"\\w+\", corpus.lower())))\n",
    "print(words)"
   ]
  },
  {
   "cell_type": "markdown",
   "metadata": {},
   "source": [
    "But of these 10 words, 4 are so common that they probably don't tell us very much about about meaning."
   ]
  },
  {
   "cell_type": "code",
   "execution_count": 49,
   "metadata": {},
   "outputs": [],
   "source": [
    "stopwords = [\"it\", \"the\", \"was\", \"of\"]"
   ]
  },
  {
   "cell_type": "markdown",
   "metadata": {},
   "source": [
    "So we'll ignore these 'stop words' and we're left with a 6 word vocabulary:"
   ]
  },
  {
   "cell_type": "code",
   "execution_count": 50,
   "metadata": {},
   "outputs": [
    {
     "name": "stdout",
     "output_type": "stream",
     "text": [
      "['age', 'best', 'foolishness', 'times', 'wisdom', 'worst']\n"
     ]
    }
   ],
   "source": [
    "vocab = sorted([w for w in words if w not in stopwords])\n",
    "print(vocab)"
   ]
  },
  {
   "cell_type": "markdown",
   "metadata": {},
   "source": [
    "Your goal in the tasks below is to asses, which of these six words are most related to each other in meaning -- based solely on this short two line body of text.\n",
    "\n",
    "### Q3 Tasks:\n",
    "\n",
    "* __a) short response:__ Given this six word vocabulary, how many 'pairs' of words do we want to compare? More generally for a n-word vocabulary how many pairwise comparisons are there to make? \n",
    "\n",
    "* __b) code:__ In the space provided below, create a 'stripe' for each `term` in the vocabulary. This stripe should be the list of all other vocabulary words that occur within a __5 word window__ of the `term`'s position in the original text.\n",
    "\n",
    "* __c) code + short response:__ Complete the provided code to turn your stripes into a 1-hot encoded co-occurrence matrix. For our 6 word vocabulary how many entries are in this matrix? How many entries are zeros? \n",
    "\n",
    "* __d) code:__ Complete the provided code to loop over all pairs and compute their cosine similarity. Please do not modify the existing code, just add your own in the spot marked.\n",
    "\n",
    "* __e) short response:__ Which pairs of words have the highest 'similarity' scores? Are these words 'synonyms' in the traditional sense? In what sense are their meanings 'similar'? Explain how our results are contingent on the input text. What would change if we had a much larger corpus?"
   ]
  },
  {
   "cell_type": "markdown",
   "metadata": {},
   "source": [
    "### Q3 Student Answers:\n",
    "> __a)__ We will compare 5 + 4 + 3 + 2 + 1 = 15 pairs of words. In general, we will need to compare $\\sum_{n=1}^{n-1} n$, which equals to $\\frac{n(n-1)}{2}$\n",
    "\n",
    "> __c)__ There are in total 36 entiries and 26 of them are zeros\n",
    "\n",
    "> __e)__ 'best' and 'worst', 'foolish' and 'wisdom' have the highest 'similarity scores. They are not 'synonyms' in the traditional sense since they have completely opposite meanings. But they are similar in a sense that they are the complete opposite of each other and can be used in the same context (similar semantic roles). The result here is highly dependent on the input text. Here the input is a short poem where words of opposite meaning are used next to identical words, hence these words of opposite meaning are considered very similar. In a large corpus, however, it's rare that this would happen and words with actually close meanings might turn out to be much more similar."
   ]
  },
  {
   "cell_type": "code",
   "execution_count": 51,
   "metadata": {},
   "outputs": [
    {
     "name": "stdout",
     "output_type": "stream",
     "text": [
      "CORPUS:\n",
      "It was the best of times, it was the worst of times, \n",
      "it was the age of wisdom it was the age of foolishness\n",
      "VOCAB:\n",
      "['age', 'best', 'foolishness', 'times', 'wisdom', 'worst']\n"
     ]
    }
   ],
   "source": [
    "# for convenience, here are the corpus & vocab list again (RUN THIS CELL AS IS)\n",
    "print(\"CORPUS:\")\n",
    "print(corpus)\n",
    "print('VOCAB:')\n",
    "print(vocab)"
   ]
  },
  {
   "cell_type": "code",
   "execution_count": 52,
   "metadata": {},
   "outputs": [],
   "source": [
    "# part b - USE THE TEXT ABOVE TO COMPLETE EACH STRIPE\n",
    "stripes = {'age':['wisdom','foolishness','times'], # example\n",
    "           'best':['times'], # YOU FILL IN THE REST\n",
    "           'foolishness':['age'],\n",
    "           'times': ['best','worst','age'],\n",
    "           'wisdom':['age'],\n",
    "           'worst':['times']}"
   ]
  },
  {
   "cell_type": "code",
   "execution_count": 53,
   "metadata": {},
   "outputs": [],
   "source": [
    "## part c - initializing an empty co-occurrence matrix (RUN THIS CELL AS IS)\n",
    "co_matrix = pd.DataFrame({term: [0]*len(vocab) for term in vocab}, index = vocab, dtype=int)"
   ]
  },
  {
   "cell_type": "code",
   "execution_count": 54,
   "metadata": {},
   "outputs": [
    {
     "data": {
      "text/html": [
       "<div>\n",
       "<style scoped>\n",
       "    .dataframe tbody tr th:only-of-type {\n",
       "        vertical-align: middle;\n",
       "    }\n",
       "\n",
       "    .dataframe tbody tr th {\n",
       "        vertical-align: top;\n",
       "    }\n",
       "\n",
       "    .dataframe thead th {\n",
       "        text-align: right;\n",
       "    }\n",
       "</style>\n",
       "<table border=\"1\" class=\"dataframe\">\n",
       "  <thead>\n",
       "    <tr style=\"text-align: right;\">\n",
       "      <th></th>\n",
       "      <th>age</th>\n",
       "      <th>best</th>\n",
       "      <th>foolishness</th>\n",
       "      <th>times</th>\n",
       "      <th>wisdom</th>\n",
       "      <th>worst</th>\n",
       "    </tr>\n",
       "  </thead>\n",
       "  <tbody>\n",
       "    <tr>\n",
       "      <th>age</th>\n",
       "      <td>0</td>\n",
       "      <td>0</td>\n",
       "      <td>1</td>\n",
       "      <td>1</td>\n",
       "      <td>1</td>\n",
       "      <td>0</td>\n",
       "    </tr>\n",
       "    <tr>\n",
       "      <th>best</th>\n",
       "      <td>0</td>\n",
       "      <td>0</td>\n",
       "      <td>0</td>\n",
       "      <td>1</td>\n",
       "      <td>0</td>\n",
       "      <td>0</td>\n",
       "    </tr>\n",
       "    <tr>\n",
       "      <th>foolishness</th>\n",
       "      <td>1</td>\n",
       "      <td>0</td>\n",
       "      <td>0</td>\n",
       "      <td>0</td>\n",
       "      <td>0</td>\n",
       "      <td>0</td>\n",
       "    </tr>\n",
       "    <tr>\n",
       "      <th>times</th>\n",
       "      <td>1</td>\n",
       "      <td>1</td>\n",
       "      <td>0</td>\n",
       "      <td>0</td>\n",
       "      <td>0</td>\n",
       "      <td>1</td>\n",
       "    </tr>\n",
       "    <tr>\n",
       "      <th>wisdom</th>\n",
       "      <td>1</td>\n",
       "      <td>0</td>\n",
       "      <td>0</td>\n",
       "      <td>0</td>\n",
       "      <td>0</td>\n",
       "      <td>0</td>\n",
       "    </tr>\n",
       "    <tr>\n",
       "      <th>worst</th>\n",
       "      <td>0</td>\n",
       "      <td>0</td>\n",
       "      <td>0</td>\n",
       "      <td>1</td>\n",
       "      <td>0</td>\n",
       "      <td>0</td>\n",
       "    </tr>\n",
       "  </tbody>\n",
       "</table>\n",
       "</div>"
      ],
      "text/plain": [
       "             age  best  foolishness  times  wisdom  worst\n",
       "age            0     0            1      1       1      0\n",
       "best           0     0            0      1       0      0\n",
       "foolishness    1     0            0      0       0      0\n",
       "times          1     1            0      0       0      1\n",
       "wisdom         1     0            0      0       0      0\n",
       "worst          0     0            0      1       0      0"
      ]
     },
     "execution_count": 54,
     "metadata": {},
     "output_type": "execute_result"
    }
   ],
   "source": [
    "# part c - FILL IN THE MISSING LINE so that this cell 1-hot encodes the co-occurrence matrix\n",
    "for term, nbrs in stripes.items():\n",
    "    for nbr in nbrs:\n",
    "        pass\n",
    "        ############# YOUR CODE HERE #################\n",
    "        co_matrix[term][nbr] = 1\n",
    "        co_matrix[nbr][term] = 1\n",
    "        ############# (END) YOUR CODE #################\n",
    "co_matrix"
   ]
  },
  {
   "cell_type": "code",
   "execution_count": 55,
   "metadata": {},
   "outputs": [
    {
     "name": "stdout",
     "output_type": "stream",
     "text": [
      "age-best: 0.5773502691896258\n",
      "age-foolishness: 0.0\n",
      "age-times: 0.0\n",
      "age-wisdom: 0.0\n",
      "age-worst: 0.5773502691896258\n",
      "best-foolishness: 0.0\n",
      "best-times: 0.0\n",
      "best-wisdom: 0.0\n",
      "best-worst: 1.0\n",
      "foolishness-times: 0.5773502691896258\n",
      "foolishness-wisdom: 1.0\n",
      "foolishness-worst: 0.0\n",
      "times-wisdom: 0.5773502691896258\n",
      "times-worst: 0.0\n",
      "wisdom-worst: 0.0\n"
     ]
    }
   ],
   "source": [
    "# part e - FILL IN THE MISSING LINES to compute the cosine similarity between each pair of terms\n",
    "import math\n",
    "\n",
    "for term1, term2 in itertools.combinations(vocab, 2):\n",
    "    # one hot-encoded vectors\n",
    "    v1 = co_matrix[term1]\n",
    "    v2 = co_matrix[term2]\n",
    "    \n",
    "    # cosine similarity\n",
    "    ############# YOUR CODE HERE #################\n",
    "    csim = None\n",
    "    ############# (END) YOUR CODE #################    \n",
    "    csim = np.dot(v1, v2) / math.sqrt((v1.sum() * v2.sum()))\n",
    "    \n",
    "    print(f\"{term1}-{term2}: {csim}\")"
   ]
  },
  {
   "cell_type": "markdown",
   "metadata": {},
   "source": [
    "# Question 4: Pairs and Stripes at Scale\n",
    "\n",
    "As you read in the paper by Zadeh et al, the advantage of metrics like Cosine, Dice, Overlap and Jaccard is that they are dimension independent -- that is to say, if we implement them in a smart way the computational complexity of performing these computations is independent of the number of documents we want to compare (or in our case, the number of terms that are potential synonyms). One component of a 'smart implementation' involves thinking carefully both about how you define the \"basis vocabulary\" that forms your feature set (removing stopwords, etc). Another key idea is to use a data structure that facilitates distributed calculations. The DISCO implemetation further uses a sampling strategy, but that is beyond the scope of this course. \n",
    "\n",
    "In this question we'll take a closer look at the computational complexity of the synonym detection approach we took in question 3 and then revist the document similarity example as a way to explore a more efficient approach to parallelizing this analysis.\n",
    "\n",
    "### Q4 Tasks:\n",
    "\n",
    "* __a) short response:__ In question 3 you calculated the cosine similarity of pairs of words using the vector representation of their co-occurrences in a corpus. Imagine for now that you have unlimited memory on each of your nodes and describe a sequence of map & reduce steps that would start from a raw corpus and reproduce your strategy from Q3. Be specific. For each step be sure to note what information would be stored in memory on your nodes and what information would need to be shuffled over the network. \n",
    "\n",
    "* __b) short response:__ In the asynch videos about \"Pairs and Stripes\" you were introduced to an alternative strategy. Explain two ways that using these data structures are more efficient than 1-hot encoded vectors when it comes to distributed similarity calculations [__`HINT:`__ _Consider memory constraints, amount of information being shuffled, amount of information being transfered over the network, and level of parallelization._]\n",
    "\n",
    "* __c) read provided code:__ The code below provides a streamined implementation of Document similarity analysis in Spark. Read through this code carefully. Once you are confident you understand how it works, answer the remaining questions. [__`TIP:`__ _to see the output of each transformation try commenting out the subsequent lines and adding an early `collect()` action_.]\n",
    "\n",
    "* __d) short response:__ The second mapper function, `splitWords`, emits 'postings'. The list of all 'postings' for a word is also refered to as an 'inverted index'. Define each of these terms based on your reading of the provided code.\n",
    "\n",
    "* __e) short response:__ The third mapper, `makeCompositeKeys`, loops over the inverted index to emit 'pairs' of what? Explain what information is included in the composite key created at this stage and why it makes sense to synchronize around that information in the context of performing document similarity calculations. In addition to the information included in these new keys, what other piece of information will we need to compute Jaccard or Cosine similarity?\n",
    "\n",
    "* __f) short response:__ Out of all the Spark transformations we make in this analysis, which are 'wide' transformations and which are 'narrow' transformations. Explain."
   ]
  },
  {
   "cell_type": "markdown",
   "metadata": {},
   "source": [
    "### Q4 Student Answers:\n",
    "> __a)__ In the mapper phase, each mapper scans through part of the corpus and constructs vector for each words in the corpus. These vectors are stored in-memory and store the words that occur within 5 word window. Then the vectors are sent to the reducers, in which the vectors are first combined (deduped), and then a vector for each words is constructed with 1-hot encoding and stored in memory, and then a loop goes through the vectors and computes the similarity between any two words. \n",
    "\n",
    "> __b)__ You can also just use an associative array where for each word, an array holds a unique list of its neighbors. In this way, 1) we don't need to store one value for each word in the total vocabulary like the 1-hot encoded vectors in-memory, and 2) much less information are being shuffled in the reduce phase.\n",
    "\n",
    "> __c)__ _read provided code before answering d-f_ \n",
    "\n",
    "> __d)__ A posting is essentially an index for each word that has the format of <name of doc that the word is in, length of doc that the word is in>. Inverted index is just in the format of <word, posting>\n",
    "\n",
    "> __e)__ `makeCompositeKeys` essentially emits all possible combinations (regardless of order) of 2 postings for the same word as key and 1 as the value. The new keys would contain information about which two documents have an overlapped word and the values can then be combined to compute the number of overlapped words in any two documents. And with the length of words (for each document) that are stored in the keys, Jaccard and Cosine similarity can be calculated. \n",
    "\n",
    "> __f)__ The mappers `splitWords`, `makeCompositeKey`, `jaccard` and the one lambda funciton `line` are all narrow transformation since data are transformed fron a single partition only. The `reduceByKey` are wide transformations since the data required for the computation may reside in many partitions of the parent RDD."
   ]
  },
  {
   "cell_type": "markdown",
   "metadata": {},
   "source": [
    "A small test file: __`sample_docs.txt`__"
   ]
  },
  {
   "cell_type": "code",
   "execution_count": 28,
   "metadata": {},
   "outputs": [
    {
     "name": "stdout",
     "output_type": "stream",
     "text": [
      "Writing sample_docs.txt\n"
     ]
    }
   ],
   "source": [
    "%%writefile sample_docs.txt\n",
    "docA\tbright blue butterfly forget\n",
    "docB\tbest forget bright sky\n",
    "docC\tblue sky bright sun\n",
    "docD\tunder butterfly sky hangs\n",
    "docE\tforget blue butterfly"
   ]
  },
  {
   "cell_type": "markdown",
   "metadata": {},
   "source": [
    "__Document Similarity Analysis in Spark:__"
   ]
  },
  {
   "cell_type": "code",
   "execution_count": 83,
   "metadata": {},
   "outputs": [],
   "source": [
    "# load data - RUN THIS CELL AS IS\n",
    "data = sc.textFile(\"sample_docs.txt\")  "
   ]
  },
  {
   "cell_type": "code",
   "execution_count": 84,
   "metadata": {},
   "outputs": [],
   "source": [
    "# helper function - RUN THIS CELL AS IS\n",
    "def splitWords(pair):\n",
    "    \"\"\"Mapper 2: tokenize each document and emit postings.\"\"\"\n",
    "    doc, text = pair\n",
    "    words = text.split(\" \")\n",
    "    for w in words:\n",
    "        yield (w, [(doc,len(words))])"
   ]
  },
  {
   "cell_type": "code",
   "execution_count": 85,
   "metadata": {},
   "outputs": [],
   "source": [
    "# helper function - RUN THIS CELL AS IS\n",
    "def makeCompositeKey(inverted_index):\n",
    "    \"\"\"Mapper 3: loop over postings and yield pairs.\"\"\"\n",
    "    word, postings = inverted_index\n",
    "    # taking advantage of symmetry, output only (a,b), but not (b,a)\n",
    "    for subset in itertools.combinations(sorted(postings), 2):\n",
    "        yield (str(subset), 1)"
   ]
  },
  {
   "cell_type": "code",
   "execution_count": 86,
   "metadata": {},
   "outputs": [],
   "source": [
    "# helper function - RUN THIS CELL AS IS\n",
    "def jaccard(line):\n",
    "    \"\"\"Mapper 4: compute similarity scores\"\"\"\n",
    "    (doc1, n1), (doc2, n2) = ast.literal_eval(line[0])\n",
    "    total = int(line[1])\n",
    "    jaccard = total / float(int(n1) + int(n2) - total)\n",
    "    yield doc1+\" - \"+doc2, jaccard"
   ]
  },
  {
   "cell_type": "code",
   "execution_count": 89,
   "metadata": {},
   "outputs": [
    {
     "data": {
      "text/plain": [
       "[('docA - docE', 0.75),\n",
       " ('docA - docB', 0.3333333333333333),\n",
       " ('docA - docC', 0.3333333333333333),\n",
       " ('docB - docC', 0.3333333333333333),\n",
       " ('docD - docE', 0.16666666666666666),\n",
       " ('docC - docE', 0.16666666666666666),\n",
       " ('docB - docE', 0.16666666666666666),\n",
       " ('docC - docD', 0.14285714285714285),\n",
       " ('docA - docD', 0.14285714285714285),\n",
       " ('docB - docD', 0.14285714285714285)]"
      ]
     },
     "execution_count": 89,
     "metadata": {},
     "output_type": "execute_result"
    }
   ],
   "source": [
    "# Spark Job - RUN THIS CELL AS IS\n",
    "result = data.map(lambda line: line.split('\\t')) \\\n",
    "             .flatMap(splitWords) \\\n",
    "             .reduceByKey(lambda x,y : x+y) \\\n",
    "             .flatMap(makeCompositeKey) \\\n",
    "             .reduceByKey(lambda x,y : x+y) \\\n",
    "             .flatMap(jaccard) \\\n",
    "             .takeOrdered(10, key=lambda x: -x[1])\n",
    "result"
   ]
  },
  {
   "cell_type": "markdown",
   "metadata": {},
   "source": [
    "# About the Data\n",
    "Now that you are comfortable with similarity metrics we turn to the main task in this assignment: Synonym Detection. As you saw in Question 3 the ability of our algorithm to detect words with similar meanings is highly dependent on our input text. Specifically, we need a large enough corpus of natural language that we can expose our algorithm to a realistic range of contexts in which in any given word might get used. Ideally, these 'contexts' would also provide enough signal to distinguish between words with similar semantic roles but different meaning. Finding such a corpus will be easier to accomplish for some words than others.\n",
    "\n",
    "For the main task in this portion of the homework you will use data from Google's n-gram corpus. This data is particularly convenient for our task because Google has already done the first step for us: they windowed over a large subset of the web and extracted all 5-grams. If you are interested in learning more about this dataset the original source is: http://books.google.com/ngrams/, and a large subset is available [here from AWS](https://aws.amazon.com/datasets/google-books-ngrams/). \n",
    "\n",
    "For this assignment we have provided a subset of the 5-grams data consisting of 191 files of approximately 10MB each. These files are available on dropbox at: https://www.dropbox.com/sh/tmqpc4o0xswhkvz/AACUifrl6wrMrlK6a3X3lZ9Ea\n",
    "... below we provide the code to download these files. Please only use the provided data so that we can ensure consistent results from student to student.\n",
    "\n",
    "Each row in our dataset represents one of these 5 grams in the format:\n",
    "> `(ngram) \\t (count) \\t (pages_count) \\t (books_count)`\n",
    "\n",
    "__DISCLAIMER__: In real life, we would calculate the stripes cooccurrence data from the raw text by windowing over the raw text and not from the 5-gram preprocessed data.  Calculating pairs on this 5-gram is a little corrupt as we will be double counting cooccurences. Having said that this exercise can still pull out some similar terms. "
   ]
  },
  {
   "cell_type": "code",
   "execution_count": 75,
   "metadata": {},
   "outputs": [],
   "source": [
    "!rm -r data/"
   ]
  },
  {
   "cell_type": "code",
   "execution_count": 77,
   "metadata": {},
   "outputs": [
    {
     "name": "stdout",
     "output_type": "stream",
     "text": [
      "mkdir: cannot create directory `data': File exists\n"
     ]
    }
   ],
   "source": [
    "!mkdir data"
   ]
  },
  {
   "cell_type": "code",
   "execution_count": 81,
   "metadata": {},
   "outputs": [],
   "source": [
    "# !ls\n",
    "!rm ngrams.zip"
   ]
  },
  {
   "cell_type": "code",
   "execution_count": 82,
   "metadata": {},
   "outputs": [
    {
     "name": "stdout",
     "output_type": "stream",
     "text": [
      "  % Total    % Received % Xferd  Average Speed   Time    Time     Time  Current\n",
      "                                 Dload  Upload   Total   Spent    Left  Speed\n",
      "  0     0    0     0    0     0      0      0 --:--:-- --:--:-- --:--:--     0\n",
      "  0     0    0     0    0     0      0      0 --:--:-- --:--:-- --:--:--     0\n",
      "100  829M    0  829M    0     0  4098k      0 --:--:--  0:03:27 --:--:-- 3693k\n"
     ]
    }
   ],
   "source": [
    "# download the zipped data folder - RUN THIS CELL AS IS\n",
    "!curl -L -o ngrams.zip https://www.dropbox.com/sh/tmqpc4o0xswhkvz/AACUifrl6wrMrlK6a3X3lZ9Ea?dl=1"
   ]
  },
  {
   "cell_type": "code",
   "execution_count": 83,
   "metadata": {},
   "outputs": [
    {
     "name": "stdout",
     "output_type": "stream",
     "text": [
      "warning:  stripped absolute path spec from /\n",
      "mapname:  conversion of  failed\n"
     ]
    }
   ],
   "source": [
    "# unzip the data files into the data directory - RUN THIS CELL AS IS\n",
    "!unzip -q ngrams.zip -d data"
   ]
  },
  {
   "cell_type": "code",
   "execution_count": 5,
   "metadata": {},
   "outputs": [],
   "source": [
    "# set global paths to full data folder and to the first file (which we'll use for testing)\n",
    "NGRAMS = PWD + '/data'\n",
    "F1_PATH = PWD + '/data/googlebooks-eng-all-5gram-20090715-0-filtered.txt'"
   ]
  },
  {
   "cell_type": "markdown",
   "metadata": {},
   "source": [
    "As you develop your code you should use the following file to systems test each of your solutions before running it on the Google data. (Note: these are the 5-grams extracted from our two line Dickens corpus in Question 3... you should find that your Spark job results match the calculations we did \"by hand\").\n",
    "\n",
    "Test file: __`systems_test.txt`__"
   ]
  },
  {
   "cell_type": "code",
   "execution_count": 12,
   "metadata": {},
   "outputs": [
    {
     "name": "stdout",
     "output_type": "stream",
     "text": [
      "Writing systems_test.txt\n"
     ]
    }
   ],
   "source": [
    "%%writefile systems_test.txt\n",
    "it was the best of\t1\t1\t1\n",
    "age of wisdom it was\t1\t1\t1\n",
    "best of times it was\t1\t1\t1\n",
    "it was the age of\t2\t1\t1\n",
    "it was the worst of\t1\t1\t1\n",
    "of times it was the\t2\t1\t1\n",
    "of wisdom it was the\t1\t1\t1\n",
    "the age of wisdom it\t1\t1\t1\n",
    "the best of times it\t1\t1\t1\n",
    "the worst of times it\t1\t1\t1\n",
    "times it was the age\t1\t1\t1\n",
    "times it was the worst\t1\t1\t1\n",
    "was the age of wisdom\t1\t1\t1\n",
    "was the best of times\t1\t1\t1\n",
    "was the age of foolishness\t1\t1\t1\n",
    "was the worst of times\t1\t1\t1\n",
    "wisdom it was the age\t1\t1\t1\n",
    "worst of times it was\t1\t1\t1"
   ]
  },
  {
   "cell_type": "markdown",
   "metadata": {},
   "source": [
    "Finally, we'll create a Spark RDD for each of these files so that they're easy to access throughout the rest of the assignment."
   ]
  },
  {
   "cell_type": "code",
   "execution_count": 12,
   "metadata": {},
   "outputs": [],
   "source": [
    "# Spark RDDs for each dataset\n",
    "testRDD = sc.textFile(\"systems_test.txt\") \n",
    "f1RDD = sc.textFile(F1_PATH)\n",
    "dataRDD = sc.textFile(NGRAMS)"
   ]
  },
  {
   "cell_type": "markdown",
   "metadata": {},
   "source": [
    "# Question 5: N-gram EDA part 1 (words)\n",
    "\n",
    "Before starting our synonym-detection, let's get a sense for this data. As you saw in questions 3 and 4 the size of the vocabulary will impact the amount of computation we have to do. Please write a Spark job that will accomplish the three tasks below as efficiently as possible. (No credit will be awarded for jobs that sort or subset after calling `collect()`-- use the framework to get the minimum information requested). As you develop your code, systems test each job on the provided file with Dickens ngrams, then on a single file from the Ngram dataset before running the full analysis.\n",
    "\n",
    "\n",
    "### Q5 Tasks:\n",
    "* __a) code:__ Write a Spark job to retrieve:\n",
    "  * The number of unique words that appear in the data. (i.e. size of the vocabulary) \n",
    "  * A list of the top 10 words & their counts.\n",
    "  * a list of the bottom 10 words & their counts.  \n",
    "  \n",
    "  __`NOTE  1:`__ _don't forget to lower case the ngrams before extracting words._  \n",
    "  __`NOTE  2:`__ _don't forget to take in to account the number of occurances of each ngram._  \n",
    "  __`NOTE  3:`__ _to make this code more reusable, the `EDA1` function code base uses a parameter 'n' to specify the number of top/bottom words to print (in this case we've requested 10)._\n",
    "\n",
    "\n",
    "* __b) short response:__ Given the vocab size you found in part a, how many potential synonym pairs could we form from this corpus? If each term's stripe were 1000 words long, how many individual 'postings' tuples would we need to shuffle inorder to form the inverted indices? Show and briefly explain your calculations for each part of this question. [__`HINT:`__ see your work from q4 for a review of these concepts.]\n",
    "\n",
    "* __c) short response:__ What do you notice about the most frequent words, how usefull will these top words be in synonym detection? Explain.\n",
    "\n",
    "* __d) short response:__ What do you notice/infer about the least frequent words, how reliable should we expect the detected 'synonyms' for the bottom words to be? Explain."
   ]
  },
  {
   "cell_type": "markdown",
   "metadata": {},
   "source": [
    "### Q5 Student Answers:\n",
    "\n",
    "> __b)__ The vocab size we found is 268727. The maximum pairs of synonym occurs when every words is each other's synonym and that would give us $$268727 \\choose 2$$ $$= 3.61 * 10^{10}$$\n",
    "\n",
    "> To get the inverted indices, we need to shuffle $268727 * 1000 = 268,727,000$ individual 'postings' tuples\n",
    "\n",
    "> __c)__ The most frequent words are just common english terms with little indication of the semantic meaning/role for the words they are next to. They aren't very useful for synonym detection for that reason.\n",
    "\n",
    "> __d)__ The bottom words rarely occur in natural language and hence there is a limited set of words that show up around them. And the detected 'synonyms' might not be accurate since a lack of sample size of surrounding words. This is similar to the issue we ran into in Q4 where words with similar semantic role but opposite meaning were detected as synonyms for that reason"
   ]
  },
  {
   "cell_type": "code",
   "execution_count": 14,
   "metadata": {},
   "outputs": [],
   "source": [
    "# def splitwords(line):\n",
    "#         n_gram, count, page_count, book_count = line\n",
    "#         #initialize counter\n",
    "#         for word in n_gram.lower().split(' '):\n",
    "#             yield(word, int(count))"
   ]
  },
  {
   "cell_type": "code",
   "execution_count": 13,
   "metadata": {},
   "outputs": [],
   "source": [
    "# testRDD.map(lambda line: line.split('\\t')) \\\n",
    "#                 .flatMap(splitwords) \\\n",
    "#                 .collect()"
   ]
  },
  {
   "cell_type": "code",
   "execution_count": 40,
   "metadata": {},
   "outputs": [],
   "source": [
    "# part a - write your spark job here \n",
    "\n",
    "def EDA1(rdd, n):\n",
    "    total, top_n, bottom_n = None, None, None\n",
    "    ############# YOUR CODE HERE ###############\n",
    "    \n",
    "    #mapper to split word count\n",
    "    def splitwords(line):\n",
    "#         if len(line) == 4:\n",
    "        n_gram, count, page_count, book_count = line\n",
    "\n",
    "        for word in n_gram.lower().split(' '):\n",
    "            yield(word, int(count))\n",
    "    \n",
    "    #cache RDD with word and word counts\n",
    "    temp_rdd = rdd.map(lambda line: line.split('\\t')) \\\n",
    "                .flatMap(splitwords) \\\n",
    "                .reduceByKey(lambda x,y : x+y) \\\n",
    "                .cache()\n",
    "    \n",
    "    #total\n",
    "    total = temp_rdd.count()\n",
    "    \n",
    "    #top n\n",
    "    top_n = temp_rdd.takeOrdered(n, key = lambda x: -x[1])\n",
    "    \n",
    "    #bottom n\n",
    "    bottom_n = temp_rdd.takeOrdered(n, key = lambda x: x[1])\n",
    "    \n",
    "    ############# (END) YOUR CODE ##############\n",
    "    return total, top_n, bottom_n"
   ]
  },
  {
   "cell_type": "code",
   "execution_count": 18,
   "metadata": {},
   "outputs": [
    {
     "name": "stdout",
     "output_type": "stream",
     "text": [
      "Wall time: 3.525569438934326 seconds\n"
     ]
    }
   ],
   "source": [
    "# part a - run the system test (RUN THIS CELL AS IS... use display cell below to see results)\n",
    "start = time.time()\n",
    "vocab_size, most_frequent, least_frequent = EDA1(testRDD, 10)\n",
    "print(\"Wall time: {} seconds\".format(time.time() - start))"
   ]
  },
  {
   "cell_type": "code",
   "execution_count": 19,
   "metadata": {},
   "outputs": [
    {
     "name": "stdout",
     "output_type": "stream",
     "text": [
      "Wall time: 3.8829007148742676 seconds\n"
     ]
    }
   ],
   "source": [
    "# part a - run a single file (RUN THIS CELL AS IS)\n",
    "start = time.time()\n",
    "vocab_size, most_frequent, least_frequent = EDA1(f1RDD, 10)\n",
    "print(\"Wall time: {} seconds\".format(time.time() - start))"
   ]
  },
  {
   "cell_type": "code",
   "execution_count": 20,
   "metadata": {},
   "outputs": [
    {
     "name": "stdout",
     "output_type": "stream",
     "text": [
      "Wall time: 285.871741771698 seconds\n"
     ]
    }
   ],
   "source": [
    "## part a - run full analysis (RUN THIS CELL AS IS)\n",
    "start = time.time()\n",
    "vocab_size, most_frequent, least_frequent = EDA1(dataRDD, 10)\n",
    "print(\"Wall time: {} seconds\".format(time.time() - start))"
   ]
  },
  {
   "cell_type": "code",
   "execution_count": 30,
   "metadata": {},
   "outputs": [
    {
     "name": "stdout",
     "output_type": "stream",
     "text": [
      "Vocabulary Size: 269339\n",
      " ---- Top Words ----|--- Bottom Words ----\n",
      "     the 5490815394 |   schwetzingen  40\n",
      "      of 3698583299 |           cras  40\n",
      "      to 2227866570 |       parcival  40\n",
      "      in 1421312776 |          porti  40\n",
      "       a 1361123022 |    scribbler's  40\n",
      "     and 1149577477 |      washermen  40\n",
      "    that  802921147 |    viscerating  40\n",
      "      is  758328796 |         mildes  40\n",
      "      be  688707130 |      scholared  40\n",
      "      as  492170314 |       jaworski  40\n"
     ]
    }
   ],
   "source": [
    "# part a - display results (feel free to modify the formatting code if needed)\n",
    "print(\"Vocabulary Size:\", vocab_size)\n",
    "print(\" ---- Top Words ----|--- Bottom Words ----\")\n",
    "for (w1, c1), (w2, c2) in zip(most_frequent, least_frequent):\n",
    "    print(f\"{w1:>8} {c1:>10} |{w2:>15} {c2:>3}\")"
   ]
  },
  {
   "cell_type": "markdown",
   "metadata": {},
   "source": [
    "__Expected output:__  \n",
    "_(bottom words might vary a little due to ties)._\n",
    "<table>\n",
    "<th>Top Words</th>\n",
    "<th>Bottom Words</th>\n",
    "<tr><td><pre>\n",
    "the 5490815394\n",
    "of 3698583299\n",
    "to 2227866570\n",
    "in 1421312776\n",
    "a 1361123022\n",
    "and 1149577477\n",
    "that  802921147\n",
    "is  758328796\n",
    "be  688707130\n",
    "as  492170314\n",
    "</pre></td>\n",
    "<td><pre>\n",
    "foretastes  40\n",
    "parcival  40\n",
    "schwetzingen  40\n",
    "cras  40\n",
    " scholared  40\n",
    "scribbler's  40\n",
    "washermen  40\n",
    "viscerating  40\n",
    "unmurmuring  40\n",
    "mildes  40\n",
    "</pre></td></tr>\n",
    "</table>"
   ]
  },
  {
   "cell_type": "markdown",
   "metadata": {},
   "source": [
    "# Question 6: N-gram EDA part 2 (co-occurrences)\n",
    "\n",
    "The computational complexity of synonym analysis depends not only on the number of words, but also on the number of co-ocurrences each word has. In this question you'll take a closer look at that aspect of our data. As before, please test each job on small \"systems test\" (Dickens ngrams) file and on a single file from the Ngram dataset before running the full analysis.\n",
    "\n",
    "### Q6 Tasks:\n",
    "* __a) code:__ Write a spark job that computes:\n",
    "  * the number of unique neighbors (i.e. 5-gram co-occuring words) for each word in the vocabulary. \n",
    "  * the top 10 words with the most \"neighbors\"\n",
    "  * the bottom 10 words with least \"neighbors\"\n",
    "  * a random sample of 1% of the words' neighbor counts  \n",
    "  __`NOTE:`__ for the last item, please return only the counts and not the words -- we'll go on to use these in a plotting function that expects a list of integers.\n",
    "\n",
    "\n",
    "* __b) short response:__ Use the provided code to plot a histogram of the sampled list from `a`. Comment on the distribution you observe. How will this distribution affect our synonym detection analysis?\n",
    "\n",
    "* __c) code + short response:__ Write a Spark Job to compare the top/bottom words from Q5 and from part a. Specifically, what % of the 1000 most/least neighbors words also appear in the list of 1000 most/least frequent words. [__`NOTE:`__ _technically these lists are short enough to comparing in memory on your local machine but please design your Spark job as if we were potentially comparing much larger lists._]"
   ]
  },
  {
   "cell_type": "markdown",
   "metadata": {},
   "source": [
    "### Q6 Student Answers:\n",
    "\n",
    "> __b)__ Most words have very few neighbours, so the stripes of neighbours are very sparse. In the task of synonym detection, if two words with very few neighbors happen in the same sentence then their neighbors will have very high/Low overlap, causing inflated/deflated similarity coefficient (denomiators are small). This will skew their similarity since the calculations are based on very small sample size\n",
    "\n",
    "> __c)__ Out of the 1000 words that occur most frequently, 88% of them are also the 1000 words with the most neighbors. Out of the 1000 words the occur least frequently, only 1.9% of them overlap with the 1000 words with the least neighbors."
   ]
  },
  {
   "cell_type": "code",
   "execution_count": 30,
   "metadata": {},
   "outputs": [],
   "source": [
    "# part a - spark job\n",
    "def EDA2(rdd,n):\n",
    "    top_n, bottom_n, sampled_counts = None, None, None\n",
    "    ############# YOUR CODE HERE ###############\n",
    "    #mapper to count neighbors\n",
    "    def ListNeighbors (line):\n",
    "        n_gram, count, page_count, book_count = line\n",
    "        \n",
    "        #sort keys to reduce pairs to be shuffled\n",
    "        for subset in itertools.combinations(n_gram.lower().split(' '), 2):\n",
    "            if subset[0] < subset[1]:\n",
    "                yield (subset)\n",
    "            if subset[0] > subset[1]:\n",
    "                yield (subset[1], subset[0])\n",
    "    \n",
    "    #mapper to unwrap paired neighbours\n",
    "    def UnwrapNeighbours (neighbours):\n",
    "        \n",
    "        for i in range(2):\n",
    "            yield(neighbours[i], 1)\n",
    "            \n",
    "            \n",
    "    #main spark job here\n",
    "    temp_rdd = rdd.map(lambda line: line.split('\\t')) \\\n",
    "                    .flatMap(ListNeighbors) \\\n",
    "                    .distinct() \\\n",
    "                    .flatMap(UnwrapNeighbours) \\\n",
    "                    .reduceByKey(lambda x,y : x+y) \\\n",
    "                    .cache()    \n",
    "    \n",
    "    #top n\n",
    "    top_n = temp_rdd.takeOrdered(n, key = lambda x: -x[1])\n",
    "    \n",
    "    #bottom n\n",
    "    bottom_n = temp_rdd.takeOrdered(n, key = lambda x: x[1])\n",
    "    \n",
    "    #total, to be used in sample count\n",
    "    total = temp_rdd.count()\n",
    "    #sample count\n",
    "    sampled_counts = temp_rdd.map(lambda x: x[1]) \\\n",
    "                             .takeSample(True, int(0.01 *  total))\n",
    "    \n",
    "    ############# (END) YOUR CODE ##############\n",
    "    return top_n, bottom_n, sampled_counts"
   ]
  },
  {
   "cell_type": "code",
   "execution_count": 32,
   "metadata": {},
   "outputs": [
    {
     "name": "stdout",
     "output_type": "stream",
     "text": [
      "Wall time: 0.56217360496521 seconds\n"
     ]
    }
   ],
   "source": [
    "# part a - systems test (RUN THIS CELL AS IS)\n",
    "start = time.time()\n",
    "most_nbrs, least_nbrs, sample_counts = EDA2(testRDD, 10)\n",
    "print(\"Wall time: {} seconds\".format(time.time() - start))"
   ]
  },
  {
   "cell_type": "code",
   "execution_count": 33,
   "metadata": {},
   "outputs": [
    {
     "name": "stdout",
     "output_type": "stream",
     "text": [
      "Wall time: 13.287737131118774 seconds\n"
     ]
    }
   ],
   "source": [
    "# part a - single file test (RUN THIS CELL AS IS)\n",
    "start = time.time()\n",
    "most_nbrs, least_nbrs, sample_counts = EDA2(f1RDD, 10)\n",
    "print(\"Wall time: {} seconds\".format(time.time() - start))"
   ]
  },
  {
   "cell_type": "code",
   "execution_count": 34,
   "metadata": {},
   "outputs": [
    {
     "name": "stdout",
     "output_type": "stream",
     "text": [
      "Wall time: 1340.5784270763397 seconds\n"
     ]
    }
   ],
   "source": [
    "# part a - full data (RUN THIS CELL AS IS)\n",
    "start = time.time()\n",
    "most_nbrs, least_nbrs, sample_counts = EDA2(dataRDD, 10)\n",
    "print(\"Wall time: {} seconds\".format(time.time() - start))"
   ]
  },
  {
   "cell_type": "code",
   "execution_count": 35,
   "metadata": {},
   "outputs": [
    {
     "name": "stdout",
     "output_type": "stream",
     "text": [
      " --- Most Co-Words ---|--- Least Co-Words ----\n",
      "         the   164982 |          cococo    1\n",
      "          of   155708 |            inin    1\n",
      "         and   132814 |        charuhas    1\n",
      "          in   110615 |         ooooooo    1\n",
      "          to    94358 |           iiiii    1\n",
      "           a    89197 |          iiiiii    1\n",
      "          by    67266 |             cnj    1\n",
      "        with    65127 |            choh    1\n",
      "        that    61174 |             neg    1\n",
      "          as    60652 |      cococococo    1\n"
     ]
    }
   ],
   "source": [
    "# part a - display results (feel free to modify the formatting code if needed)\n",
    "print(\" --- Most Co-Words ---|--- Least Co-Words ----\")\n",
    "for (w1, c1), (w2, c2) in zip(most_nbrs, least_nbrs):\n",
    "    print(f\"{w1:>12} {c1:>8} |{w2:>16} {c2:>4}\")"
   ]
  },
  {
   "cell_type": "markdown",
   "metadata": {},
   "source": [
    "__Part a expected output:__  \n",
    "_(bottom words might vary a little due to ties)._\n",
    "<table>\n",
    "<th>Most Neighbors</th>\n",
    "<th>Least Neighbors</th>\n",
    "<tr><td><pre>\n",
    "the   164982 \n",
    "of   155708 \n",
    "and   132814 \n",
    "in   110615 \n",
    "to    94358 \n",
    "a    89197\n",
    "by    67266\n",
    "with    65127\n",
    "that    61174\n",
    "as    60652\n",
    "</pre></td>\n",
    "<td><pre>\n",
    "cococo    1\n",
    "inin    1\n",
    "charuhas    1\n",
    "ooooooo    1\n",
    "iiiii    1\n",
    "iiiiii    1\n",
    "cnj    1\n",
    "choh    1\n",
    "neg    1\n",
    "cococococo    1\n",
    "</pre></td></tr>\n",
    "</table>"
   ]
  },
  {
   "cell_type": "markdown",
   "metadata": {},
   "source": [
    "__`NOTE:`__ _before running the plotting code below, make sure that the variable_ `sample_counts` _points to the list generated in_ `part a`."
   ]
  },
  {
   "cell_type": "code",
   "execution_count": 36,
   "metadata": {},
   "outputs": [
    {
     "name": "stdout",
     "output_type": "stream",
     "text": [
      "NOTE: we'll exclude the 6 words with more than 6000 nbrs in this 2687 count sample.\n"
     ]
    },
    {
     "data": {
      "image/png": "[encoded data removed]",
      "text/plain": [
       "<Figure size 1080x360 with 2 Axes>"
      ]
     },
     "metadata": {},
     "output_type": "display_data"
    }
   ],
   "source": [
    "# part b - plot histogram (RUN THIS CELL AS IS - feel free to modify format)\n",
    "\n",
    "# removing extreme upper tail for a better visual\n",
    "counts = np.array(sample_counts)[np.array(sample_counts) < 6000]\n",
    "t = sum(np.array(sample_counts) > 6000)\n",
    "n = len(counts)\n",
    "print(\"NOTE: we'll exclude the %s words with more than 6000 nbrs in this %s count sample.\" % (t,n))\n",
    "\n",
    "# set up figure\n",
    "fig, (ax1, ax2) = plt.subplots(1,2, figsize = (15,5))\n",
    "\n",
    "# plot regular hist\n",
    "ax1.hist(counts, bins=50)\n",
    "ax1.set_title('Freqency of Number of Co-Words', color='0.1')\n",
    "ax1.set_facecolor('0.9')\n",
    "ax1.tick_params(axis='both', colors='0.1')\n",
    "ax1.grid(True)\n",
    "\n",
    "# plot log scale hist\n",
    "ax2.hist(counts, bins=50)\n",
    "ax2.set_title('(log)Freqency of Number of Co-Words', color='0.1')\n",
    "ax2.set_facecolor('0.9')\n",
    "ax2.tick_params(axis='both', colors='0.1')\n",
    "ax2.grid(True)\n",
    "plt.yscale('log')\n",
    "\n",
    "plt.show()"
   ]
  },
  {
   "cell_type": "code",
   "execution_count": 37,
   "metadata": {},
   "outputs": [],
   "source": [
    "# part c - spark job\n",
    "def compareRankings(rdd1, rdd2):\n",
    "    percent_overlap = None\n",
    "    ############# YOUR CODE HERE ###############\n",
    "    n = rdd1.count()\n",
    "    \n",
    "    overlap = rdd1.join(rdd2) \\\n",
    "                      .count()\n",
    "    \n",
    "    percent_overlap = overlap * 100 / n\n",
    "    \n",
    "    ############# (END) YOUR CODE ##############\n",
    "    return percent_overlap"
   ]
  },
  {
   "cell_type": "code",
   "execution_count": 41,
   "metadata": {},
   "outputs": [
    {
     "name": "stdout",
     "output_type": "stream",
     "text": [
      "Of the 1000 words with most neighbors, 88.0 percent are also in the list of 1000 most frequent words.\n",
      "Of the 1000 words with least neighbors, 1.9 percent are also in the list of 1000 least frequent words.\n"
     ]
    }
   ],
   "source": [
    "# part c - get lists for comparison (RUN THIS CELL AS IS...)\n",
    "# (... then change 'testRDD' to 'f1RDD'/'dataRDD' when ready)\n",
    "total, topWords, bottomWords = EDA1(dataRDD, 1000)\n",
    "topNbrs, bottomNbrs, sample_counts = EDA2(dataRDD, 1000)\n",
    "twRDD = sc.parallelize(topWords)\n",
    "bwRDD = sc.parallelize(bottomWords)\n",
    "tnRDD = sc.parallelize(topNbrs)\n",
    "bnRDD = sc.parallelize(bottomNbrs)\n",
    "top_overlap = compareRankings(tnRDD, twRDD)\n",
    "bottom_overlap = compareRankings(bnRDD,bwRDD)\n",
    "print(f\"Of the 1000 words with most neighbors, {top_overlap} percent are also in the list of 1000 most frequent words.\")\n",
    "print(f\"Of the 1000 words with least neighbors, {bottom_overlap} percent are also in the list of 1000 least frequent words.\")"
   ]
  },
  {
   "cell_type": "markdown",
   "metadata": {},
   "source": [
    "# Question 7: Basis Vocabulary & Stripes\n",
    "\n",
    "Every word that appears in our data is a potential feature for our synonym detection analysis. However as we've discussed, some are likely to be more useful than others. In this question, you'll choose a judicious subset of these words to form our 'basis vocabulary' (i.e. feature set). Practically speaking, this means that when we build our stripes, we are only going to keep track of when a term co-occurs with one of these basis words. \n",
    "\n",
    "\n",
    "### Q7 Tasks:\n",
    "* __a) short response:__ Suppose we were deciding between two different basis vocabularies: the 1000 most frequent words or the 1000 least frequent words. How would this choice impact the quality of the synonyms we are able to detect? How does this choice relate to the ideas of 'overfitting' or 'underfitting' a training set?\n",
    "\n",
    "* __b) short response:__ If we had a much larger dataset, computing the full ordered list of words would be extremely expensive. If we need to none-the-less get an estimate of word frequency in order to decide on a basis vocabulary (feature set), what alternative strategy could we take?\n",
    "\n",
    "* __c) code:__ Write a spark job that does the following:\n",
    "  * tokenizes, removes stopwords and computes a word count on the ngram data\n",
    "  * subsets the top 10000 words (these are the terms we'll consider as potential synonyms)\n",
    "  * subsets words 9000-9999 (this will be our 1000 word basis vocabulary)\n",
    "  * saves the full 10K word list and the 1K basis vocabulary to file for use in `d`.  \n",
    "  \n",
    "  __NOTE:__ _to ensure consistency in results please use only the provided list of stopwords._  \n",
    "  __NOTE:__ _as always, be sure to test your code on small files as you develop it._  \n",
    "\n",
    "* __d) code:__ Write a spark job that builds co-occurrence stripes for the top 10K words in the ngram data using the basis vocabulary you developed in `part c`. This job/function, unlike others so far, should return an RDD (which we will then use in q8)."
   ]
  },
  {
   "cell_type": "markdown",
   "metadata": {},
   "source": [
    "### Q7 Student Answers:\n",
    "> __a)__ If we choose the 1000 most frequent words, since most of them also have a lot of neighbors, most of the words to build stripes with will end up have stripes that contain a lot of these words. So the stripes are going to have more overlap but the high overlap might not be telling of their similarity. On the other hand, if we use the 1000 least frequent words as our vocabulary, the stripes are going to have much fewer overlaps. Choosing the 1000 most frequent words can be thought of underfitting with low variance but high bias. And choosing the 1000 least frequent words can be thought of overfitting with high varaince but lower bias.\n",
    "\n",
    "> __b)__ We can use a random sample of the corpus and use the word frequency order from the sample to estimate that of the whole dataset\n"
   ]
  },
  {
   "cell_type": "code",
   "execution_count": 7,
   "metadata": {},
   "outputs": [],
   "source": [
    "# part c - provided stopwords (RUN THIS CELL AS IS)\n",
    "STOPWORDS =  ['i', 'me', 'my', 'myself', 'we', 'our', 'ours', \n",
    "              'ourselves', 'you', 'your', 'yours', 'yourself', \n",
    "              'yourselves', 'he', 'him', 'his', 'himself', 'she', \n",
    "              'her', 'hers', 'herself', 'it', 'its', 'itself', \n",
    "              'they', 'them', 'their', 'theirs', 'themselves', \n",
    "              'what', 'which', 'who', 'whom', 'this', 'that', \n",
    "              'these', 'those', 'am', 'is', 'are', 'was', 'were', \n",
    "              'be', 'been', 'being', 'have', 'has', 'had', 'having', \n",
    "              'do', 'does', 'did', 'doing', 'a', 'an', 'the', 'and', \n",
    "              'but', 'if', 'or', 'because', 'as', 'until', 'while', \n",
    "              'of', 'at', 'by', 'for', 'with', 'about', 'against', \n",
    "              'between', 'into', 'through', 'during', 'before', \n",
    "              'after', 'above', 'below', 'to', 'from', 'up', 'down', \n",
    "              'in', 'out', 'on', 'off', 'over', 'under', 'again', \n",
    "              'further', 'then', 'once', 'here', 'there', 'when', \n",
    "              'where', 'why', 'how', 'all', 'any', 'both', 'each', \n",
    "              'few', 'more', 'most', 'other', 'some', 'such', 'no', \n",
    "              'nor', 'not', 'only', 'own', 'same', 'so', 'than', \n",
    "              'too', 'very', 'should', 'can', 'now', 'will', 'just', \n",
    "              'would', 'could', 'may', 'must', 'one', 'much', \"it's\",\n",
    "              \"can't\", \"won't\", \"don't\", \"shouldn't\", \"hasn't\"]"
   ]
  },
  {
   "cell_type": "code",
   "execution_count": 60,
   "metadata": {},
   "outputs": [],
   "source": [
    "# def splitwords(line):\n",
    "#     n_gram, count, page_count, book_count = line\n",
    "\n",
    "#     for word in n_gram.lower().split(' '):\n",
    "#         if word not in STOPWORDS:\n",
    "#             yield(word, int(count))"
   ]
  },
  {
   "cell_type": "code",
   "execution_count": 61,
   "metadata": {},
   "outputs": [],
   "source": [
    "# testRDD.map(lambda line: line.split('\\t')) \\\n",
    "#                 .flatMap(splitwords) \\\n",
    "#                 .reduceByKey(lambda x,y : x+y) \\\n",
    "#                 .takeOrdered(10, key = lambda x: -x[1]) \\\n",
    "#                 .top(2)"
   ]
  },
  {
   "cell_type": "code",
   "execution_count": 8,
   "metadata": {},
   "outputs": [],
   "source": [
    "# part c - spark job\n",
    "def get_vocab(rdd, n_total, n_basis):\n",
    "    vocab, basis = None, None\n",
    "    ############# YOUR CODE HERE ###############\n",
    "    \n",
    "    #create set for fast search\n",
    "    stopwords_set = set(STOPWORDS)\n",
    "    \n",
    "    #define mapper to tokenize, and ignore stopwords\n",
    "    def splitwords(line):\n",
    "        n_gram, count, page_count, book_count = line\n",
    "\n",
    "        for word in n_gram.lower().split(' '):\n",
    "            if word not in stopwords_set:\n",
    "                yield(word, int(count))\n",
    "    \n",
    "    # main spark job starts here\n",
    "    temp_vocab = rdd.map(lambda line: line.split('\\t')) \\\n",
    "                .flatMap(splitwords) \\\n",
    "                .reduceByKey(lambda x,y : x+y) \\\n",
    "                .takeOrdered(n_total, key = lambda x: -x[1]) \\\n",
    "    \n",
    "    # subset vocab\n",
    "    vocab = [x[0] for x in temp_vocab]\n",
    "    \n",
    "    # subset basis\n",
    "    basis = vocab[(n_total - n_basis):]\n",
    "\n",
    "    ############# (END) YOUR CODE ##############\n",
    "    return vocab, basis"
   ]
  },
  {
   "cell_type": "code",
   "execution_count": 74,
   "metadata": {},
   "outputs": [],
   "source": [
    "# part c - run your job (replace 'testRDD' with 'f1RDD'/'dataRDD' when ready)\n",
    "VOCAB, BASIS = get_vocab(dataRDD, 10000, 1000)"
   ]
  },
  {
   "cell_type": "code",
   "execution_count": 75,
   "metadata": {},
   "outputs": [],
   "source": [
    "# part c - save to file (RUN THIS CELL AS IS)\n",
    "with open(\"vocabulary.txt\", \"w\") as file:\n",
    "    file.write(str(VOCAB))\n",
    "with open(\"basis.txt\", \"w\") as file:\n",
    "    file.write(str(BASIS))"
   ]
  },
  {
   "cell_type": "code",
   "execution_count": 9,
   "metadata": {},
   "outputs": [],
   "source": [
    "# part d - spark job\n",
    "def buildStripes(rdd, vocab, basis):\n",
    "    stripesRDD = None\n",
    "    ############# YOUR CODE HERE ###############\n",
    "    \n",
    "    #create sets for vocab and basis for faster search\n",
    "    vocab_set = set(vocab)\n",
    "    basis_set = set(basis)\n",
    "    \n",
    "    #mapper\n",
    "    def splitstripes (line):\n",
    "        n_gram, count, page_count, book_count = line\n",
    "        \n",
    "        #collect terms that are in the vocab or basis\n",
    "        trimmed_ngram = [x for x in n_gram.lower().split(' ') if (x in vocab_set) | (x in basis_set)]\n",
    "        \n",
    "        #yield (vocab, basis)\n",
    "        if len(trimmed_ngram) > 1:\n",
    "            for subset in itertools.permutations(trimmed_ngram, 2):\n",
    "                if subset[0] != subset[1]:\n",
    "                    if subset[0] in vocab_set:\n",
    "                        if subset[1] in basis_set:\n",
    "                            yield (subset)\n",
    "                            \n",
    "    # main spark job starts here            \n",
    "    stripesRDD = rdd.map(lambda line: line.split('\\t')) \\\n",
    "                    .flatMap(splitstripes) \\\n",
    "                    .distinct() \\\n",
    "                    .map(lambda x: (x[0], [x[1]])) \\\n",
    "                    .reduceByKey(lambda x,y : x+y)\n",
    "    \n",
    "    ############# (END) YOUR CODE ##############\n",
    "    return stripesRDD"
   ]
  },
  {
   "cell_type": "code",
   "execution_count": 10,
   "metadata": {},
   "outputs": [
    {
     "name": "stdout",
     "output_type": "stream",
     "text": [
      "Wall time: 0.29703664779663086 seconds\n"
     ]
    }
   ],
   "source": [
    "# part d - run your systems test (RUN THIS CELL AS IS)\n",
    "VOCAB, BASIS = get_vocab(testRDD, 10, 10)\n",
    "testStripesRDD = buildStripes(testRDD, VOCAB, BASIS)\n",
    "start = time.time()\n",
    "testStripesRDD.top(10)\n",
    "print(\"Wall time: {} seconds\".format(time.time() - start))"
   ]
  },
  {
   "cell_type": "code",
   "execution_count": 28,
   "metadata": {},
   "outputs": [
    {
     "name": "stdout",
     "output_type": "stream",
     "text": [
      "Wall time: 1.4823389053344727 seconds\n"
     ]
    }
   ],
   "source": [
    "# part d - run your single file test (RUN THIS CELL AS IS)\n",
    "VOCAB = ast.literal_eval(open(\"vocabulary.txt\", \"r\").read())\n",
    "BASIS = ast.literal_eval(open(\"basis.txt\", \"r\").read())\n",
    "f1StripesRDD = buildStripes(f1RDD, VOCAB, BASIS)\n",
    "start = time.time()\n",
    "f1StripesRDD.top(5)\n",
    "print(\"Wall time: {} seconds\".format(time.time() - start))"
   ]
  },
  {
   "cell_type": "code",
   "execution_count": 12,
   "metadata": {},
   "outputs": [],
   "source": [
    "# part d - run the full analysis (RUN THIS CELL AS IS)\n",
    "VOCAB = ast.literal_eval(open(\"vocabulary.txt\", \"r\").read())\n",
    "BASIS = ast.literal_eval(open(\"basis.txt\", \"r\").read())\n",
    "stripesRDD = buildStripes(dataRDD, VOCAB, BASIS).cache()"
   ]
  },
  {
   "cell_type": "code",
   "execution_count": 19,
   "metadata": {},
   "outputs": [
    {
     "name": "stdout",
     "output_type": "stream",
     "text": [
      "zones\n",
      "['gaza', 'remotest', 'adhesion', 'residential', 'subdivided', 'warmer', 'environments', 'saturation', 'localities', 'parks', 'uppermost', 'buffer']\n",
      "-------\n",
      "zone\n",
      "['intervening', 'uppermost', 'au', 'masculine', 'trigger', 'originate', 'residential', 'traversed', 'unusually', 'articular', 'avoidance', 'americas', 'parked', 'auxiliary', 'guides', 'poorly', 'excitation', 'flexor', 'atlas', 'contamination', 'cartilage', 'fibrous', 'tribal', 'vomiting', 'sandy', 'ie', 'alaska', 'glowing', 'illuminated', 'penis', 'accumulate', 'assisting', 'saturation', 'penetrating', 'persia', 'southeastern', 'defines', 'diffuse', 'buffer', 'inorganic', 'turbulent', 'cracks', 'subdivided', 'officially', 'transitional', 'narrower']\n",
      "-------\n",
      "zinc\n",
      "['weighing', 'ammonium', 'dysfunction', \"alzheimer's\", 'pancreas', 'dipped', 'radioactive', 'dietary', 'coating', 'phosphorus', 'insoluble', 'burns', 'leukemia', 'wasting', 'metallic', 'transcription', 'hydroxide', 'diamond']\n",
      "-------\n",
      "Wall time: 201.78935980796814 seconds\n"
     ]
    }
   ],
   "source": [
    "# part d - take a look at a few stripes (RUN THIS CELL AS IS)\n",
    "start = time.time()\n",
    "for wrd, stripe in stripesRDD.top(3):\n",
    "    print(wrd)\n",
    "    print(list(stripe))\n",
    "    print('-------')\n",
    "print(\"Wall time: {} seconds\".format(time.time() - start))"
   ]
  },
  {
   "cell_type": "code",
   "execution_count": 25,
   "metadata": {},
   "outputs": [],
   "source": [
    "# part d - save your full stripes to file for ease of retrival later... (OPTIONAL)\n",
    "!rm -r stripes\n",
    "stripesRDD.saveAsTextFile(PWD + '/stripes')"
   ]
  },
  {
   "cell_type": "markdown",
   "metadata": {},
   "source": [
    "# Question 8: Synonym Detection\n",
    "\n",
    "We're now ready to perform the main synonym detection analysis. In the tasks below you will compute cosine, jaccard, dice and overlap similarity measurements for each pair of words in our vocabulary and then sort your results to find the most similar pairs of words in this dataset. __`IMPORTANT:`__ When you get to the sorting step please __sort on cosine similarity__ only, so that we can ensure consistent results from student to student. \n",
    "\n",
    "Remember to test each step of your work with the small files before running your code on the full dataset. This is a computationally intense task: well designed code can be the difference between a 20min job and a 2hr job. __`NOTE:`__ _as you are designing your code you may want to review questions 3 and 4 where we modeled some of the key pieces of this analysis._\n",
    "\n",
    "### Q8 Tasks:\n",
    "* __a) short response:__ In question 7 you wrote a function that would create word stripes for each `term` in our vocabulary. These word stripes are essentially an 'embedded representation' of the `term`'s meaning. What is the 'feature space' for this representation? (i.e. what are the features of our 1-hot encoded vectors?). What is the maximum length of a stripe?\n",
    "\n",
    "* __b) short response:__ Remember that we are going to treat these stripes as 'documents' and perform similarity analysis on them. The first step is to emit postings which then get collected to form an 'inverted index.' How many entries will there be in our inverted index? Explain.\n",
    "\n",
    "* __c) short response:__ In the demo from question 2, we were able to compute the cosine similarity directly from the stripes (we did this using their vector form, but could have used the list instead). So why do we need the inverted index? (__`HINT:`__ _see your answer to Q4a & Q4b_)\n",
    "\n",
    "* __d) code:__ Write a spark job that does the following:\n",
    "  * loops over the stripes from Q7 and emits postings for the `term` (_remember stripe = document_)\n",
    "  * aggregates the postings to create an inverted index\n",
    "  * loops over all pairs of `term`s that appear in the same inverted index and emits co-occurrence counts\n",
    "  * aggregates co-occurrences\n",
    "  * uses the counts (along with the accompanying information) to compute the cosine, jacard, dice and overlap similarity metrics for each pair of words in the vocabulary \n",
    "  * retrieve the top 20 and bottom 20 most/least similar pairs of words\n",
    "  * also returned the cached sorted RDD for use in the next question  \n",
    "  __`NOTE 1`:__ _Don't forget to include the stripe length when you are creating the postings & co-occurrence pairs. A composite key is the way to go here._  \n",
    "  __`NOTE 2`:__ _Please make sure that your final results are sorted according to cosine similarity otherwise your results may not match the expected result & you will be marked wrong._\n",
    "  \n",
    "* __e) code:__ Comment on the quality of the \"synonyms\" your analysis comes up with. Do you notice anything odd about these pairs of words? Discuss at least one idea for how you might go about improving on the analysis."
   ]
  },
  {
   "cell_type": "markdown",
   "metadata": {},
   "source": [
    "### Q8 Student Answers:\n",
    "> __a)__ The feature space is the 1000 words in the basis. The maximum length is 1000 for a stripe\n",
    "\n",
    "> __b)__ There will be two entries and in the form of <word, [(document, length of document stripe]]>\n",
    "\n",
    "> __c)__ With the inverted index, we have information on for any given word in the basis, or feature space, which documents contain this word and how long these documents are. We can then construct composite keys that contain information about which two documents have an overlapped word and the values can then be combined to compute the number of overlapped words in any two documents. And with the length of words (for each document) that are stored in the keys, Jaccard and Cosine similarity can be calculated\n",
    "\n",
    "> __e)__ Many detected asynonyms seemed to be words that occur **right next to** each other in natural language, and hence high number of overlapping neighbors. One way to improve this: when we look at the stripes of neighbors, we can only look at every other neighbor that the word has. So that the two words that are next to each other would have a different set of neighbors. \n",
    "\n",
    "> For example, for a sentence \"i had a great time, how about you?\", for word 'great' and 'time', they will get the following stripes\n",
    "\n",
    ">> great - (had, how, you)\n",
    "\n",
    ">> time - (i, a, about)\n"
   ]
  },
  {
   "cell_type": "code",
   "execution_count": 13,
   "metadata": {},
   "outputs": [],
   "source": [
    "# helper function for pretty printing (RUN THIS CELL AS IS)\n",
    "def displayOutput(lines):\n",
    "    template = \"{:25}|{:6}, {:7}, {:7}, {:5}\"\n",
    "    print(template.format(\"Pair\", \"Cosine\", \"Jaccard\", \"Overlap\", \"Dice\"))\n",
    "    for pair, scores in lines:\n",
    "        scores = [round(s,4) for s in scores]\n",
    "        print(template.format(pair, *scores))"
   ]
  },
  {
   "cell_type": "markdown",
   "metadata": {},
   "source": [
    "__`TIP:`__ Feel free to define helper functions within the main function to help you organize your code. Readability is important! Eg:\n",
    "```\n",
    "def similarityAnlysis(stripesRDD):\n",
    "    \"\"\"main docstring\"\"\"\n",
    "    \n",
    "    simScoresRDD, top_n, bottom_n = None, None, None\n",
    "    \n",
    "    ############ YOUR CODE HERE ###########\n",
    "    def helper1():\n",
    "        \"\"\"helper docstring\"\"\"\n",
    "        return x\n",
    "        \n",
    "    def helper2():\n",
    "        \"\"\"helper docstring\"\"\"\n",
    "        return x\n",
    "        \n",
    "    # main spark job starts here\n",
    "    \n",
    "        ...etc\n",
    "    ############ (END) YOUR CODE ###########\n",
    "    return simScoresRDD, top_n, bottom_n\n",
    "```\n"
   ]
  },
  {
   "cell_type": "code",
   "execution_count": 39,
   "metadata": {},
   "outputs": [],
   "source": [
    "# part d - write your spark job in the space provided\n",
    "import math\n",
    "\n",
    "def similarityAnalysis(stripesRDD, n):\n",
    "    \"\"\"\n",
    "    This function defines a Spark DAG to compute cosine, jaccard, \n",
    "    overlap and dice scores for each pair of words in the stripes\n",
    "    provided. \n",
    "    \n",
    "    Output: an RDD, a list of top n, a list of bottom n\n",
    "    \"\"\"\n",
    "    simScoresRDD, top_n, bottom_n = None, None, None\n",
    "    \n",
    "    ############## YOUR CODE HERE ################\n",
    "    \n",
    "    def splitWords(pair):\n",
    "        \"\"\"Mapper: tokenize each document and emit postings.\"\"\"\n",
    "        doc, words = pair\n",
    "        for w in words:\n",
    "            yield (w, [(doc,len(words))])\n",
    "    \n",
    "   \n",
    "    def makeCompositeKey(inverted_index):\n",
    "        \"\"\"Mapper: loop over postings and yield pairs.\"\"\"\n",
    "        word, postings = inverted_index\n",
    "        # taking advantage of symmetry, output only (a,b), but not (b,a)\n",
    "        for subset in itertools.combinations(sorted(postings), 2):\n",
    "            yield (str(subset), 1)\n",
    "\n",
    "            \n",
    "    def similarityCalc(line):\n",
    "        \"\"\"Mapper: compute jaccard similarity scores\"\"\"\n",
    "        (doc1, n1), (doc2, n2) = ast.literal_eval(line[0])\n",
    "        total = int(line[1])\n",
    "        cosine = total / math.sqrt(float(int(n1)*int(n2)))\n",
    "        jaccard = total / float(int(n1) + int(n2) - total)\n",
    "        overlap = total / float(min(int(n1), int(n2)))\n",
    "        dice = 2 * total / float(int(n1) + int(n2))\n",
    "    \n",
    "        yield (doc1+\" - \"+doc2, cosine, jaccard, overlap, dice)\n",
    "\n",
    "    # main spark job here\n",
    "    \n",
    "    result = stripesRDD.flatMap(splitWords) \\\n",
    "             .reduceByKey(lambda x,y : x+y) \\\n",
    "             .flatMap(makeCompositeKey) \\\n",
    "             .reduceByKey(lambda x,y : x+y) \\\n",
    "             .flatMap(similarityCalc) \\\n",
    "             .cache()\n",
    "    \n",
    "    #generate top_n list\n",
    "    top_n_raw = result.takeOrdered(n, key=lambda x: -x[1])\n",
    "    top_n = [(x[0], [x[1], x[2], x[3], x[4]]) for x in top_n_raw]\n",
    "    \n",
    "    #generate bottom_n list\n",
    "    bottom_n_raw = result.takeOrdered(n, key=lambda x: x[1])\n",
    "    bottom_n = [(x[0], [x[1], x[2], x[3], x[4]]) for x in bottom_n_raw]                 \n",
    "    \n",
    "    ############### (END) YOUR CODE ##############\n",
    "    return result, top_n, bottom_n"
   ]
  },
  {
   "cell_type": "code",
   "execution_count": null,
   "metadata": {},
   "outputs": [],
   "source": [
    "# result = stripesRDD.flatMap(splitWords) \\\n",
    "#              .reduceByKey(lambda x,y : x+y) \\\n",
    "#              .flatMap(makeCompositeKey) \\\n",
    "#              .reduceByKey(lambda x,y : x+y) \\\n",
    "#              .flatMap(similarityCalc) \\\n",
    "#              .collect()\n",
    "# result"
   ]
  },
  {
   "cell_type": "code",
   "execution_count": 40,
   "metadata": {},
   "outputs": [
    {
     "name": "stdout",
     "output_type": "stream",
     "text": [
      "Wall time: 0.5785262584686279 seconds\n"
     ]
    }
   ],
   "source": [
    "# part d - run the system test (RUN THIS CELL AS IS... use display cell below to see results)\n",
    "start = time.time()\n",
    "testResult, top_n, bottom_n = similarityAnalysis(testStripesRDD, 10)\n",
    "print(\"Wall time: {} seconds\".format(time.time() - start))"
   ]
  },
  {
   "cell_type": "code",
   "execution_count": 41,
   "metadata": {},
   "outputs": [
    {
     "name": "stdout",
     "output_type": "stream",
     "text": [
      "Wall time: 1.0265350341796875 seconds\n"
     ]
    }
   ],
   "source": [
    "# part d - run the system test (RUN THIS CELL AS IS... use display cell below to see results)\n",
    "start = time.time()\n",
    "f1Result, top_n, bottom_n = similarityAnalysis(f1StripesRDD, 10)\n",
    "print(\"Wall time: {} seconds\".format(time.time() - start))"
   ]
  },
  {
   "cell_type": "code",
   "execution_count": 44,
   "metadata": {},
   "outputs": [
    {
     "name": "stdout",
     "output_type": "stream",
     "text": [
      "Wall time: 945.2309422492981 seconds\n"
     ]
    }
   ],
   "source": [
    "# part d - run the system test (RUN THIS CELL AS IS... use display cell below to see results)\n",
    "start = time.time()\n",
    "result, top_n, bottom_n = similarityAnalysis(stripesRDD, 20)\n",
    "print(\"Wall time: {} seconds\".format(time.time() - start))"
   ]
  },
  {
   "cell_type": "code",
   "execution_count": 45,
   "metadata": {},
   "outputs": [
    {
     "name": "stdout",
     "output_type": "stream",
     "text": [
      "MOST SIMILAR:\n",
      "Pair                     |Cosine, Jaccard, Overlap, Dice \n",
      "first - time             |  0.89,  0.8012,  0.9149, 0.8897\n",
      "time - well              |0.8895,   0.801,   0.892, 0.8895\n",
      "great - time             | 0.875,  0.7757,   0.925, 0.8737\n",
      "part - well              | 0.874,  0.7755,  0.9018, 0.8735\n",
      "first - well             |0.8717,  0.7722,  0.8936, 0.8715\n",
      "part - time              |0.8715,  0.7715,  0.9018, 0.871\n",
      "time - upon              |0.8668,   0.763,  0.9152, 0.8656\n",
      "made - time              | 0.866,  0.7619,  0.9109, 0.8649\n",
      "made - well              |0.8601,  0.7531,  0.9022, 0.8592\n",
      "time - way               |0.8587,  0.7487,  0.9259, 0.8563\n",
      "great - well             |0.8526,  0.7412,  0.8988, 0.8514\n",
      "time - two               |0.8517,  0.7389,  0.9094, 0.8498\n",
      "first - great            |0.8497,  0.7381,  0.8738, 0.8493\n",
      "first - part             |0.8471,  0.7348,  0.8527, 0.8471\n",
      "great - upon             |0.8464,  0.7338,  0.8475, 0.8464\n",
      "upon - well              |0.8444,   0.729,   0.889, 0.8433\n",
      "new - time               |0.8426,   0.724,  0.9133, 0.8399\n",
      "first - two              |0.8411,  0.7249,  0.8737, 0.8405\n",
      "way - well               |0.8357,  0.7146,  0.8986, 0.8335\n",
      "time - us                |0.8357,  0.7105,  0.9318, 0.8308\n",
      "\n",
      "LEAST SIMILAR:\n",
      "Pair                     |Cosine, Jaccard, Overlap, Dice \n",
      "region - write           |0.0067,  0.0032,  0.0085, 0.0065\n",
      "relation - snow          |0.0067,  0.0026,  0.0141, 0.0052\n",
      "cardiac - took           |0.0074,  0.0023,  0.0217, 0.0045\n",
      "ever - tumor             |0.0076,   0.002,  0.0263, 0.004\n",
      "came - tumor             |0.0076,   0.002,  0.0263, 0.004\n",
      "let - therapy            |0.0076,   0.003,  0.0161, 0.0059\n",
      "related - stay           |0.0078,  0.0036,  0.0116, 0.0072\n",
      "factors - hear           |0.0078,  0.0039,  0.0094, 0.0077\n",
      "implications - round     |0.0078,  0.0033,  0.0145, 0.0066\n",
      "came - proteins          |0.0079,   0.002,  0.0286, 0.0041\n",
      "population - window      |0.0079,  0.0039,    0.01, 0.0077\n",
      "love - proportional      | 0.008,  0.0029,  0.0185, 0.0058\n",
      "got - multiple           | 0.008,  0.0034,  0.0149, 0.0067\n",
      "changes - fort           |0.0081,  0.0032,  0.0161, 0.0065\n",
      "layer - wife             |0.0081,  0.0038,  0.0119, 0.0075\n",
      "five - sympathy          |0.0081,  0.0034,  0.0149, 0.0068\n",
      "arrival - essential      |0.0081,   0.004,  0.0093, 0.008\n",
      "desert - function        |0.0081,  0.0031,  0.0175, 0.0062\n",
      "fundamental - stood      |0.0081,  0.0038,  0.0115, 0.0077\n",
      "patients - plain         |0.0081,   0.004,  0.0103, 0.0079\n"
     ]
    }
   ],
   "source": [
    "# part d - display the results (RUN THIS CELL AS IS)\n",
    "print(\"MOST SIMILAR:\")\n",
    "displayOutput(top_n)\n",
    "print(\"\")\n",
    "print(\"LEAST SIMILAR:\")\n",
    "displayOutput(bottom_n)"
   ]
  },
  {
   "cell_type": "markdown",
   "metadata": {},
   "source": [
    "__Expected output:__  \n",
    "<table>\n",
    "<th>Most Similar</th>\n",
    "<th>Least Similar</th>\n",
    "<tr><td><pre>\n",
    "Pair           |Cosine, Jaccard, Overlap, Dice \n",
    "first - time   |  0.89,  0.8012,  0.9149, 0.8897\n",
    "time - well    |0.8895,   0.801,   0.892, 0.8895\n",
    "great - time   | 0.875,  0.7757,   0.925, 0.8737\n",
    "part - well    | 0.874,  0.7755,  0.9018, 0.8735\n",
    "first - well   |0.8717,  0.7722,  0.8936, 0.8715\n",
    "part - time    |0.8715,  0.7715,  0.9018, 0.871\n",
    "time - upon    |0.8668,   0.763,  0.9152, 0.8656\n",
    "made - time    | 0.866,  0.7619,  0.9109, 0.8649\n",
    "made - well    |0.8601,  0.7531,  0.9022, 0.8592\n",
    "time - way     |0.8587,  0.7487,  0.9259, 0.8563\n",
    "great - well   |0.8526,  0.7412,  0.8988, 0.8514\n",
    "time - two     |0.8517,  0.7389,  0.9094, 0.8498\n",
    "first - great  |0.8497,  0.7381,  0.8738, 0.8493\n",
    "first - part   |0.8471,  0.7348,  0.8527, 0.8471\n",
    "great - upon   |0.8464,  0.7338,  0.8475, 0.8464\n",
    "upon - well    |0.8444,   0.729,   0.889, 0.8433\n",
    "new - time     |0.8426,   0.724,  0.9133, 0.8399\n",
    "first - two    |0.8411,  0.7249,  0.8737, 0.8405\n",
    "way - well     |0.8357,  0.7146,  0.8986, 0.8335\n",
    "time - us      |0.8357,  0.7105,  0.9318, 0.8308\n",
    "</pre></td>\n",
    "<td><pre>\n",
    "Pair                  |Cosine, Jaccard, Overlap, Dice \n",
    "region - write        |0.0067,  0.0032,  0.0085, 0.0065\n",
    "relation - snow       |0.0067,  0.0026,  0.0141, 0.0052\n",
    "cardiac - took        |0.0074,  0.0023,  0.0217, 0.0045\n",
    "ever - tumor          |0.0076,   0.002,  0.0263, 0.004\n",
    "came - tumor          |0.0076,   0.002,  0.0263, 0.004\n",
    "let - therapy         |0.0076,   0.003,  0.0161, 0.0059\n",
    "related - stay        |0.0078,  0.0036,  0.0116, 0.0072\n",
    "factors - hear        |0.0078,  0.0039,  0.0094, 0.0077\n",
    "implications - round  |0.0078,  0.0033,  0.0145, 0.0066\n",
    "came - proteins       |0.0079,   0.002,  0.0286, 0.0041\n",
    "population - window   |0.0079,  0.0039,    0.01, 0.0077\n",
    "love - proportional   | 0.008,  0.0029,  0.0185, 0.0058\n",
    "got - multiple        | 0.008,  0.0034,  0.0149, 0.0067\n",
    "changes - fort        |0.0081,  0.0032,  0.0161, 0.0065\n",
    "layer - wife          |0.0081,  0.0038,  0.0119, 0.0075\n",
    "five - sympathy       |0.0081,  0.0034,  0.0149, 0.0068\n",
    "arrival - essential   |0.0081,   0.004,  0.0093, 0.008\n",
    "desert - function     |0.0081,  0.0031,  0.0175, 0.0062\n",
    "fundamental - stood   |0.0081,  0.0038,  0.0115, 0.0077\n",
    "patients - plain      |0.0081,   0.004,  0.0103, 0.0079\n",
    "</pre></td></tr>\n",
    "</table>"
   ]
  },
  {
   "cell_type": "markdown",
   "metadata": {},
   "source": [
    "### Congratulations, you've completed HW3! Please see the readme file for submission instructions."
   ]
  }
 ],
 "metadata": {
  "kernelspec": {
   "display_name": "Python 3",
   "language": "python",
   "name": "python3"
  },
  "language_info": {
   "codemirror_mode": {
    "name": "ipython",
    "version": 3
   },
   "file_extension": ".py",
   "mimetype": "text/x-python",
   "name": "python",
   "nbconvert_exporter": "python",
   "pygments_lexer": "ipython3",
   "version": "3.6.4"
  },
  "toc": {
   "colors": {
    "hover_highlight": "#DAA520",
    "running_highlight": "#FF0000",
    "selected_highlight": "#FFD700"
   },
   "moveMenuLeft": true,
   "nav_menu": {
    "height": "441px",
    "width": "252px"
   },
   "navigate_menu": true,
   "number_sections": true,
   "sideBar": true,
   "threshold": 4,
   "toc_cell": true,
   "toc_position": {
    "height": "827px",
    "left": "0px",
    "right": "1125px",
    "top": "107px",
    "width": "428px"
   },
   "toc_section_display": "block",
   "toc_window_display": true
  }
 },
 "nbformat": 4,
 "nbformat_minor": 2
}
